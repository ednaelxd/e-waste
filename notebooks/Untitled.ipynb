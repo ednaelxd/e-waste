{
 "cells": [
  {
   "cell_type": "markdown",
   "id": "ed97c15b-544c-44ab-be05-d326fb56f49f",
   "metadata": {},
   "source": [
    "# Approaches"
   ]
  },
  {
   "cell_type": "markdown",
   "id": "8b99afe5-b38e-40ab-86e0-9d350fe4473e",
   "metadata": {},
   "source": [
    "## 1. Pro SBPO\n",
    "- Estatística descritiva\n",
    "- Análise de correspondência simples"
   ]
  },
  {
   "cell_type": "markdown",
   "id": "59f5f453-a3d0-4bbc-bbcc-f711addf6df3",
   "metadata": {},
   "source": [
    "## 2. DINAMARCA - Análise sem comparativos\n",
    "- que tipo de estrategia são priorizadas pela dinamarca, com métodos diferentes\n",
    " - RankingPonderado\n",
    " - MCDM vs DS\n",
    " \n",
    "## 3. Realizar análise fatorial para rankear os países\n",
    "- Análise de correspondência: avaliar correlações entre categóricas\n",
    "    - Simples e Múltipla\n",
    "    - Mapa Perceptual\n",
    "    - Does the hospital administration has sufficient knowledge about the application of the EMS under ISO 14001: 2015 standards\n",
    "- Análise de conglomerados\n",
    "- Análises para variáveis categóricas - como Cramers'V; testes pra proporção\n",
    "- Qual país tem maior preocupação acerca do descarte correto dos residuos?\n",
    "    - Evitar ponderação arbitrária:"
   ]
  }
 ],
 "metadata": {
  "kernelspec": {
   "display_name": "Python 3 (ipykernel)",
   "language": "python",
   "name": "python3"
  },
  "language_info": {
   "codemirror_mode": {
    "name": "ipython",
    "version": 3
   },
   "file_extension": ".py",
   "mimetype": "text/x-python",
   "name": "python",
   "nbconvert_exporter": "python",
   "pygments_lexer": "ipython3",
   "version": "3.11.2"
  }
 },
 "nbformat": 4,
 "nbformat_minor": 5
}
