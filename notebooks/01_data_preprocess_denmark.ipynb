{
 "cells": [
  {
   "cell_type": "code",
   "execution_count": 218,
   "id": "f15e2104-9f0a-4a58-9eba-a12f498b6631",
   "metadata": {},
   "outputs": [],
   "source": [
    "import pandas as pd\n",
    "from matplotlib import pyplot as plt\n",
    "import seaborn as sns"
   ]
  },
  {
   "cell_type": "code",
   "execution_count": 219,
   "id": "bdf08856-0905-4469-9ce1-ef1fb0f36ba2",
   "metadata": {},
   "outputs": [],
   "source": [
    "df = pd.read_csv('C:/Users/ednae/Documents/Repositórios/e-waste/data/processed/dados_den_tratados.csv',index_col=[0])"
   ]
  },
  {
   "cell_type": "code",
   "execution_count": 220,
   "id": "a431ee37-b959-428f-ae03-83cee6e08be9",
   "metadata": {},
   "outputs": [],
   "source": [
    "df.rename(columns={'The strategies towards a circular economy will be evaluated under a set of criteria/indicators, which are considered qualitative because they cover multiple dimensions and subjectivity (environmental, social, and economic). For this purpose, we elaborated on the Likert-type scales, ranging from 1 (2est level) to 5 (4est level).  Please evaluate each strategy giving your evaluation under this scale (1-5). The fol2ing sections of the questionnaire will ask you about your \"perception\" of how much this strategy contributes to the transition towards a circular economy, in macro-level. Then,  you should indicate your opinion based on the scale like the one presented be2. ':'explanation'},inplace=True)"
   ]
  },
  {
   "cell_type": "code",
   "execution_count": 221,
   "id": "24ba2bb3-009a-482d-9daa-fa9d6882f2bf",
   "metadata": {},
   "outputs": [],
   "source": [
    "df.reset_index(drop=True,inplace=True)"
   ]
  },
  {
   "cell_type": "code",
   "execution_count": 252,
   "id": "936818bf-dce0-4528-88da-b56634dc3c5a",
   "metadata": {},
   "outputs": [
    {
     "data": {
      "text/plain": [
       "Index(['Local', 'Do you act directly with the circular economy?',\n",
       "       'Self knowledge about circular economy',\n",
       "       'What is your segment of acting?',\n",
       "       'What sector does your organization operate in?', 'company_size',\n",
       "       'How do you describe your position in your organization?',\n",
       "       'Do you like to leave any comment?'],\n",
       "      dtype='object')"
      ]
     },
     "execution_count": 252,
     "metadata": {},
     "output_type": "execute_result"
    }
   ],
   "source": [
    "df.columns[-8:]"
   ]
  },
  {
   "cell_type": "markdown",
   "id": "21e4f281-c2c1-4f33-a26f-40904bc59835",
   "metadata": {},
   "source": [
    "## Roteiro - Por variável de descrição\n",
    "- Realização de ajustes necessários\n",
    "- Traçar o perfil dos entrevistados\n",
    "- Lista de colunas:\n",
    "    - Local\n",
    "    - Do you act directly with the circular economy?\n",
    "    - What is your segment of acting?\n",
    "    - What sector does your organization operate in?\n",
    "    - company_size\n",
    "    - How do you describe your position in your organization?\n",
    "    - Do you like to leave any comment?\n",
    "## Responder as questões:\n",
    "    - Existe diferença de conhecimento acerca da EC entre pessoas pertencentes a distintas áreas de atuação? \n",
    "    - Quem tende a conhecer mais acerca do assunto?\n",
    "    - Quem tende a conhecer menos sobre o assunto?\n",
    "    - Que estratégias são priorizadas pela dinamarca?"
   ]
  },
  {
   "cell_type": "markdown",
   "id": "dab92a53-2fb1-4372-813e-8d77518a385a",
   "metadata": {
    "tags": []
   },
   "source": [
    "### `Coluna: Descrição dos trabalhos`"
   ]
  },
  {
   "cell_type": "code",
   "execution_count": 222,
   "id": "41b39c62-82e4-4fcb-8e80-249d33e41fbf",
   "metadata": {},
   "outputs": [
    {
     "data": {
      "text/plain": [
       "Advisor (Senior advisor, advisor)                                                                       22\n",
       "Staff (operational jobs)                                                                                22\n",
       "Executive or Strategic Manager  (Senior executive, executive)                                           15\n",
       "Managers(Senior manager, manager)                                                                       14\n",
       "Middle Management (Senior director, director)                                                           10\n",
       "Advisor (Senior advisor, advisor), Staff (operational jobs)                                              5\n",
       "i'm still under education                                                                                1\n",
       "Advisor (Senior advisor, advisor), Did Circular Economy & Eco-design it-research in Berlin 2014-2018     1\n",
       "Sustainability Assistant                                                                                 1\n",
       "Project Manager.                                                                                         1\n",
       "PhD                                                                                                      1\n",
       "Student at AAU                                                                                           1\n",
       "Staff (operational jobs), Researcher                                                                     1\n",
       "head of research unit                                                                                    1\n",
       "Researcher                                                                                               1\n",
       "N\\A                                                                                                      1\n",
       "CE Expert                                                                                                1\n",
       "Master Thesis Student                                                                                    1\n",
       "Unemployed                                                                                               1\n",
       "Student                                                                                                  1\n",
       "Professor                                                                                                1\n",
       "PhD Fel2                                                                                                 1\n",
       "business consultant                                                                                      1\n",
       "Name: How do you describe your position in your organization?, dtype: int64"
      ]
     },
     "execution_count": 222,
     "metadata": {},
     "output_type": "execute_result"
    }
   ],
   "source": [
    "df.iloc[:,-2].value_counts()"
   ]
  },
  {
   "cell_type": "code",
   "execution_count": 223,
   "id": "5bb5fe5e-4c53-4d56-87e5-7cd17f19d58a",
   "metadata": {
    "tags": []
   },
   "outputs": [
    {
     "data": {
      "text/plain": [
       "<Axes: >"
      ]
     },
     "execution_count": 223,
     "metadata": {},
     "output_type": "execute_result"
    },
    {
     "data": {
      "image/png": "[encoded data removed]",
      "text/plain": [
       "<Figure size 640x480 with 1 Axes>"
      ]
     },
     "metadata": {},
     "output_type": "display_data"
    }
   ],
   "source": [
    "df.iloc[:,-2].value_counts()[0:10].plot(kind='barh')"
   ]
  },
  {
   "cell_type": "markdown",
   "id": "1ef60cee-b283-4841-a652-1667f1cbc46f",
   "metadata": {},
   "source": [
    "### `Coluna: Área de atuação`"
   ]
  },
  {
   "cell_type": "code",
   "execution_count": 224,
   "id": "eb20fe27-b3f4-4b1b-8a9a-88c3124a2800",
   "metadata": {
    "tags": []
   },
   "outputs": [
    {
     "data": {
      "text/plain": [
       "1                                                                                    81\n",
       "0                                                                                    19\n",
       "I am not sure what that means.                                                        1\n",
       "Sustainability/Engineering                                                            1\n",
       "Partly - not 100% focused                                                             1\n",
       "Starting  Sustainable Start-up                                                        1\n",
       "Indirectly by providing waste recycling equipment                                     1\n",
       "I have a degree in circular economy, but currently don´t work directly with that      1\n",
       "Indirectly through other sustainability efforts                                       1\n",
       "Partly through work in production                                                     1\n",
       "Name: Do you act directly with the circular economy?, dtype: int64"
      ]
     },
     "execution_count": 224,
     "metadata": {},
     "output_type": "execute_result"
    }
   ],
   "source": [
    "df['Do you act directly with the circular economy?'].value_counts()"
   ]
  },
  {
   "cell_type": "code",
   "execution_count": 225,
   "id": "83a75001-3a45-4f0f-890e-725adf232fbf",
   "metadata": {},
   "outputs": [
    {
     "data": {
      "text/plain": [
       "'1'"
      ]
     },
     "execution_count": 225,
     "metadata": {},
     "output_type": "execute_result"
    }
   ],
   "source": [
    "df.loc[0,'Do you act directly with the circular economy?']"
   ]
  },
  {
   "cell_type": "markdown",
   "id": "ad997ee0-f7ff-4bb6-832a-e43d95c71a5c",
   "metadata": {},
   "source": [
    "`Respostas não diferentes de 1, serão tidas como 0`"
   ]
  },
  {
   "cell_type": "code",
   "execution_count": 226,
   "id": "7e224add-5d6a-419f-ad06-0a498e9f918a",
   "metadata": {},
   "outputs": [],
   "source": [
    "def adjust_relation(x):\n",
    "    if x=='1':\n",
    "        x=1\n",
    "    elif x!=1 or x!='1':\n",
    "        x=0\n",
    "    return(x)"
   ]
  },
  {
   "cell_type": "code",
   "execution_count": 227,
   "id": "01a24540-53c7-4986-9cf8-70608eab7d28",
   "metadata": {},
   "outputs": [],
   "source": [
    "df['Do you act directly with the circular economy?'] = df['Do you act directly with the circular economy?'].apply(adjust_relation)"
   ]
  },
  {
   "cell_type": "code",
   "execution_count": 228,
   "id": "a5505a54-7086-4697-9de4-09832ff55d52",
   "metadata": {},
   "outputs": [
    {
     "data": {
      "text/plain": [
       "1    81\n",
       "0    27\n",
       "Name: Do you act directly with the circular economy?, dtype: int64"
      ]
     },
     "execution_count": 228,
     "metadata": {},
     "output_type": "execute_result"
    }
   ],
   "source": [
    "df['Do you act directly with the circular economy?'].value_counts()"
   ]
  },
  {
   "cell_type": "markdown",
   "id": "85f080c6-f2db-43e4-81ea-b29c771e27db",
   "metadata": {},
   "source": [
    "### `Coluna: Tamanho da organização que participa`"
   ]
  },
  {
   "cell_type": "code",
   "execution_count": 229,
   "id": "974ab570-4a72-48a7-a08c-198f5898bb70",
   "metadata": {},
   "outputs": [
    {
     "data": {
      "text/plain": [
       "0         Grande\n",
       "1          Média\n",
       "2         Grande\n",
       "3         Grande\n",
       "4      Acadêmico\n",
       "         ...    \n",
       "103       Grande\n",
       "104        Micro\n",
       "105       Grande\n",
       "106        Micro\n",
       "107        Micro\n",
       "Name: company_size, Length: 108, dtype: object"
      ]
     },
     "execution_count": 229,
     "metadata": {},
     "output_type": "execute_result"
    }
   ],
   "source": [
    "df.iloc[:,-3]"
   ]
  },
  {
   "cell_type": "code",
   "execution_count": 230,
   "id": "83160676-7c77-49aa-926f-1b0a120671f7",
   "metadata": {},
   "outputs": [
    {
     "data": {
      "text/plain": [
       "Grande         55\n",
       "Micro          17\n",
       "Pequena        15\n",
       "Média          12\n",
       "Individual      4\n",
       "Sem empresa     3\n",
       "Acadêmico       2\n",
       "Name: company_size, dtype: int64"
      ]
     },
     "execution_count": 230,
     "metadata": {},
     "output_type": "execute_result"
    }
   ],
   "source": [
    "df.iloc[:,-3].value_counts()"
   ]
  },
  {
   "cell_type": "markdown",
   "id": "6808683e-e13d-42ae-a9da-6b849526ddbd",
   "metadata": {
    "tags": []
   },
   "source": [
    "### `Coluna: Setor de atuação`"
   ]
  },
  {
   "cell_type": "code",
   "execution_count": 231,
   "id": "82a1df40-ffcf-44d6-85dc-c483c18a0e32",
   "metadata": {},
   "outputs": [
    {
     "data": {
      "text/plain": [
       "Quaternary Sector (involves intellectual activities, such as information generation and sharing)                                                                                                                                                                                                                                                                                                                                                                                                                                                                                                           26\n",
       "Quinary Sector (involves non-profit services such as health, education, culture, research (unpaid), police, firefighters, civil guard and non-governmental organizations).                                                                                                                                                                                                                                                                                                                                                                                                                                 19\n",
       "Tertiary sector (involves trade and the provision of services to consumers and /or companies)                                                                                                                                                                                                                                                                                                                                                                                                                                                                                                              11\n",
       "Secondary Sector (involves the transformation of raw materials into goods)                                                                                                                                                                                                                                                                                                                                                                                                                                                                                                                                 11\n",
       "Quaternary Sector (involves intellectual activities, such as information generation and sharing), Quinary Sector (involves non-profit services such as health, education, culture, research (unpaid), police, firefighters, civil guard and non-governmental organizations).                                                                                                                                                                                                                                                                                                                                5\n",
       "Secondary Sector (involves the transformation of raw materials into goods), Tertiary sector (involves trade and the provision of services to consumers and /or companies), Quaternary Sector (involves intellectual activities, such as information generation and sharing)                                                                                                                                                                                                                                                                                                                                 4\n",
       "Secondary Sector (involves the transformation of raw materials into goods), Tertiary sector (involves trade and the provision of services to consumers and /or companies)                                                                                                                                                                                                                                                                                                                                                                                                                                   3\n",
       "Tertiary sector (involves trade and the provision of services to consumers and /or companies), Quaternary Sector (involves intellectual activities, such as information generation and sharing)                                                                                                                                                                                                                                                                                                                                                                                                             3\n",
       "Secondary Sector (involves the transformation of raw materials into goods), Quaternary Sector (involves intellectual activities, such as information generation and sharing)                                                                                                                                                                                                                                                                                                                                                                                                                                2\n",
       "Primary Sector (involves the extraction and/or production of raw materials), Secondary Sector (involves the transformation of raw materials into goods), Tertiary sector (involves trade and the provision of services to consumers and /or companies), Quinary Sector (involves non-profit services such as health, education, culture, research (unpaid), police, firefighters, civil guard and non-governmental organizations).                                                                                                                                                                          2\n",
       "Primary Sector (involves the extraction and/or production of raw materials), Secondary Sector (involves the transformation of raw materials into goods), Tertiary sector (involves trade and the provision of services to consumers and /or companies), Quaternary Sector (involves intellectual activities, such as information generation and sharing), Quinary Sector (involves non-profit services such as health, education, culture, research (unpaid), police, firefighters, civil guard and non-governmental organizations).                                                                        2\n",
       "Secondary Sector (involves the transformation of raw materials into goods), Tertiary sector (involves trade and the provision of services to consumers and /or companies), Quaternary Sector (involves intellectual activities, such as information generation and sharing), Quinary Sector (involves non-profit services such as health, education, culture, research (unpaid), police, firefighters, civil guard and non-governmental organizations).                                                                                                                                                     2\n",
       "Primary Sector (involves the extraction and/or production of raw materials)                                                                                                                                                                                                                                                                                                                                                                                                                                                                                                                                 2\n",
       "Tertiary sector (involves trade and the provision of services to consumers and /or companies), Quaternary Sector (involves intellectual activities, such as information generation and sharing), Quinary Sector (involves non-profit services such as health, education, culture, research (unpaid), police, firefighters, civil guard and non-governmental organizations).                                                                                                                                                                                                                                 1\n",
       "Secondary Sector (involves the transformation of raw materials into goods), Quaternary Sector (involves intellectual activities, such as information generation and sharing), PhD                                                                                                                                                                                                                                                                                                                                                                                                                           1\n",
       "Tertiary sector (involves trade and the provision of services to consumers and /or companies), Quinary Sector (involves non-profit services such as health, education, culture, research (unpaid), police, firefighters, civil guard and non-governmental organizations).                                                                                                                                                                                                                                                                                                                                   1\n",
       "municipality                                                                                                                                                                                                                                                                                                                                                                                                                                                                                                                                                                                                1\n",
       "Unemployed                                                                                                                                                                                                                                                                                                                                                                                                                                                                                                                                                                                                  1\n",
       "i'm still under education                                                                                                                                                                                                                                                                                                                                                                                                                                                                                                                                                                                   1\n",
       "University                                                                                                                                                                                                                                                                                                                                                                                                                                                                                                                                                                                                  1\n",
       "cross-sectoral /Industrial ecology                                                                                                                                                                                                                                                                                                                                                                                                                                                                                                                                                                          1\n",
       "Research and education                                                                                                                                                                                                                                                                                                                                                                                                                                                                                                                                                                                      1\n",
       "Primary Sector (involves the extraction and/or production of raw materials), Secondary Sector (involves the transformation of raw materials into goods), Tertiary sector (involves trade and the provision of services to consumers and /or companies), Quaternary Sector (involves intellectual activities, such as information generation and sharing), Quinary Sector (involves non-profit services such as health, education, culture, research (unpaid), police, firefighters, civil guard and non-governmental organizations)., Did Circular Economy & Eco-design it-research in Berlin 2014-2018     1\n",
       "Secondary Sector (involves the transformation of raw materials into goods), Tertiary sector (involves trade and the provision of services to consumers and /or companies), Quaternary Sector (involves intellectual activities, such as information generation and sharing), Sustainable research and commercialization                                                                                                                                                                                                                                                                                     1\n",
       "Name: What sector does your organization operate in?, dtype: int64"
      ]
     },
     "execution_count": 231,
     "metadata": {},
     "output_type": "execute_result"
    }
   ],
   "source": [
    "df.iloc[:,-4].value_counts()"
   ]
  },
  {
   "cell_type": "code",
   "execution_count": 232,
   "id": "a0eb8549-1c48-409e-bdfd-fffb626d957b",
   "metadata": {},
   "outputs": [
    {
     "data": {
      "text/plain": [
       "[96,\n",
       " 170,\n",
       " 93,\n",
       " 74,\n",
       " 268,\n",
       " 267,\n",
       " 169,\n",
       " 191,\n",
       " 172,\n",
       " 418,\n",
       " 516,\n",
       " 439,\n",
       " 75,\n",
       " 363,\n",
       " 177,\n",
       " 265,\n",
       " 12,\n",
       " 10,\n",
       " 25,\n",
       " 10,\n",
       " 34,\n",
       " 22,\n",
       " 583,\n",
       " 311]"
      ]
     },
     "execution_count": 232,
     "metadata": {},
     "output_type": "execute_result"
    }
   ],
   "source": [
    "[len(i) for i in df.iloc[:,-4].value_counts().index]"
   ]
  },
  {
   "cell_type": "markdown",
   "id": "29ae9d90-c405-455d-ad8d-2982f224b2d9",
   "metadata": {},
   "source": [
    "`Alguns respondentes selecionaram diversos setores. Medida de correção:`\n",
    "\n",
    "- Para aqueles que selecionaram dois setores, o primeiro será considerado o principal\n",
    "- Para aqueles que selecionaram >2 setores, serão postos numa nova categoria 'Sem setor'"
   ]
  },
  {
   "cell_type": "code",
   "execution_count": 233,
   "id": "f0e41682-e201-440a-9f63-215eee66ab48",
   "metadata": {},
   "outputs": [],
   "source": [
    "def ajuste_setor(x):\n",
    "    x=str(x)\n",
    "    if (len(x)<=268):\n",
    "        if ',' in x:\n",
    "            posicao_virgula = x.find(',')\n",
    "            x = x[:posicao_virgula]\n",
    "        elif x=='University' or x==\"i'm still under education\":\n",
    "            x='Reasearch and aducation'\n",
    "    else:\n",
    "        x = 'sem setor'\n",
    "    return(x)\n",
    "    "
   ]
  },
  {
   "cell_type": "code",
   "execution_count": 234,
   "id": "e3c4ae90-7ff2-442f-b978-fedefc529004",
   "metadata": {},
   "outputs": [
    {
     "data": {
      "text/plain": [
       "Quaternary Sector (involves intellectual activities                                              31\n",
       "Secondary Sector (involves the transformation of raw materials into goods)                       21\n",
       "Quinary Sector (involves non-profit services such as health                                      19\n",
       "Tertiary sector (involves trade and the provision of services to consumers and /or companies)    15\n",
       "sem setor                                                                                         9\n",
       "nan                                                                                               5\n",
       "Reasearch and aducation                                                                           2\n",
       "Primary Sector (involves the extraction and/or production of raw materials)                       2\n",
       "Research and education                                                                            1\n",
       "municipality                                                                                      1\n",
       "Unemployed                                                                                        1\n",
       "cross-sectoral /Industrial ecology                                                                1\n",
       "Name: What sector does your organization operate in?, dtype: int64"
      ]
     },
     "execution_count": 234,
     "metadata": {},
     "output_type": "execute_result"
    }
   ],
   "source": [
    "df.iloc[:,-4].apply(ajuste_setor).value_counts()"
   ]
  },
  {
   "cell_type": "markdown",
   "id": "db9ef62e-f7e9-4a8b-892a-431f70894606",
   "metadata": {
    "tags": []
   },
   "source": [
    "### `Coluna: Seguimento de atuação`"
   ]
  },
  {
   "cell_type": "code",
   "execution_count": 235,
   "id": "8251b601-c631-4e5f-9f94-e36dba47d403",
   "metadata": {},
   "outputs": [
    {
     "data": {
      "text/plain": [
       "Academia/Research Institution                                                                                                                                                                                                                                                                                                                                                                                                                                                             25\n",
       "Consultancy                                                                                                                                                                                                                                                                                                                                                                                                                                                                                9\n",
       "Engineering                                                                                                                                                                                                                                                                                                                                                                                                                                                                                5\n",
       "Non-governmental organization (NGO)                                                                                                                                                                                                                                                                                                                                                                                                                                                        4\n",
       "Textile, Footwear and/or Apparel                                                                                                                                                                                                                                                                                                                                                                                                                                                           4\n",
       "Academia/Research Institution, Consultancy                                                                                                                                                                                                                                                                                                                                                                                                                                                 3\n",
       "Academia/Research Institution, Non-governmental organization (NGO), Packaging, Agrifood, Recycling                                                                                                                                                                                                                                                                                                                                                                                         2\n",
       "Engineering, Construction                                                                                                                                                                                                                                                                                                                                                                                                                                                                  2\n",
       "Furniture                                                                                                                                                                                                                                                                                                                                                                                                                                                                                  2\n",
       "Waste processing and management                                                                                                                                                                                                                                                                                                                                                                                                                                                            2\n",
       "Academia/Research Institution, Engineering                                                                                                                                                                                                                                                                                                                                                                                                                                                 2\n",
       "Consultancy, Textile, Footwear and/or Apparel                                                                                                                                                                                                                                                                                                                                                                                                                                              2\n",
       "Academia/Research Institution, Energy and heat processing and management, Agrifood                                                                                                                                                                                                                                                                                                                                                                                                         1\n",
       "Waste processing and management, Energy and heat processing and management, Recycling                                                                                                                                                                                                                                                                                                                                                                                                      1\n",
       "Non-governmental organization (NGO), Agrifood                                                                                                                                                                                                                                                                                                                                                                                                                                              1\n",
       "Packaging                                                                                                                                                                                                                                                                                                                                                                                                                                                                                  1\n",
       "Academia/Research Institution, Consultancy, Textile, Footwear and/or Apparel, Engineering                                                                                                                                                                                                                                                                                                                                                                                                  1\n",
       "Academia/Research Institution, Consultancy, Waste processing and management, Packaging, Agrifood                                                                                                                                                                                                                                                                                                                                                                                           1\n",
       "Academia/Research Institution, Consultancy, Engineering, Construction                                                                                                                                                                                                                                                                                                                                                                                                                      1\n",
       "Energy and heat processing and management, Chemical, Engineering                                                                                                                                                                                                                                                                                                                                                                                                                           1\n",
       "Waste processing and management, Energy and heat processing and management, Recycling, Engineering                                                                                                                                                                                                                                                                                                                                                                                         1\n",
       "Academia/Research Institution, Consultancy, Non-governmental organization (NGO)                                                                                                                                                                                                                                                                                                                                                                                                            1\n",
       "Production                                                                                                                                                                                                                                                                                                                                                                                                                                                                                 1\n",
       "Government, Academia/Research Institution, Textile, Footwear and/or Apparel, Recycling                                                                                                                                                                                                                                                                                                                                                                                                     1\n",
       "Water processing and management, Don't work with Circular economy - I have an interest in it - specialized in Water                                                                                                                                                                                                                                                                                                                                                                        1\n",
       "Academia/Research Institution, Agrifood, Pharma and Biotechnology                                                                                                                                                                                                                                                                                                                                                                                                                          1\n",
       "Consultancy, Waste processing and management, Energy and heat processing and management, Recycling, Engineering                                                                                                                                                                                                                                                                                                                                                                            1\n",
       "Product development                                                                                                                                                                                                                                                                                                                                                                                                                                                                        1\n",
       "Government, Academia/Research Institution, Trade Unions (sindicates) of workers, Association of vulnerable workers, Consultancy, Non-governmental organization (NGO), Waste processing and management, Energy and heat processing and management, Water processing and management, Textile, Footwear and/or Apparel, Automotive, Electro and Electronics, Packaging, Agrifood, Recycling, Engineering, Construction, Did Circular Economy & Eco-design it-research in Berlin 2014-2018     1\n",
       "Waste processing and management, Energy and heat processing and management, scope 1,2,3 CO2 emission calculation and reduction                                                                                                                                                                                                                                                                                                                                                             1\n",
       "Consultancy, Non-governmental organization (NGO), Recycling                                                                                                                                                                                                                                                                                                                                                                                                                                1\n",
       "Academia/Research Institution, Recycling                                                                                                                                                                                                                                                                                                                                                                                                                                                   1\n",
       "Waste processing and management, Water processing and management, Engineering                                                                                                                                                                                                                                                                                                                                                                                                              1\n",
       "Academia/Research Institution, Design                                                                                                                                                                                                                                                                                                                                                                                                                                                      1\n",
       "Construction                                                                                                                                                                                                                                                                                                                                                                                                                                                                               1\n",
       "Consultancy, Waste processing and management, Energy and heat processing and management, Water processing and management, Packaging, Recycling, Engineering                                                                                                                                                                                                                                                                                                                                1\n",
       "Academia/Research Institution, Consultancy, Engineering                                                                                                                                                                                                                                                                                                                                                                                                                                    1\n",
       "Academia/Research Institution, Energy and heat processing and management, Chemical, Engineering, Mining, metals, and minerals                                                                                                                                                                                                                                                                                                                                                              1\n",
       "Academia/Research Institution, Waste processing and management, Agrifood, Engineering                                                                                                                                                                                                                                                                                                                                                                                                      1\n",
       "Consultancy, Water processing and management, Automotive, Ceramic, cement., Engineering, Construction, Disinfection, Technology for waste management, Health, Construction, Aviation                                                                                                                                                                                                                                                                                                       1\n",
       "Consultancy, Energy and heat processing and management, Engineering, Construction                                                                                                                                                                                                                                                                                                                                                                                                          1\n",
       "Waste processing and management, Energy and heat processing and management, Water processing and management, Agrifood, Recycling, Engineering, Construction                                                                                                                                                                                                                                                                                                                                1\n",
       "Waste processing and management, Textile, Footwear and/or Apparel, Recycling                                                                                                                                                                                                                                                                                                                                                                                                               1\n",
       "Construction, Municipality                                                                                                                                                                                                                                                                                                                                                                                                                                                                 1\n",
       "Recycling                                                                                                                                                                                                                                                                                                                                                                                                                                                                                  1\n",
       "Non-governmental organization (NGO), Waste processing and management, Energy and heat processing and management, Water processing and management, Recycling, Engineering                                                                                                                                                                                                                                                                                                                   1\n",
       "Academia/Research Institution, Waste processing and management, Packaging, Agrifood                                                                                                                                                                                                                                                                                                                                                                                                        1\n",
       "Consultancy, Non-governmental organization (NGO), Waste processing and management, Packaging, Engineering, Business                                                                                                                                                                                                                                                                                                                                                                        1\n",
       "Academia/Research Institution, Recycling, Engineering                                                                                                                                                                                                                                                                                                                                                                                                                                      1\n",
       "Packaging, Recycling, Cosmetics production                                                                                                                                                                                                                                                                                                                                                                                                                                                 1\n",
       "Water processing and management                                                                                                                                                                                                                                                                                                                                                                                                                                                            1\n",
       "Consultancy, Non-governmental organization (NGO), Waste processing and management, Packaging, Agrifood, Recycling, Engineering, Mining, metals, and minerals                                                                                                                                                                                                                                                                                                                               1\n",
       "Academia/Research Institution, Engineering, Construction                                                                                                                                                                                                                                                                                                                                                                                                                                   1\n",
       "Consultancy, Waste processing and management, Agrifood, Engineering, Construction                                                                                                                                                                                                                                                                                                                                                                                                          1\n",
       "Personal                                                                                                                                                                                                                                                                                                                                                                                                                                                                                   1\n",
       "Consultancy, Textile, Footwear and/or Apparel, Packaging, Agrifood, Chemical, Engineering, social integration eco incentive economics                                                                                                                                                                                                                                                                                                                                                      1\n",
       "Name: What is your segment of acting?, dtype: int64"
      ]
     },
     "execution_count": 235,
     "metadata": {},
     "output_type": "execute_result"
    }
   ],
   "source": [
    "df.iloc[:,-5].value_counts()"
   ]
  },
  {
   "cell_type": "markdown",
   "id": "b114f2f2-de44-4208-b2bc-220de4cd53d5",
   "metadata": {},
   "source": [
    "Existe a ocorrência de múltiplos setores de atuação nos entrevistados. Consederaremos que o primeiro setor de atuação citado pelo respondente, corresponde ao seu setor principal de atuação"
   ]
  },
  {
   "cell_type": "code",
   "execution_count": 236,
   "id": "375fee58-002e-4b62-ad8d-b7c27c31f95d",
   "metadata": {
    "collapsed": true,
    "jupyter": {
     "outputs_hidden": true
    },
    "tags": []
   },
   "outputs": [
    {
     "data": {
      "text/plain": [
       "Academia/Research Institutio                 25\n",
       "Academia/Research Institution                21\n",
       "Consultancy                                  11\n",
       "Consultanc                                    9\n",
       "Waste processing and management               6\n",
       "Engineerin                                    5\n",
       "Non-governmental organization (NGO            4\n",
       "Textile                                       4\n",
       "Waste processing and managemen                2\n",
       "Government                                    2\n",
       "Engineering                                   2\n",
       "Non-governmental organization (NGO)           2\n",
       "Furnitur                                      2\n",
       "Recyclin                                      1\n",
       "Packaging                                     1\n",
       "Construction                                  1\n",
       "Water processing and managemen                1\n",
       "Persona                                       1\n",
       "Constructio                                   1\n",
       "Product development                           1\n",
       "Packagin                                      1\n",
       "Energy and heat processing and management     1\n",
       "Water processing and management               1\n",
       "Productio                                     1\n",
       "Name: What is your segment of acting?, dtype: int64"
      ]
     },
     "execution_count": 236,
     "metadata": {},
     "output_type": "execute_result"
    }
   ],
   "source": [
    "df.iloc[:,-5] = [i[:i.find(',')] if type(i)==str else i for i in df.iloc[:,-5]]\n",
    "df.iloc[:,-5].value_counts()"
   ]
  },
  {
   "cell_type": "code",
   "execution_count": 242,
   "id": "8c700911-93f6-42df-ba3a-fc0e2a22a73f",
   "metadata": {},
   "outputs": [],
   "source": [
    "df.iloc[:,-5]= df.iloc[:,-5].replace({'Consultanc':'Consultancy','Persona':'Personal','Packagin':'Packaging',\n",
    "                                     'Productio':'Production','Water processing and managemen':'Water processing and management',\n",
    "                                     'Non-governmental organization (NGO':'Non-governmental organization (NGO)',\n",
    "                                     'Constructio':'Construction','Engineerin':'Engineering','Furnitur':'Furniture',\n",
    "                                     'Recyclin':'Recycling','Waste processing and managemen':'Waste processing and management',\n",
    "                                     'Academia/Research Institutio':'Academia/Research Institution'})"
   ]
  },
  {
   "cell_type": "code",
   "execution_count": 243,
   "id": "671cf28e-f063-432a-af03-51bed6463571",
   "metadata": {
    "tags": []
   },
   "outputs": [
    {
     "data": {
      "text/plain": [
       "Academia/Research Institution                46\n",
       "Consultancy                                  20\n",
       "Waste processing and management               8\n",
       "Engineering                                   7\n",
       "Non-governmental organization (NGO)           6\n",
       "Textile                                       4\n",
       "Furniture                                     2\n",
       "Construction                                  2\n",
       "Packaging                                     2\n",
       "Water processing and management               2\n",
       "Government                                    2\n",
       "Recycling                                     1\n",
       "Personal                                      1\n",
       "Product development                           1\n",
       "Energy and heat processing and management     1\n",
       "Production                                    1\n",
       "Name: What is your segment of acting?, dtype: int64"
      ]
     },
     "execution_count": 243,
     "metadata": {},
     "output_type": "execute_result"
    }
   ],
   "source": [
    "df.iloc[:,-5].value_counts()"
   ]
  },
  {
   "cell_type": "markdown",
   "id": "5083925b-d7b4-494e-a8ca-d88f4d19a5d1",
   "metadata": {},
   "source": [
    "A pergunta agora poderia ser: qual seu setor **primário/principal** de atuação"
   ]
  },
  {
   "cell_type": "markdown",
   "id": "f38d64fc-3c69-4e2e-a9be-43d0d6dbd86c",
   "metadata": {},
   "source": [
    "### As demais colunas de descrição não necessitam de ajustes, pois foram préviamente organizadas"
   ]
  },
  {
   "cell_type": "code",
   "execution_count": 254,
   "id": "5b08db38-2723-4376-bf72-7b572a55bb48",
   "metadata": {},
   "outputs": [],
   "source": [
    "df.to_csv('dados_den_final.csv')"
   ]
  }
 ],
 "metadata": {
  "kernelspec": {
   "display_name": "Python 3 (ipykernel)",
   "language": "python",
   "name": "python3"
  },
  "language_info": {
   "codemirror_mode": {
    "name": "ipython",
    "version": 3
   },
   "file_extension": ".py",
   "mimetype": "text/x-python",
   "name": "python",
   "nbconvert_exporter": "python",
   "pygments_lexer": "ipython3",
   "version": "3.11.2"
  }
 },
 "nbformat": 4,
 "nbformat_minor": 5
}
