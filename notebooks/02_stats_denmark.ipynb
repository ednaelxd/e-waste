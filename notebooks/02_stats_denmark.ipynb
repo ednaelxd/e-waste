{
 "cells": [
  {
   "cell_type": "markdown",
   "id": "dceab0cc-c1ee-409f-9a6d-1b57a0e2bbfa",
   "metadata": {},
   "source": [
    "`As estratégias para uma economia circular serão avaliadas segundo um conjunto de critérios/indicadores, considerados qualitativos, porque abrangem múltiplas dimensões e subjetividade (ambiental, social e econômica). Para tanto, elaboramos uma escala ordinal, que varia de 1 (nível mais baixo) a 5 (nível mais alto). Por favor, avalie cada estratégia considerando sua percepção com base nessa escala (1-5). As seções seguintes lhe questionarão sobre a sua \"percepção\" sobre quanto cada estratégia contribui para a transição para uma economia circular em nível macro, com base na escala conforme apresentada abaixo `"
   ]
  },
  {
   "cell_type": "code",
   "execution_count": 15,
   "id": "62fd0943-a59f-4560-9194-27194a5d8a48",
   "metadata": {},
   "outputs": [],
   "source": [
    "import pandas as pd\n",
    "#\n",
    "import seaborn as sns\n",
    "from matplotlib import pyplot as plt"
   ]
  },
  {
   "cell_type": "code",
   "execution_count": 4,
   "id": "8d0d9268-b806-49b8-a02c-25b968be2b13",
   "metadata": {},
   "outputs": [],
   "source": [
    "df = pd.read_csv('dados_den_final.csv',index_col=[0])"
   ]
  },
  {
   "cell_type": "code",
   "execution_count": 5,
   "id": "67ad4e22-1c64-4244-b0ff-6be17d4de3a2",
   "metadata": {},
   "outputs": [],
   "source": [
    "df.drop(['Do you agree to participate in this study?','explanation'],axis=1,inplace=True)"
   ]
  },
  {
   "cell_type": "code",
   "execution_count": 41,
   "id": "27e74503-3fc0-40dd-a5de-9a5703b552af",
   "metadata": {},
   "outputs": [
    {
     "data": {
      "text/plain": [
       "Advisor (Senior advisor, advisor)                                                                       22\n",
       "Staff (operational jobs)                                                                                22\n",
       "Executive or Strategic Manager  (Senior executive, executive)                                           15\n",
       "Managers(Senior manager, manager)                                                                       14\n",
       "Middle Management (Senior director, director)                                                           10\n",
       "Advisor (Senior advisor, advisor), Staff (operational jobs)                                              5\n",
       "i'm still under education                                                                                1\n",
       "Advisor (Senior advisor, advisor), Did Circular Economy & Eco-design it-research in Berlin 2014-2018     1\n",
       "Sustainability Assistant                                                                                 1\n",
       "Project Manager.                                                                                         1\n",
       "PhD                                                                                                      1\n",
       "Student at AAU                                                                                           1\n",
       "Staff (operational jobs), Researcher                                                                     1\n",
       "head of research unit                                                                                    1\n",
       "Researcher                                                                                               1\n",
       "N\\A                                                                                                      1\n",
       "CE Expert                                                                                                1\n",
       "Master Thesis Student                                                                                    1\n",
       "Unemployed                                                                                               1\n",
       "Student                                                                                                  1\n",
       "Professor                                                                                                1\n",
       "PhD Fel2                                                                                                 1\n",
       "business consultant                                                                                      1\n",
       "Name: How do you describe your position in your organization?, dtype: int64"
      ]
     },
     "execution_count": 41,
     "metadata": {},
     "output_type": "execute_result"
    }
   ],
   "source": [
    "df['How do you describe your position in your organization?'].value_counts()"
   ]
  },
  {
   "cell_type": "markdown",
   "id": "47e2898a-de84-483b-887a-518ddf923004",
   "metadata": {},
   "source": [
    "## Responder as questões:\n",
    "    - Existe diferença de conhecimento acerca da EC entre pessoas pertencentes a distintas áreas de atuação? \n",
    "    - Quem tende a conhecer mais acerca do assunto?\n",
    "    - Quem tende a conhecer menos sobre o assunto?\n",
    "    - Que estratégias são priorizadas pela dinamarca?"
   ]
  },
  {
   "cell_type": "markdown",
   "id": "7a89f8c8-fe3a-41d5-a921-624053ef3dc3",
   "metadata": {},
   "source": [
    "### `CONHECIMENTO DA EC VS ÁREA DE ATUAÇÃO`"
   ]
  },
  {
   "cell_type": "code",
   "execution_count": 38,
   "id": "a17d5054-f854-46f1-87f4-8a9615319884",
   "metadata": {},
   "outputs": [
    {
     "data": {
      "application/vnd.plotly.v1+json": {
       "config": {
        "plotlyServerURL": "https://plot.ly"
       },
       "data": [
        {
         "alignmentgroup": "True",
         "bingroup": "x",
         "cliponaxis": false,
         "hovertemplate": "Self knowledge about circular economy=5<br>What is your segment of acting?=%{x}<br>count=%{y}<extra></extra>",
         "legendgroup": "5",
         "marker": {
          "color": "#636efa",
          "pattern": {
           "shape": ""
          }
         },
         "name": "5",
         "offsetgroup": "5",
         "orientation": "v",
         "showlegend": true,
         "textangle": 0,
         "textfont": {
          "size": 12
         },
         "textposition": "outside",
         "type": "histogram",
         "x": [
          "Waste processing and management",
          "Academia/Research Institution",
          "Textile",
          "Waste processing and management",
          "Consultancy",
          "Academia/Research Institution",
          "Construction",
          "Academia/Research Institution",
          "Consultancy",
          "Non-governmental organization (NGO)",
          "Academia/Research Institution",
          "Consultancy",
          "Academia/Research Institution",
          "Consultancy",
          "Academia/Research Institution",
          "Academia/Research Institution",
          "Academia/Research Institution",
          "Academia/Research Institution",
          "Waste processing and management",
          "Academia/Research Institution",
          "Academia/Research Institution",
          "Waste processing and management",
          "Furniture",
          "Consultancy",
          "Government",
          "Textile",
          "Consultancy"
         ],
         "xaxis": "x",
         "yaxis": "y"
        },
        {
         "alignmentgroup": "True",
         "bingroup": "x",
         "cliponaxis": false,
         "hovertemplate": "Self knowledge about circular economy=4<br>What is your segment of acting?=%{x}<br>count=%{y}<extra></extra>",
         "legendgroup": "4",
         "marker": {
          "color": "#EF553B",
          "pattern": {
           "shape": ""
          }
         },
         "name": "4",
         "offsetgroup": "4",
         "orientation": "v",
         "showlegend": true,
         "textangle": 0,
         "textfont": {
          "size": 12
         },
         "textposition": "outside",
         "type": "histogram",
         "x": [
          "Academia/Research Institution",
          "Academia/Research Institution",
          "Academia/Research Institution",
          "Consultancy",
          "Consultancy",
          "Academia/Research Institution",
          "Academia/Research Institution",
          "Consultancy",
          "Consultancy",
          "Non-governmental organization (NGO)",
          "Textile",
          "Furniture",
          "Engineering",
          "Waste processing and management",
          "Academia/Research Institution",
          "Recycling",
          "Academia/Research Institution",
          "Academia/Research Institution",
          "Non-governmental organization (NGO)",
          "Academia/Research Institution",
          "Academia/Research Institution",
          "Academia/Research Institution",
          "Packaging",
          "Academia/Research Institution",
          "Water processing and management",
          "Consultancy",
          null,
          "Consultancy",
          "Academia/Research Institution",
          "Engineering",
          "Consultancy",
          "Consultancy",
          "Consultancy",
          "Consultancy",
          "Engineering",
          "Engineering",
          "Engineering",
          "Consultancy",
          "Academia/Research Institution",
          "Academia/Research Institution",
          "Academia/Research Institution",
          "Product development ",
          "Packaging",
          "Academia/Research Institution",
          "Academia/Research Institution",
          "Waste processing and management",
          "Academia/Research Institution",
          "Government",
          null,
          "Water processing and management",
          "Academia/Research Institution",
          "Consultancy",
          "Production",
          "Textile",
          "Academia/Research Institution",
          "Academia/Research Institution",
          "Academia/Research Institution",
          "Consultancy",
          "Waste processing and management"
         ],
         "xaxis": "x",
         "yaxis": "y"
        },
        {
         "alignmentgroup": "True",
         "bingroup": "x",
         "cliponaxis": false,
         "hovertemplate": "Self knowledge about circular economy=3<br>What is your segment of acting?=%{x}<br>count=%{y}<extra></extra>",
         "legendgroup": "3",
         "marker": {
          "color": "#00cc96",
          "pattern": {
           "shape": ""
          }
         },
         "name": "3",
         "offsetgroup": "3",
         "orientation": "v",
         "showlegend": true,
         "textangle": 0,
         "textfont": {
          "size": 12
         },
         "textposition": "outside",
         "type": "histogram",
         "x": [
          "Academia/Research Institution",
          "Academia/Research Institution",
          "Academia/Research Institution",
          "Academia/Research Institution",
          "Personal",
          "Academia/Research Institution",
          "Construction",
          "Academia/Research Institution",
          "Waste processing and management",
          "Academia/Research Institution",
          "Non-governmental organization (NGO)",
          "Engineering",
          "Academia/Research Institution",
          "Consultancy",
          "Academia/Research Institution",
          "Non-governmental organization (NGO)",
          "Non-governmental organization (NGO)",
          "Academia/Research Institution"
         ],
         "xaxis": "x",
         "yaxis": "y"
        },
        {
         "alignmentgroup": "True",
         "bingroup": "x",
         "cliponaxis": false,
         "hovertemplate": "Self knowledge about circular economy=2<br>What is your segment of acting?=%{x}<br>count=%{y}<extra></extra>",
         "legendgroup": "2",
         "marker": {
          "color": "#ab63fa",
          "pattern": {
           "shape": ""
          }
         },
         "name": "2",
         "offsetgroup": "2",
         "orientation": "v",
         "showlegend": true,
         "textangle": 0,
         "textfont": {
          "size": 12
         },
         "textposition": "outside",
         "type": "histogram",
         "x": [
          "Academia/Research Institution",
          "Academia/Research Institution",
          "Engineering",
          "Energy and heat processing and management"
         ],
         "xaxis": "x",
         "yaxis": "y"
        }
       ],
       "layout": {
        "autosize": true,
        "barmode": "group",
        "legend": {
         "title": {
          "text": "Self knowledge about circular economy"
         },
         "tracegroupgap": 0
        },
        "margin": {
         "t": 60
        },
        "template": {
         "data": {
          "bar": [
           {
            "error_x": {
             "color": "#2a3f5f"
            },
            "error_y": {
             "color": "#2a3f5f"
            },
            "marker": {
             "line": {
              "color": "#E5ECF6",
              "width": 0.5
             },
             "pattern": {
              "fillmode": "overlay",
              "size": 10,
              "solidity": 0.2
             }
            },
            "type": "bar"
           }
          ],
          "barpolar": [
           {
            "marker": {
             "line": {
              "color": "#E5ECF6",
              "width": 0.5
             },
             "pattern": {
              "fillmode": "overlay",
              "size": 10,
              "solidity": 0.2
             }
            },
            "type": "barpolar"
           }
          ],
          "carpet": [
           {
            "aaxis": {
             "endlinecolor": "#2a3f5f",
             "gridcolor": "white",
             "linecolor": "white",
             "minorgridcolor": "white",
             "startlinecolor": "#2a3f5f"
            },
            "baxis": {
             "endlinecolor": "#2a3f5f",
             "gridcolor": "white",
             "linecolor": "white",
             "minorgridcolor": "white",
             "startlinecolor": "#2a3f5f"
            },
            "type": "carpet"
           }
          ],
          "choropleth": [
           {
            "colorbar": {
             "outlinewidth": 0,
             "ticks": ""
            },
            "type": "choropleth"
           }
          ],
          "contour": [
           {
            "colorbar": {
             "outlinewidth": 0,
             "ticks": ""
            },
            "colorscale": [
             [
              0,
              "#0d0887"
             ],
             [
              0.1111111111111111,
              "#46039f"
             ],
             [
              0.2222222222222222,
              "#7201a8"
             ],
             [
              0.3333333333333333,
              "#9c179e"
             ],
             [
              0.4444444444444444,
              "#bd3786"
             ],
             [
              0.5555555555555556,
              "#d8576b"
             ],
             [
              0.6666666666666666,
              "#ed7953"
             ],
             [
              0.7777777777777778,
              "#fb9f3a"
             ],
             [
              0.8888888888888888,
              "#fdca26"
             ],
             [
              1,
              "#f0f921"
             ]
            ],
            "type": "contour"
           }
          ],
          "contourcarpet": [
           {
            "colorbar": {
             "outlinewidth": 0,
             "ticks": ""
            },
            "type": "contourcarpet"
           }
          ],
          "heatmap": [
           {
            "colorbar": {
             "outlinewidth": 0,
             "ticks": ""
            },
            "colorscale": [
             [
              0,
              "#0d0887"
             ],
             [
              0.1111111111111111,
              "#46039f"
             ],
             [
              0.2222222222222222,
              "#7201a8"
             ],
             [
              0.3333333333333333,
              "#9c179e"
             ],
             [
              0.4444444444444444,
              "#bd3786"
             ],
             [
              0.5555555555555556,
              "#d8576b"
             ],
             [
              0.6666666666666666,
              "#ed7953"
             ],
             [
              0.7777777777777778,
              "#fb9f3a"
             ],
             [
              0.8888888888888888,
              "#fdca26"
             ],
             [
              1,
              "#f0f921"
             ]
            ],
            "type": "heatmap"
           }
          ],
          "heatmapgl": [
           {
            "colorbar": {
             "outlinewidth": 0,
             "ticks": ""
            },
            "colorscale": [
             [
              0,
              "#0d0887"
             ],
             [
              0.1111111111111111,
              "#46039f"
             ],
             [
              0.2222222222222222,
              "#7201a8"
             ],
             [
              0.3333333333333333,
              "#9c179e"
             ],
             [
              0.4444444444444444,
              "#bd3786"
             ],
             [
              0.5555555555555556,
              "#d8576b"
             ],
             [
              0.6666666666666666,
              "#ed7953"
             ],
             [
              0.7777777777777778,
              "#fb9f3a"
             ],
             [
              0.8888888888888888,
              "#fdca26"
             ],
             [
              1,
              "#f0f921"
             ]
            ],
            "type": "heatmapgl"
           }
          ],
          "histogram": [
           {
            "marker": {
             "pattern": {
              "fillmode": "overlay",
              "size": 10,
              "solidity": 0.2
             }
            },
            "type": "histogram"
           }
          ],
          "histogram2d": [
           {
            "colorbar": {
             "outlinewidth": 0,
             "ticks": ""
            },
            "colorscale": [
             [
              0,
              "#0d0887"
             ],
             [
              0.1111111111111111,
              "#46039f"
             ],
             [
              0.2222222222222222,
              "#7201a8"
             ],
             [
              0.3333333333333333,
              "#9c179e"
             ],
             [
              0.4444444444444444,
              "#bd3786"
             ],
             [
              0.5555555555555556,
              "#d8576b"
             ],
             [
              0.6666666666666666,
              "#ed7953"
             ],
             [
              0.7777777777777778,
              "#fb9f3a"
             ],
             [
              0.8888888888888888,
              "#fdca26"
             ],
             [
              1,
              "#f0f921"
             ]
            ],
            "type": "histogram2d"
           }
          ],
          "histogram2dcontour": [
           {
            "colorbar": {
             "outlinewidth": 0,
             "ticks": ""
            },
            "colorscale": [
             [
              0,
              "#0d0887"
             ],
             [
              0.1111111111111111,
              "#46039f"
             ],
             [
              0.2222222222222222,
              "#7201a8"
             ],
             [
              0.3333333333333333,
              "#9c179e"
             ],
             [
              0.4444444444444444,
              "#bd3786"
             ],
             [
              0.5555555555555556,
              "#d8576b"
             ],
             [
              0.6666666666666666,
              "#ed7953"
             ],
             [
              0.7777777777777778,
              "#fb9f3a"
             ],
             [
              0.8888888888888888,
              "#fdca26"
             ],
             [
              1,
              "#f0f921"
             ]
            ],
            "type": "histogram2dcontour"
           }
          ],
          "mesh3d": [
           {
            "colorbar": {
             "outlinewidth": 0,
             "ticks": ""
            },
            "type": "mesh3d"
           }
          ],
          "parcoords": [
           {
            "line": {
             "colorbar": {
              "outlinewidth": 0,
              "ticks": ""
             }
            },
            "type": "parcoords"
           }
          ],
          "pie": [
           {
            "automargin": true,
            "type": "pie"
           }
          ],
          "scatter": [
           {
            "fillpattern": {
             "fillmode": "overlay",
             "size": 10,
             "solidity": 0.2
            },
            "type": "scatter"
           }
          ],
          "scatter3d": [
           {
            "line": {
             "colorbar": {
              "outlinewidth": 0,
              "ticks": ""
             }
            },
            "marker": {
             "colorbar": {
              "outlinewidth": 0,
              "ticks": ""
             }
            },
            "type": "scatter3d"
           }
          ],
          "scattercarpet": [
           {
            "marker": {
             "colorbar": {
              "outlinewidth": 0,
              "ticks": ""
             }
            },
            "type": "scattercarpet"
           }
          ],
          "scattergeo": [
           {
            "marker": {
             "colorbar": {
              "outlinewidth": 0,
              "ticks": ""
             }
            },
            "type": "scattergeo"
           }
          ],
          "scattergl": [
           {
            "marker": {
             "colorbar": {
              "outlinewidth": 0,
              "ticks": ""
             }
            },
            "type": "scattergl"
           }
          ],
          "scattermapbox": [
           {
            "marker": {
             "colorbar": {
              "outlinewidth": 0,
              "ticks": ""
             }
            },
            "type": "scattermapbox"
           }
          ],
          "scatterpolar": [
           {
            "marker": {
             "colorbar": {
              "outlinewidth": 0,
              "ticks": ""
             }
            },
            "type": "scatterpolar"
           }
          ],
          "scatterpolargl": [
           {
            "marker": {
             "colorbar": {
              "outlinewidth": 0,
              "ticks": ""
             }
            },
            "type": "scatterpolargl"
           }
          ],
          "scatterternary": [
           {
            "marker": {
             "colorbar": {
              "outlinewidth": 0,
              "ticks": ""
             }
            },
            "type": "scatterternary"
           }
          ],
          "surface": [
           {
            "colorbar": {
             "outlinewidth": 0,
             "ticks": ""
            },
            "colorscale": [
             [
              0,
              "#0d0887"
             ],
             [
              0.1111111111111111,
              "#46039f"
             ],
             [
              0.2222222222222222,
              "#7201a8"
             ],
             [
              0.3333333333333333,
              "#9c179e"
             ],
             [
              0.4444444444444444,
              "#bd3786"
             ],
             [
              0.5555555555555556,
              "#d8576b"
             ],
             [
              0.6666666666666666,
              "#ed7953"
             ],
             [
              0.7777777777777778,
              "#fb9f3a"
             ],
             [
              0.8888888888888888,
              "#fdca26"
             ],
             [
              1,
              "#f0f921"
             ]
            ],
            "type": "surface"
           }
          ],
          "table": [
           {
            "cells": {
             "fill": {
              "color": "#EBF0F8"
             },
             "line": {
              "color": "white"
             }
            },
            "header": {
             "fill": {
              "color": "#C8D4E3"
             },
             "line": {
              "color": "white"
             }
            },
            "type": "table"
           }
          ]
         },
         "layout": {
          "annotationdefaults": {
           "arrowcolor": "#2a3f5f",
           "arrowhead": 0,
           "arrowwidth": 1
          },
          "autotypenumbers": "strict",
          "coloraxis": {
           "colorbar": {
            "outlinewidth": 0,
            "ticks": ""
           }
          },
          "colorscale": {
           "diverging": [
            [
             0,
             "#8e0152"
            ],
            [
             0.1,
             "#c51b7d"
            ],
            [
             0.2,
             "#de77ae"
            ],
            [
             0.3,
             "#f1b6da"
            ],
            [
             0.4,
             "#fde0ef"
            ],
            [
             0.5,
             "#f7f7f7"
            ],
            [
             0.6,
             "#e6f5d0"
            ],
            [
             0.7,
             "#b8e186"
            ],
            [
             0.8,
             "#7fbc41"
            ],
            [
             0.9,
             "#4d9221"
            ],
            [
             1,
             "#276419"
            ]
           ],
           "sequential": [
            [
             0,
             "#0d0887"
            ],
            [
             0.1111111111111111,
             "#46039f"
            ],
            [
             0.2222222222222222,
             "#7201a8"
            ],
            [
             0.3333333333333333,
             "#9c179e"
            ],
            [
             0.4444444444444444,
             "#bd3786"
            ],
            [
             0.5555555555555556,
             "#d8576b"
            ],
            [
             0.6666666666666666,
             "#ed7953"
            ],
            [
             0.7777777777777778,
             "#fb9f3a"
            ],
            [
             0.8888888888888888,
             "#fdca26"
            ],
            [
             1,
             "#f0f921"
            ]
           ],
           "sequentialminus": [
            [
             0,
             "#0d0887"
            ],
            [
             0.1111111111111111,
             "#46039f"
            ],
            [
             0.2222222222222222,
             "#7201a8"
            ],
            [
             0.3333333333333333,
             "#9c179e"
            ],
            [
             0.4444444444444444,
             "#bd3786"
            ],
            [
             0.5555555555555556,
             "#d8576b"
            ],
            [
             0.6666666666666666,
             "#ed7953"
            ],
            [
             0.7777777777777778,
             "#fb9f3a"
            ],
            [
             0.8888888888888888,
             "#fdca26"
            ],
            [
             1,
             "#f0f921"
            ]
           ]
          },
          "colorway": [
           "#636efa",
           "#EF553B",
           "#00cc96",
           "#ab63fa",
           "#FFA15A",
           "#19d3f3",
           "#FF6692",
           "#B6E880",
           "#FF97FF",
           "#FECB52"
          ],
          "font": {
           "color": "#2a3f5f"
          },
          "geo": {
           "bgcolor": "white",
           "lakecolor": "white",
           "landcolor": "#E5ECF6",
           "showlakes": true,
           "showland": true,
           "subunitcolor": "white"
          },
          "hoverlabel": {
           "align": "left"
          },
          "hovermode": "closest",
          "mapbox": {
           "style": "light"
          },
          "paper_bgcolor": "white",
          "plot_bgcolor": "#E5ECF6",
          "polar": {
           "angularaxis": {
            "gridcolor": "white",
            "linecolor": "white",
            "ticks": ""
           },
           "bgcolor": "#E5ECF6",
           "radialaxis": {
            "gridcolor": "white",
            "linecolor": "white",
            "ticks": ""
           }
          },
          "scene": {
           "xaxis": {
            "backgroundcolor": "#E5ECF6",
            "gridcolor": "white",
            "gridwidth": 2,
            "linecolor": "white",
            "showbackground": true,
            "ticks": "",
            "zerolinecolor": "white"
           },
           "yaxis": {
            "backgroundcolor": "#E5ECF6",
            "gridcolor": "white",
            "gridwidth": 2,
            "linecolor": "white",
            "showbackground": true,
            "ticks": "",
            "zerolinecolor": "white"
           },
           "zaxis": {
            "backgroundcolor": "#E5ECF6",
            "gridcolor": "white",
            "gridwidth": 2,
            "linecolor": "white",
            "showbackground": true,
            "ticks": "",
            "zerolinecolor": "white"
           }
          },
          "shapedefaults": {
           "line": {
            "color": "#2a3f5f"
           }
          },
          "ternary": {
           "aaxis": {
            "gridcolor": "white",
            "linecolor": "white",
            "ticks": ""
           },
           "baxis": {
            "gridcolor": "white",
            "linecolor": "white",
            "ticks": ""
           },
           "bgcolor": "#E5ECF6",
           "caxis": {
            "gridcolor": "white",
            "linecolor": "white",
            "ticks": ""
           }
          },
          "title": {
           "x": 0.05
          },
          "xaxis": {
           "automargin": true,
           "gridcolor": "white",
           "linecolor": "white",
           "ticks": "",
           "title": {
            "standoff": 15
           },
           "zerolinecolor": "white",
           "zerolinewidth": 2
          },
          "yaxis": {
           "automargin": true,
           "gridcolor": "white",
           "linecolor": "white",
           "ticks": "",
           "title": {
            "standoff": 15
           },
           "zerolinecolor": "white",
           "zerolinewidth": 2
          }
         }
        },
        "xaxis": {
         "anchor": "y",
         "autorange": false,
         "categoryorder": "total descending",
         "domain": [
          0,
          1
         ],
         "range": [
          -0.5,
          8.266726943942134
         ],
         "title": {
          "text": "What is your segment of acting?"
         },
         "type": "category"
        },
        "yaxis": {
         "anchor": "x",
         "autorange": true,
         "domain": [
          0,
          1
         ],
         "range": [
          0,
          24.210526315789473
         ],
         "title": {
          "text": "count"
         }
        }
       }
      },
      "image/png": "[encoded data removed]",
      "text/html": [
       "<div>                            <div id=\"68389dbd-3afb-46f4-8186-78cbecad2c9e\" class=\"plotly-graph-div\" style=\"height:525px; width:100%;\"></div>            <script type=\"text/javascript\">                require([\"plotly\"], function(Plotly) {                    window.PLOTLYENV=window.PLOTLYENV || {};                                    if (document.getElementById(\"68389dbd-3afb-46f4-8186-78cbecad2c9e\")) {                    Plotly.newPlot(                        \"68389dbd-3afb-46f4-8186-78cbecad2c9e\",                        [{\"alignmentgroup\":\"True\",\"bingroup\":\"x\",\"hovertemplate\":\"Self knowledge about circular economy=5<br>What is your segment of acting?=%{x}<br>count=%{y}<extra></extra>\",\"legendgroup\":\"5\",\"marker\":{\"color\":\"#636efa\",\"pattern\":{\"shape\":\"\"}},\"name\":\"5\",\"offsetgroup\":\"5\",\"orientation\":\"v\",\"showlegend\":true,\"x\":[\"Waste processing and management\",\"Academia/Research Institution\",\"Textile\",\"Waste processing and management\",\"Consultancy\",\"Academia/Research Institution\",\"Construction\",\"Academia/Research Institution\",\"Consultancy\",\"Non-governmental organization (NGO)\",\"Academia/Research Institution\",\"Consultancy\",\"Academia/Research Institution\",\"Consultancy\",\"Academia/Research Institution\",\"Academia/Research Institution\",\"Academia/Research Institution\",\"Academia/Research Institution\",\"Waste processing and management\",\"Academia/Research Institution\",\"Academia/Research Institution\",\"Waste processing and management\",\"Furniture\",\"Consultancy\",\"Government\",\"Textile\",\"Consultancy\"],\"xaxis\":\"x\",\"yaxis\":\"y\",\"type\":\"histogram\",\"textfont\":{\"size\":12},\"cliponaxis\":false,\"textangle\":0,\"textposition\":\"outside\"},{\"alignmentgroup\":\"True\",\"bingroup\":\"x\",\"hovertemplate\":\"Self knowledge about circular economy=4<br>What is your segment of acting?=%{x}<br>count=%{y}<extra></extra>\",\"legendgroup\":\"4\",\"marker\":{\"color\":\"#EF553B\",\"pattern\":{\"shape\":\"\"}},\"name\":\"4\",\"offsetgroup\":\"4\",\"orientation\":\"v\",\"showlegend\":true,\"x\":[\"Academia/Research Institution\",\"Academia/Research Institution\",\"Academia/Research Institution\",\"Consultancy\",\"Consultancy\",\"Academia/Research Institution\",\"Academia/Research Institution\",\"Consultancy\",\"Consultancy\",\"Non-governmental organization (NGO)\",\"Textile\",\"Furniture\",\"Engineering\",\"Waste processing and management\",\"Academia/Research Institution\",\"Recycling\",\"Academia/Research Institution\",\"Academia/Research Institution\",\"Non-governmental organization (NGO)\",\"Academia/Research Institution\",\"Academia/Research Institution\",\"Academia/Research Institution\",\"Packaging\",\"Academia/Research Institution\",\"Water processing and management\",\"Consultancy\",null,\"Consultancy\",\"Academia/Research Institution\",\"Engineering\",\"Consultancy\",\"Consultancy\",\"Consultancy\",\"Consultancy\",\"Engineering\",\"Engineering\",\"Engineering\",\"Consultancy\",\"Academia/Research Institution\",\"Academia/Research Institution\",\"Academia/Research Institution\",\"Product development \",\"Packaging\",\"Academia/Research Institution\",\"Academia/Research Institution\",\"Waste processing and management\",\"Academia/Research Institution\",\"Government\",null,\"Water processing and management\",\"Academia/Research Institution\",\"Consultancy\",\"Production\",\"Textile\",\"Academia/Research Institution\",\"Academia/Research Institution\",\"Academia/Research Institution\",\"Consultancy\",\"Waste processing and management\"],\"xaxis\":\"x\",\"yaxis\":\"y\",\"type\":\"histogram\",\"textfont\":{\"size\":12},\"cliponaxis\":false,\"textangle\":0,\"textposition\":\"outside\"},{\"alignmentgroup\":\"True\",\"bingroup\":\"x\",\"hovertemplate\":\"Self knowledge about circular economy=3<br>What is your segment of acting?=%{x}<br>count=%{y}<extra></extra>\",\"legendgroup\":\"3\",\"marker\":{\"color\":\"#00cc96\",\"pattern\":{\"shape\":\"\"}},\"name\":\"3\",\"offsetgroup\":\"3\",\"orientation\":\"v\",\"showlegend\":true,\"x\":[\"Academia/Research Institution\",\"Academia/Research Institution\",\"Academia/Research Institution\",\"Academia/Research Institution\",\"Personal\",\"Academia/Research Institution\",\"Construction\",\"Academia/Research Institution\",\"Waste processing and management\",\"Academia/Research Institution\",\"Non-governmental organization (NGO)\",\"Engineering\",\"Academia/Research Institution\",\"Consultancy\",\"Academia/Research Institution\",\"Non-governmental organization (NGO)\",\"Non-governmental organization (NGO)\",\"Academia/Research Institution\"],\"xaxis\":\"x\",\"yaxis\":\"y\",\"type\":\"histogram\",\"textfont\":{\"size\":12},\"cliponaxis\":false,\"textangle\":0,\"textposition\":\"outside\"},{\"alignmentgroup\":\"True\",\"bingroup\":\"x\",\"hovertemplate\":\"Self knowledge about circular economy=2<br>What is your segment of acting?=%{x}<br>count=%{y}<extra></extra>\",\"legendgroup\":\"2\",\"marker\":{\"color\":\"#ab63fa\",\"pattern\":{\"shape\":\"\"}},\"name\":\"2\",\"offsetgroup\":\"2\",\"orientation\":\"v\",\"showlegend\":true,\"x\":[\"Academia/Research Institution\",\"Academia/Research Institution\",\"Engineering\",\"Energy and heat processing and management\"],\"xaxis\":\"x\",\"yaxis\":\"y\",\"type\":\"histogram\",\"textfont\":{\"size\":12},\"cliponaxis\":false,\"textangle\":0,\"textposition\":\"outside\"}],                        {\"template\":{\"data\":{\"histogram2dcontour\":[{\"type\":\"histogram2dcontour\",\"colorbar\":{\"outlinewidth\":0,\"ticks\":\"\"},\"colorscale\":[[0.0,\"#0d0887\"],[0.1111111111111111,\"#46039f\"],[0.2222222222222222,\"#7201a8\"],[0.3333333333333333,\"#9c179e\"],[0.4444444444444444,\"#bd3786\"],[0.5555555555555556,\"#d8576b\"],[0.6666666666666666,\"#ed7953\"],[0.7777777777777778,\"#fb9f3a\"],[0.8888888888888888,\"#fdca26\"],[1.0,\"#f0f921\"]]}],\"choropleth\":[{\"type\":\"choropleth\",\"colorbar\":{\"outlinewidth\":0,\"ticks\":\"\"}}],\"histogram2d\":[{\"type\":\"histogram2d\",\"colorbar\":{\"outlinewidth\":0,\"ticks\":\"\"},\"colorscale\":[[0.0,\"#0d0887\"],[0.1111111111111111,\"#46039f\"],[0.2222222222222222,\"#7201a8\"],[0.3333333333333333,\"#9c179e\"],[0.4444444444444444,\"#bd3786\"],[0.5555555555555556,\"#d8576b\"],[0.6666666666666666,\"#ed7953\"],[0.7777777777777778,\"#fb9f3a\"],[0.8888888888888888,\"#fdca26\"],[1.0,\"#f0f921\"]]}],\"heatmap\":[{\"type\":\"heatmap\",\"colorbar\":{\"outlinewidth\":0,\"ticks\":\"\"},\"colorscale\":[[0.0,\"#0d0887\"],[0.1111111111111111,\"#46039f\"],[0.2222222222222222,\"#7201a8\"],[0.3333333333333333,\"#9c179e\"],[0.4444444444444444,\"#bd3786\"],[0.5555555555555556,\"#d8576b\"],[0.6666666666666666,\"#ed7953\"],[0.7777777777777778,\"#fb9f3a\"],[0.8888888888888888,\"#fdca26\"],[1.0,\"#f0f921\"]]}],\"heatmapgl\":[{\"type\":\"heatmapgl\",\"colorbar\":{\"outlinewidth\":0,\"ticks\":\"\"},\"colorscale\":[[0.0,\"#0d0887\"],[0.1111111111111111,\"#46039f\"],[0.2222222222222222,\"#7201a8\"],[0.3333333333333333,\"#9c179e\"],[0.4444444444444444,\"#bd3786\"],[0.5555555555555556,\"#d8576b\"],[0.6666666666666666,\"#ed7953\"],[0.7777777777777778,\"#fb9f3a\"],[0.8888888888888888,\"#fdca26\"],[1.0,\"#f0f921\"]]}],\"contourcarpet\":[{\"type\":\"contourcarpet\",\"colorbar\":{\"outlinewidth\":0,\"ticks\":\"\"}}],\"contour\":[{\"type\":\"contour\",\"colorbar\":{\"outlinewidth\":0,\"ticks\":\"\"},\"colorscale\":[[0.0,\"#0d0887\"],[0.1111111111111111,\"#46039f\"],[0.2222222222222222,\"#7201a8\"],[0.3333333333333333,\"#9c179e\"],[0.4444444444444444,\"#bd3786\"],[0.5555555555555556,\"#d8576b\"],[0.6666666666666666,\"#ed7953\"],[0.7777777777777778,\"#fb9f3a\"],[0.8888888888888888,\"#fdca26\"],[1.0,\"#f0f921\"]]}],\"surface\":[{\"type\":\"surface\",\"colorbar\":{\"outlinewidth\":0,\"ticks\":\"\"},\"colorscale\":[[0.0,\"#0d0887\"],[0.1111111111111111,\"#46039f\"],[0.2222222222222222,\"#7201a8\"],[0.3333333333333333,\"#9c179e\"],[0.4444444444444444,\"#bd3786\"],[0.5555555555555556,\"#d8576b\"],[0.6666666666666666,\"#ed7953\"],[0.7777777777777778,\"#fb9f3a\"],[0.8888888888888888,\"#fdca26\"],[1.0,\"#f0f921\"]]}],\"mesh3d\":[{\"type\":\"mesh3d\",\"colorbar\":{\"outlinewidth\":0,\"ticks\":\"\"}}],\"scatter\":[{\"fillpattern\":{\"fillmode\":\"overlay\",\"size\":10,\"solidity\":0.2},\"type\":\"scatter\"}],\"parcoords\":[{\"type\":\"parcoords\",\"line\":{\"colorbar\":{\"outlinewidth\":0,\"ticks\":\"\"}}}],\"scatterpolargl\":[{\"type\":\"scatterpolargl\",\"marker\":{\"colorbar\":{\"outlinewidth\":0,\"ticks\":\"\"}}}],\"bar\":[{\"error_x\":{\"color\":\"#2a3f5f\"},\"error_y\":{\"color\":\"#2a3f5f\"},\"marker\":{\"line\":{\"color\":\"#E5ECF6\",\"width\":0.5},\"pattern\":{\"fillmode\":\"overlay\",\"size\":10,\"solidity\":0.2}},\"type\":\"bar\"}],\"scattergeo\":[{\"type\":\"scattergeo\",\"marker\":{\"colorbar\":{\"outlinewidth\":0,\"ticks\":\"\"}}}],\"scatterpolar\":[{\"type\":\"scatterpolar\",\"marker\":{\"colorbar\":{\"outlinewidth\":0,\"ticks\":\"\"}}}],\"histogram\":[{\"marker\":{\"pattern\":{\"fillmode\":\"overlay\",\"size\":10,\"solidity\":0.2}},\"type\":\"histogram\"}],\"scattergl\":[{\"type\":\"scattergl\",\"marker\":{\"colorbar\":{\"outlinewidth\":0,\"ticks\":\"\"}}}],\"scatter3d\":[{\"type\":\"scatter3d\",\"line\":{\"colorbar\":{\"outlinewidth\":0,\"ticks\":\"\"}},\"marker\":{\"colorbar\":{\"outlinewidth\":0,\"ticks\":\"\"}}}],\"scattermapbox\":[{\"type\":\"scattermapbox\",\"marker\":{\"colorbar\":{\"outlinewidth\":0,\"ticks\":\"\"}}}],\"scatterternary\":[{\"type\":\"scatterternary\",\"marker\":{\"colorbar\":{\"outlinewidth\":0,\"ticks\":\"\"}}}],\"scattercarpet\":[{\"type\":\"scattercarpet\",\"marker\":{\"colorbar\":{\"outlinewidth\":0,\"ticks\":\"\"}}}],\"carpet\":[{\"aaxis\":{\"endlinecolor\":\"#2a3f5f\",\"gridcolor\":\"white\",\"linecolor\":\"white\",\"minorgridcolor\":\"white\",\"startlinecolor\":\"#2a3f5f\"},\"baxis\":{\"endlinecolor\":\"#2a3f5f\",\"gridcolor\":\"white\",\"linecolor\":\"white\",\"minorgridcolor\":\"white\",\"startlinecolor\":\"#2a3f5f\"},\"type\":\"carpet\"}],\"table\":[{\"cells\":{\"fill\":{\"color\":\"#EBF0F8\"},\"line\":{\"color\":\"white\"}},\"header\":{\"fill\":{\"color\":\"#C8D4E3\"},\"line\":{\"color\":\"white\"}},\"type\":\"table\"}],\"barpolar\":[{\"marker\":{\"line\":{\"color\":\"#E5ECF6\",\"width\":0.5},\"pattern\":{\"fillmode\":\"overlay\",\"size\":10,\"solidity\":0.2}},\"type\":\"barpolar\"}],\"pie\":[{\"automargin\":true,\"type\":\"pie\"}]},\"layout\":{\"autotypenumbers\":\"strict\",\"colorway\":[\"#636efa\",\"#EF553B\",\"#00cc96\",\"#ab63fa\",\"#FFA15A\",\"#19d3f3\",\"#FF6692\",\"#B6E880\",\"#FF97FF\",\"#FECB52\"],\"font\":{\"color\":\"#2a3f5f\"},\"hovermode\":\"closest\",\"hoverlabel\":{\"align\":\"left\"},\"paper_bgcolor\":\"white\",\"plot_bgcolor\":\"#E5ECF6\",\"polar\":{\"bgcolor\":\"#E5ECF6\",\"angularaxis\":{\"gridcolor\":\"white\",\"linecolor\":\"white\",\"ticks\":\"\"},\"radialaxis\":{\"gridcolor\":\"white\",\"linecolor\":\"white\",\"ticks\":\"\"}},\"ternary\":{\"bgcolor\":\"#E5ECF6\",\"aaxis\":{\"gridcolor\":\"white\",\"linecolor\":\"white\",\"ticks\":\"\"},\"baxis\":{\"gridcolor\":\"white\",\"linecolor\":\"white\",\"ticks\":\"\"},\"caxis\":{\"gridcolor\":\"white\",\"linecolor\":\"white\",\"ticks\":\"\"}},\"coloraxis\":{\"colorbar\":{\"outlinewidth\":0,\"ticks\":\"\"}},\"colorscale\":{\"sequential\":[[0.0,\"#0d0887\"],[0.1111111111111111,\"#46039f\"],[0.2222222222222222,\"#7201a8\"],[0.3333333333333333,\"#9c179e\"],[0.4444444444444444,\"#bd3786\"],[0.5555555555555556,\"#d8576b\"],[0.6666666666666666,\"#ed7953\"],[0.7777777777777778,\"#fb9f3a\"],[0.8888888888888888,\"#fdca26\"],[1.0,\"#f0f921\"]],\"sequentialminus\":[[0.0,\"#0d0887\"],[0.1111111111111111,\"#46039f\"],[0.2222222222222222,\"#7201a8\"],[0.3333333333333333,\"#9c179e\"],[0.4444444444444444,\"#bd3786\"],[0.5555555555555556,\"#d8576b\"],[0.6666666666666666,\"#ed7953\"],[0.7777777777777778,\"#fb9f3a\"],[0.8888888888888888,\"#fdca26\"],[1.0,\"#f0f921\"]],\"diverging\":[[0,\"#8e0152\"],[0.1,\"#c51b7d\"],[0.2,\"#de77ae\"],[0.3,\"#f1b6da\"],[0.4,\"#fde0ef\"],[0.5,\"#f7f7f7\"],[0.6,\"#e6f5d0\"],[0.7,\"#b8e186\"],[0.8,\"#7fbc41\"],[0.9,\"#4d9221\"],[1,\"#276419\"]]},\"xaxis\":{\"gridcolor\":\"white\",\"linecolor\":\"white\",\"ticks\":\"\",\"title\":{\"standoff\":15},\"zerolinecolor\":\"white\",\"automargin\":true,\"zerolinewidth\":2},\"yaxis\":{\"gridcolor\":\"white\",\"linecolor\":\"white\",\"ticks\":\"\",\"title\":{\"standoff\":15},\"zerolinecolor\":\"white\",\"automargin\":true,\"zerolinewidth\":2},\"scene\":{\"xaxis\":{\"backgroundcolor\":\"#E5ECF6\",\"gridcolor\":\"white\",\"linecolor\":\"white\",\"showbackground\":true,\"ticks\":\"\",\"zerolinecolor\":\"white\",\"gridwidth\":2},\"yaxis\":{\"backgroundcolor\":\"#E5ECF6\",\"gridcolor\":\"white\",\"linecolor\":\"white\",\"showbackground\":true,\"ticks\":\"\",\"zerolinecolor\":\"white\",\"gridwidth\":2},\"zaxis\":{\"backgroundcolor\":\"#E5ECF6\",\"gridcolor\":\"white\",\"linecolor\":\"white\",\"showbackground\":true,\"ticks\":\"\",\"zerolinecolor\":\"white\",\"gridwidth\":2}},\"shapedefaults\":{\"line\":{\"color\":\"#2a3f5f\"}},\"annotationdefaults\":{\"arrowcolor\":\"#2a3f5f\",\"arrowhead\":0,\"arrowwidth\":1},\"geo\":{\"bgcolor\":\"white\",\"landcolor\":\"#E5ECF6\",\"subunitcolor\":\"white\",\"showland\":true,\"showlakes\":true,\"lakecolor\":\"white\"},\"title\":{\"x\":0.05},\"mapbox\":{\"style\":\"light\"}}},\"xaxis\":{\"anchor\":\"y\",\"domain\":[0.0,1.0],\"title\":{\"text\":\"What is your segment of acting?\"},\"categoryorder\":\"total descending\"},\"yaxis\":{\"anchor\":\"x\",\"domain\":[0.0,1.0],\"title\":{\"text\":\"count\"}},\"legend\":{\"title\":{\"text\":\"Self knowledge about circular economy\"},\"tracegroupgap\":0},\"margin\":{\"t\":60},\"barmode\":\"group\"},                        {\"responsive\": true}                    ).then(function(){\n",
       "                            \n",
       "var gd = document.getElementById('68389dbd-3afb-46f4-8186-78cbecad2c9e');\n",
       "var x = new MutationObserver(function (mutations, observer) {{\n",
       "        var display = window.getComputedStyle(gd).display;\n",
       "        if (!display || display === 'none') {{\n",
       "            console.log([gd, 'removed!']);\n",
       "            Plotly.purge(gd);\n",
       "            observer.disconnect();\n",
       "        }}\n",
       "}});\n",
       "\n",
       "// Listen for the removal of the full notebook cells\n",
       "var notebookContainer = gd.closest('#notebook-container');\n",
       "if (notebookContainer) {{\n",
       "    x.observe(notebookContainer, {childList: true});\n",
       "}}\n",
       "\n",
       "// Listen for the clearing of the current output cell\n",
       "var outputEl = gd.closest('.output');\n",
       "if (outputEl) {{\n",
       "    x.observe(outputEl, {childList: true});\n",
       "}}\n",
       "\n",
       "                        })                };                });            </script>        </div>"
      ]
     },
     "metadata": {},
     "output_type": "display_data"
    }
   ],
   "source": [
    "import plotly.express as px\n",
    "\n",
    "fig = px.histogram(df, x='What is your segment of acting?',barmode='group',color='Self knowledge about circular economy',\n",
    "                    title=\"\",text_auto=False)\n",
    "fig.update_xaxes(categoryorder=\"total descending\")\n",
    "fig.update_traces(textfont_size=12, textangle=0, textposition=\"outside\", cliponaxis=False)\n",
    "fig.show()"
   ]
  },
  {
   "cell_type": "markdown",
   "id": "2b02e842-283f-4e03-8037-17503c58b2cd",
   "metadata": {},
   "source": [
    "### `CONHECIMENTO DA EC VS SETOR DE ATUAÇÃO`"
   ]
  },
  {
   "cell_type": "code",
   "execution_count": 57,
   "id": "bf7aeaeb-9db5-4708-9469-36bea954a66c",
   "metadata": {},
   "outputs": [],
   "source": [
    "df.iloc[:,-2] = df.iloc[:,-2].apply(lambda x: str(x))"
   ]
  },
  {
   "cell_type": "code",
   "execution_count": 64,
   "id": "15dcddf2-890e-4649-bcf6-c6d50877fca1",
   "metadata": {},
   "outputs": [],
   "source": [
    "# correção com list comprehention\n",
    "df.iloc[:,-2] = [i[:i.find('(')] if(' in i else i[:] for i in df.iloc[:,-2]]"
   ]
  },
  {
   "cell_type": "code",
   "execution_count": 67,
   "id": "513662d1-48f2-4ec0-824f-aa81eff68fef",
   "metadata": {},
   "outputs": [
    {
     "data": {
      "text/plain": [
       "Advisor                             28\n",
       "Staff                               23\n",
       "Executive or Strategic Manager      15\n",
       "Managers                            14\n",
       "Middle Management                   10\n",
       "nan                                  3\n",
       "N\\A                                  1\n",
       "Sustainability Assistant             1\n",
       "Project Manager.                     1\n",
       "PhD                                  1\n",
       "Student at AAU                       1\n",
       "head of research unit                1\n",
       "i'm still under education            1\n",
       "Master Thesis Student                1\n",
       "CE Expert                            1\n",
       "Researcher                           1\n",
       "Unemployed                           1\n",
       "Student                              1\n",
       "Professor                            1\n",
       "PhD Fel2                             1\n",
       "business consultant                  1\n",
       "Name: How do you describe your position in your organization?, dtype: int64"
      ]
     },
     "execution_count": 67,
     "metadata": {},
     "output_type": "execute_result"
    }
   ],
   "source": [
    "df.iloc[:,-2].value_counts()"
   ]
  },
  {
   "cell_type": "code",
   "execution_count": 65,
   "id": "982be498-0ff6-4f8d-a0fa-3acfb58a53ff",
   "metadata": {},
   "outputs": [
    {
     "data": {
      "application/vnd.plotly.v1+json": {
       "config": {
        "plotlyServerURL": "https://plot.ly"
       },
       "data": [
        {
         "alignmentgroup": "True",
         "bingroup": "x",
         "cliponaxis": false,
         "hovertemplate": "Self knowledge about circular economy=5<br>How do you describe your position in your organization?=%{x}<br>count=%{y}<extra></extra>",
         "legendgroup": "5",
         "marker": {
          "color": "#636efa",
          "pattern": {
           "shape": ""
          }
         },
         "name": "5",
         "offsetgroup": "5",
         "orientation": "v",
         "showlegend": true,
         "textangle": 45,
         "textfont": {
          "size": 12
         },
         "textposition": "outside",
         "type": "histogram",
         "x": [
          "Advisor ",
          "Middle Management ",
          "Middle Management ",
          "Managers",
          "Executive or Strategic Manager  ",
          "Advisor ",
          "Staff ",
          "Staff ",
          "Executive or Strategic Manager  ",
          "CE Expert",
          "Managers",
          "Executive or Strategic Manager  ",
          "Staff ",
          "Managers",
          "Managers",
          "Staff ",
          "Advisor ",
          "Advisor ",
          "Executive or Strategic Manager  ",
          "Staff ",
          "Middle Management ",
          "Managers",
          "Executive or Strategic Manager  ",
          "Middle Management ",
          "Advisor ",
          "Managers",
          "Executive or Strategic Manager  "
         ],
         "xaxis": "x",
         "yaxis": "y"
        },
        {
         "alignmentgroup": "True",
         "bingroup": "x",
         "cliponaxis": false,
         "hovertemplate": "Self knowledge about circular economy=4<br>How do you describe your position in your organization?=%{x}<br>count=%{y}<extra></extra>",
         "legendgroup": "4",
         "marker": {
          "color": "#EF553B",
          "pattern": {
           "shape": ""
          }
         },
         "name": "4",
         "offsetgroup": "4",
         "orientation": "v",
         "showlegend": true,
         "textangle": 45,
         "textfont": {
          "size": 12
         },
         "textposition": "outside",
         "type": "histogram",
         "x": [
          "PhD Fel2",
          "Student",
          "Advisor ",
          "Managers",
          "Managers",
          "Advisor ",
          "Advisor ",
          "Executive or Strategic Manager  ",
          "Executive or Strategic Manager  ",
          "Advisor ",
          "Advisor ",
          "Executive or Strategic Manager  ",
          "Unemployed",
          "Advisor ",
          "Advisor ",
          "Executive or Strategic Manager  ",
          "Managers",
          "Master Thesis Student",
          "Executive or Strategic Manager  ",
          "Staff ",
          "Researcher",
          "Managers",
          "Middle Management ",
          "Staff ",
          "Executive or Strategic Manager  ",
          "Advisor ",
          "nan",
          "Staff ",
          "i'm still under education",
          "Advisor ",
          "Middle Management ",
          "Middle Management ",
          "Middle Management ",
          "Middle Management ",
          "Advisor ",
          "Advisor ",
          "Advisor ",
          "Advisor ",
          "Staff ",
          "head of research unit",
          "Staff ",
          "Executive or Strategic Manager  ",
          "Executive or Strategic Manager  ",
          "Advisor ",
          "PhD",
          "Managers",
          "Staff ",
          "Advisor ",
          "Staff ",
          "Project Manager.",
          "Sustainability Assistant",
          "Advisor ",
          "Staff ",
          "nan",
          "Staff ",
          "Staff ",
          "Staff ",
          "business consultant ",
          "Advisor "
         ],
         "xaxis": "x",
         "yaxis": "y"
        },
        {
         "alignmentgroup": "True",
         "bingroup": "x",
         "cliponaxis": false,
         "hovertemplate": "Self knowledge about circular economy=3<br>How do you describe your position in your organization?=%{x}<br>count=%{y}<extra></extra>",
         "legendgroup": "3",
         "marker": {
          "color": "#00cc96",
          "pattern": {
           "shape": ""
          }
         },
         "name": "3",
         "offsetgroup": "3",
         "orientation": "v",
         "showlegend": true,
         "textangle": 45,
         "textfont": {
          "size": 12
         },
         "textposition": "outside",
         "type": "histogram",
         "x": [
          "Managers",
          "Professor",
          "nan",
          "Staff ",
          "N\\A",
          "Staff ",
          "Advisor ",
          "Advisor ",
          "Student at AAU",
          "Staff ",
          "Staff ",
          "Advisor ",
          "Staff ",
          "Executive or Strategic Manager  ",
          "Managers",
          "Middle Management ",
          "Staff ",
          "Advisor "
         ],
         "xaxis": "x",
         "yaxis": "y"
        },
        {
         "alignmentgroup": "True",
         "bingroup": "x",
         "cliponaxis": false,
         "hovertemplate": "Self knowledge about circular economy=2<br>How do you describe your position in your organization?=%{x}<br>count=%{y}<extra></extra>",
         "legendgroup": "2",
         "marker": {
          "color": "#ab63fa",
          "pattern": {
           "shape": ""
          }
         },
         "name": "2",
         "offsetgroup": "2",
         "orientation": "v",
         "showlegend": true,
         "textangle": 45,
         "textfont": {
          "size": 12
         },
         "textposition": "outside",
         "type": "histogram",
         "x": [
          "Advisor ",
          "Staff ",
          "Advisor ",
          "Managers"
         ],
         "xaxis": "x",
         "yaxis": "y"
        }
       ],
       "layout": {
        "autosize": true,
        "barmode": "group",
        "legend": {
         "title": {
          "text": "Self knowledge about circular economy"
         },
         "tracegroupgap": 0
        },
        "margin": {
         "t": 60
        },
        "template": {
         "data": {
          "bar": [
           {
            "error_x": {
             "color": "#2a3f5f"
            },
            "error_y": {
             "color": "#2a3f5f"
            },
            "marker": {
             "line": {
              "color": "#E5ECF6",
              "width": 0.5
             },
             "pattern": {
              "fillmode": "overlay",
              "size": 10,
              "solidity": 0.2
             }
            },
            "type": "bar"
           }
          ],
          "barpolar": [
           {
            "marker": {
             "line": {
              "color": "#E5ECF6",
              "width": 0.5
             },
             "pattern": {
              "fillmode": "overlay",
              "size": 10,
              "solidity": 0.2
             }
            },
            "type": "barpolar"
           }
          ],
          "carpet": [
           {
            "aaxis": {
             "endlinecolor": "#2a3f5f",
             "gridcolor": "white",
             "linecolor": "white",
             "minorgridcolor": "white",
             "startlinecolor": "#2a3f5f"
            },
            "baxis": {
             "endlinecolor": "#2a3f5f",
             "gridcolor": "white",
             "linecolor": "white",
             "minorgridcolor": "white",
             "startlinecolor": "#2a3f5f"
            },
            "type": "carpet"
           }
          ],
          "choropleth": [
           {
            "colorbar": {
             "outlinewidth": 0,
             "ticks": ""
            },
            "type": "choropleth"
           }
          ],
          "contour": [
           {
            "colorbar": {
             "outlinewidth": 0,
             "ticks": ""
            },
            "colorscale": [
             [
              0,
              "#0d0887"
             ],
             [
              0.1111111111111111,
              "#46039f"
             ],
             [
              0.2222222222222222,
              "#7201a8"
             ],
             [
              0.3333333333333333,
              "#9c179e"
             ],
             [
              0.4444444444444444,
              "#bd3786"
             ],
             [
              0.5555555555555556,
              "#d8576b"
             ],
             [
              0.6666666666666666,
              "#ed7953"
             ],
             [
              0.7777777777777778,
              "#fb9f3a"
             ],
             [
              0.8888888888888888,
              "#fdca26"
             ],
             [
              1,
              "#f0f921"
             ]
            ],
            "type": "contour"
           }
          ],
          "contourcarpet": [
           {
            "colorbar": {
             "outlinewidth": 0,
             "ticks": ""
            },
            "type": "contourcarpet"
           }
          ],
          "heatmap": [
           {
            "colorbar": {
             "outlinewidth": 0,
             "ticks": ""
            },
            "colorscale": [
             [
              0,
              "#0d0887"
             ],
             [
              0.1111111111111111,
              "#46039f"
             ],
             [
              0.2222222222222222,
              "#7201a8"
             ],
             [
              0.3333333333333333,
              "#9c179e"
             ],
             [
              0.4444444444444444,
              "#bd3786"
             ],
             [
              0.5555555555555556,
              "#d8576b"
             ],
             [
              0.6666666666666666,
              "#ed7953"
             ],
             [
              0.7777777777777778,
              "#fb9f3a"
             ],
             [
              0.8888888888888888,
              "#fdca26"
             ],
             [
              1,
              "#f0f921"
             ]
            ],
            "type": "heatmap"
           }
          ],
          "heatmapgl": [
           {
            "colorbar": {
             "outlinewidth": 0,
             "ticks": ""
            },
            "colorscale": [
             [
              0,
              "#0d0887"
             ],
             [
              0.1111111111111111,
              "#46039f"
             ],
             [
              0.2222222222222222,
              "#7201a8"
             ],
             [
              0.3333333333333333,
              "#9c179e"
             ],
             [
              0.4444444444444444,
              "#bd3786"
             ],
             [
              0.5555555555555556,
              "#d8576b"
             ],
             [
              0.6666666666666666,
              "#ed7953"
             ],
             [
              0.7777777777777778,
              "#fb9f3a"
             ],
             [
              0.8888888888888888,
              "#fdca26"
             ],
             [
              1,
              "#f0f921"
             ]
            ],
            "type": "heatmapgl"
           }
          ],
          "histogram": [
           {
            "marker": {
             "pattern": {
              "fillmode": "overlay",
              "size": 10,
              "solidity": 0.2
             }
            },
            "type": "histogram"
           }
          ],
          "histogram2d": [
           {
            "colorbar": {
             "outlinewidth": 0,
             "ticks": ""
            },
            "colorscale": [
             [
              0,
              "#0d0887"
             ],
             [
              0.1111111111111111,
              "#46039f"
             ],
             [
              0.2222222222222222,
              "#7201a8"
             ],
             [
              0.3333333333333333,
              "#9c179e"
             ],
             [
              0.4444444444444444,
              "#bd3786"
             ],
             [
              0.5555555555555556,
              "#d8576b"
             ],
             [
              0.6666666666666666,
              "#ed7953"
             ],
             [
              0.7777777777777778,
              "#fb9f3a"
             ],
             [
              0.8888888888888888,
              "#fdca26"
             ],
             [
              1,
              "#f0f921"
             ]
            ],
            "type": "histogram2d"
           }
          ],
          "histogram2dcontour": [
           {
            "colorbar": {
             "outlinewidth": 0,
             "ticks": ""
            },
            "colorscale": [
             [
              0,
              "#0d0887"
             ],
             [
              0.1111111111111111,
              "#46039f"
             ],
             [
              0.2222222222222222,
              "#7201a8"
             ],
             [
              0.3333333333333333,
              "#9c179e"
             ],
             [
              0.4444444444444444,
              "#bd3786"
             ],
             [
              0.5555555555555556,
              "#d8576b"
             ],
             [
              0.6666666666666666,
              "#ed7953"
             ],
             [
              0.7777777777777778,
              "#fb9f3a"
             ],
             [
              0.8888888888888888,
              "#fdca26"
             ],
             [
              1,
              "#f0f921"
             ]
            ],
            "type": "histogram2dcontour"
           }
          ],
          "mesh3d": [
           {
            "colorbar": {
             "outlinewidth": 0,
             "ticks": ""
            },
            "type": "mesh3d"
           }
          ],
          "parcoords": [
           {
            "line": {
             "colorbar": {
              "outlinewidth": 0,
              "ticks": ""
             }
            },
            "type": "parcoords"
           }
          ],
          "pie": [
           {
            "automargin": true,
            "type": "pie"
           }
          ],
          "scatter": [
           {
            "fillpattern": {
             "fillmode": "overlay",
             "size": 10,
             "solidity": 0.2
            },
            "type": "scatter"
           }
          ],
          "scatter3d": [
           {
            "line": {
             "colorbar": {
              "outlinewidth": 0,
              "ticks": ""
             }
            },
            "marker": {
             "colorbar": {
              "outlinewidth": 0,
              "ticks": ""
             }
            },
            "type": "scatter3d"
           }
          ],
          "scattercarpet": [
           {
            "marker": {
             "colorbar": {
              "outlinewidth": 0,
              "ticks": ""
             }
            },
            "type": "scattercarpet"
           }
          ],
          "scattergeo": [
           {
            "marker": {
             "colorbar": {
              "outlinewidth": 0,
              "ticks": ""
             }
            },
            "type": "scattergeo"
           }
          ],
          "scattergl": [
           {
            "marker": {
             "colorbar": {
              "outlinewidth": 0,
              "ticks": ""
             }
            },
            "type": "scattergl"
           }
          ],
          "scattermapbox": [
           {
            "marker": {
             "colorbar": {
              "outlinewidth": 0,
              "ticks": ""
             }
            },
            "type": "scattermapbox"
           }
          ],
          "scatterpolar": [
           {
            "marker": {
             "colorbar": {
              "outlinewidth": 0,
              "ticks": ""
             }
            },
            "type": "scatterpolar"
           }
          ],
          "scatterpolargl": [
           {
            "marker": {
             "colorbar": {
              "outlinewidth": 0,
              "ticks": ""
             }
            },
            "type": "scatterpolargl"
           }
          ],
          "scatterternary": [
           {
            "marker": {
             "colorbar": {
              "outlinewidth": 0,
              "ticks": ""
             }
            },
            "type": "scatterternary"
           }
          ],
          "surface": [
           {
            "colorbar": {
             "outlinewidth": 0,
             "ticks": ""
            },
            "colorscale": [
             [
              0,
              "#0d0887"
             ],
             [
              0.1111111111111111,
              "#46039f"
             ],
             [
              0.2222222222222222,
              "#7201a8"
             ],
             [
              0.3333333333333333,
              "#9c179e"
             ],
             [
              0.4444444444444444,
              "#bd3786"
             ],
             [
              0.5555555555555556,
              "#d8576b"
             ],
             [
              0.6666666666666666,
              "#ed7953"
             ],
             [
              0.7777777777777778,
              "#fb9f3a"
             ],
             [
              0.8888888888888888,
              "#fdca26"
             ],
             [
              1,
              "#f0f921"
             ]
            ],
            "type": "surface"
           }
          ],
          "table": [
           {
            "cells": {
             "fill": {
              "color": "#EBF0F8"
             },
             "line": {
              "color": "white"
             }
            },
            "header": {
             "fill": {
              "color": "#C8D4E3"
             },
             "line": {
              "color": "white"
             }
            },
            "type": "table"
           }
          ]
         },
         "layout": {
          "annotationdefaults": {
           "arrowcolor": "#2a3f5f",
           "arrowhead": 0,
           "arrowwidth": 1
          },
          "autotypenumbers": "strict",
          "coloraxis": {
           "colorbar": {
            "outlinewidth": 0,
            "ticks": ""
           }
          },
          "colorscale": {
           "diverging": [
            [
             0,
             "#8e0152"
            ],
            [
             0.1,
             "#c51b7d"
            ],
            [
             0.2,
             "#de77ae"
            ],
            [
             0.3,
             "#f1b6da"
            ],
            [
             0.4,
             "#fde0ef"
            ],
            [
             0.5,
             "#f7f7f7"
            ],
            [
             0.6,
             "#e6f5d0"
            ],
            [
             0.7,
             "#b8e186"
            ],
            [
             0.8,
             "#7fbc41"
            ],
            [
             0.9,
             "#4d9221"
            ],
            [
             1,
             "#276419"
            ]
           ],
           "sequential": [
            [
             0,
             "#0d0887"
            ],
            [
             0.1111111111111111,
             "#46039f"
            ],
            [
             0.2222222222222222,
             "#7201a8"
            ],
            [
             0.3333333333333333,
             "#9c179e"
            ],
            [
             0.4444444444444444,
             "#bd3786"
            ],
            [
             0.5555555555555556,
             "#d8576b"
            ],
            [
             0.6666666666666666,
             "#ed7953"
            ],
            [
             0.7777777777777778,
             "#fb9f3a"
            ],
            [
             0.8888888888888888,
             "#fdca26"
            ],
            [
             1,
             "#f0f921"
            ]
           ],
           "sequentialminus": [
            [
             0,
             "#0d0887"
            ],
            [
             0.1111111111111111,
             "#46039f"
            ],
            [
             0.2222222222222222,
             "#7201a8"
            ],
            [
             0.3333333333333333,
             "#9c179e"
            ],
            [
             0.4444444444444444,
             "#bd3786"
            ],
            [
             0.5555555555555556,
             "#d8576b"
            ],
            [
             0.6666666666666666,
             "#ed7953"
            ],
            [
             0.7777777777777778,
             "#fb9f3a"
            ],
            [
             0.8888888888888888,
             "#fdca26"
            ],
            [
             1,
             "#f0f921"
            ]
           ]
          },
          "colorway": [
           "#636efa",
           "#EF553B",
           "#00cc96",
           "#ab63fa",
           "#FFA15A",
           "#19d3f3",
           "#FF6692",
           "#B6E880",
           "#FF97FF",
           "#FECB52"
          ],
          "font": {
           "color": "#2a3f5f"
          },
          "geo": {
           "bgcolor": "white",
           "lakecolor": "white",
           "landcolor": "#E5ECF6",
           "showlakes": true,
           "showland": true,
           "subunitcolor": "white"
          },
          "hoverlabel": {
           "align": "left"
          },
          "hovermode": "closest",
          "mapbox": {
           "style": "light"
          },
          "paper_bgcolor": "white",
          "plot_bgcolor": "#E5ECF6",
          "polar": {
           "angularaxis": {
            "gridcolor": "white",
            "linecolor": "white",
            "ticks": ""
           },
           "bgcolor": "#E5ECF6",
           "radialaxis": {
            "gridcolor": "white",
            "linecolor": "white",
            "ticks": ""
           }
          },
          "scene": {
           "xaxis": {
            "backgroundcolor": "#E5ECF6",
            "gridcolor": "white",
            "gridwidth": 2,
            "linecolor": "white",
            "showbackground": true,
            "ticks": "",
            "zerolinecolor": "white"
           },
           "yaxis": {
            "backgroundcolor": "#E5ECF6",
            "gridcolor": "white",
            "gridwidth": 2,
            "linecolor": "white",
            "showbackground": true,
            "ticks": "",
            "zerolinecolor": "white"
           },
           "zaxis": {
            "backgroundcolor": "#E5ECF6",
            "gridcolor": "white",
            "gridwidth": 2,
            "linecolor": "white",
            "showbackground": true,
            "ticks": "",
            "zerolinecolor": "white"
           }
          },
          "shapedefaults": {
           "line": {
            "color": "#2a3f5f"
           }
          },
          "ternary": {
           "aaxis": {
            "gridcolor": "white",
            "linecolor": "white",
            "ticks": ""
           },
           "baxis": {
            "gridcolor": "white",
            "linecolor": "white",
            "ticks": ""
           },
           "bgcolor": "#E5ECF6",
           "caxis": {
            "gridcolor": "white",
            "linecolor": "white",
            "ticks": ""
           }
          },
          "title": {
           "x": 0.05
          },
          "xaxis": {
           "automargin": true,
           "gridcolor": "white",
           "linecolor": "white",
           "ticks": "",
           "title": {
            "standoff": 15
           },
           "zerolinecolor": "white",
           "zerolinewidth": 2
          },
          "yaxis": {
           "automargin": true,
           "gridcolor": "white",
           "linecolor": "white",
           "ticks": "",
           "title": {
            "standoff": 15
           },
           "zerolinecolor": "white",
           "zerolinewidth": 2
          }
         }
        },
        "xaxis": {
         "anchor": "y",
         "autorange": true,
         "categoryorder": "total descending",
         "domain": [
          0,
          1
         ],
         "range": [
          -0.5,
          20.5
         ],
         "title": {
          "text": "How do you describe your position in your organization?"
         },
         "type": "category"
        },
        "yaxis": {
         "anchor": "x",
         "autorange": true,
         "domain": [
          0,
          1
         ],
         "range": [
          0,
          17.894736842105264
         ],
         "title": {
          "text": "count"
         }
        }
       }
      },
      "image/png": "[encoded data removed]",
      "text/html": [
       "<div>                            <div id=\"0a08e841-ef31-44d5-afdb-6884d81fde72\" class=\"plotly-graph-div\" style=\"height:525px; width:100%;\"></div>            <script type=\"text/javascript\">                require([\"plotly\"], function(Plotly) {                    window.PLOTLYENV=window.PLOTLYENV || {};                                    if (document.getElementById(\"0a08e841-ef31-44d5-afdb-6884d81fde72\")) {                    Plotly.newPlot(                        \"0a08e841-ef31-44d5-afdb-6884d81fde72\",                        [{\"alignmentgroup\":\"True\",\"bingroup\":\"x\",\"hovertemplate\":\"Self knowledge about circular economy=5<br>How do you describe your position in your organization?=%{x}<br>count=%{y}<extra></extra>\",\"legendgroup\":\"5\",\"marker\":{\"color\":\"#636efa\",\"pattern\":{\"shape\":\"\"}},\"name\":\"5\",\"offsetgroup\":\"5\",\"orientation\":\"v\",\"showlegend\":true,\"x\":[\"Advisor \",\"Middle Management \",\"Middle Management \",\"Managers\",\"Executive or Strategic Manager  \",\"Advisor \",\"Staff \",\"Staff \",\"Executive or Strategic Manager  \",\"CE Expert\",\"Managers\",\"Executive or Strategic Manager  \",\"Staff \",\"Managers\",\"Managers\",\"Staff \",\"Advisor \",\"Advisor \",\"Executive or Strategic Manager  \",\"Staff \",\"Middle Management \",\"Managers\",\"Executive or Strategic Manager  \",\"Middle Management \",\"Advisor \",\"Managers\",\"Executive or Strategic Manager  \"],\"xaxis\":\"x\",\"yaxis\":\"y\",\"type\":\"histogram\",\"textfont\":{\"size\":12},\"cliponaxis\":false,\"textangle\":45,\"textposition\":\"outside\"},{\"alignmentgroup\":\"True\",\"bingroup\":\"x\",\"hovertemplate\":\"Self knowledge about circular economy=4<br>How do you describe your position in your organization?=%{x}<br>count=%{y}<extra></extra>\",\"legendgroup\":\"4\",\"marker\":{\"color\":\"#EF553B\",\"pattern\":{\"shape\":\"\"}},\"name\":\"4\",\"offsetgroup\":\"4\",\"orientation\":\"v\",\"showlegend\":true,\"x\":[\"PhD Fel2\",\"Student\",\"Advisor \",\"Managers\",\"Managers\",\"Advisor \",\"Advisor \",\"Executive or Strategic Manager  \",\"Executive or Strategic Manager  \",\"Advisor \",\"Advisor \",\"Executive or Strategic Manager  \",\"Unemployed\",\"Advisor \",\"Advisor \",\"Executive or Strategic Manager  \",\"Managers\",\"Master Thesis Student\",\"Executive or Strategic Manager  \",\"Staff \",\"Researcher\",\"Managers\",\"Middle Management \",\"Staff \",\"Executive or Strategic Manager  \",\"Advisor \",\"nan\",\"Staff \",\"i'm still under education\",\"Advisor \",\"Middle Management \",\"Middle Management \",\"Middle Management \",\"Middle Management \",\"Advisor \",\"Advisor \",\"Advisor \",\"Advisor \",\"Staff \",\"head of research unit\",\"Staff \",\"Executive or Strategic Manager  \",\"Executive or Strategic Manager  \",\"Advisor \",\"PhD\",\"Managers\",\"Staff \",\"Advisor \",\"Staff \",\"Project Manager.\",\"Sustainability Assistant\",\"Advisor \",\"Staff \",\"nan\",\"Staff \",\"Staff \",\"Staff \",\"business consultant \",\"Advisor \"],\"xaxis\":\"x\",\"yaxis\":\"y\",\"type\":\"histogram\",\"textfont\":{\"size\":12},\"cliponaxis\":false,\"textangle\":45,\"textposition\":\"outside\"},{\"alignmentgroup\":\"True\",\"bingroup\":\"x\",\"hovertemplate\":\"Self knowledge about circular economy=3<br>How do you describe your position in your organization?=%{x}<br>count=%{y}<extra></extra>\",\"legendgroup\":\"3\",\"marker\":{\"color\":\"#00cc96\",\"pattern\":{\"shape\":\"\"}},\"name\":\"3\",\"offsetgroup\":\"3\",\"orientation\":\"v\",\"showlegend\":true,\"x\":[\"Managers\",\"Professor\",\"nan\",\"Staff \",\"N\\\\A\",\"Staff \",\"Advisor \",\"Advisor \",\"Student at AAU\",\"Staff \",\"Staff \",\"Advisor \",\"Staff \",\"Executive or Strategic Manager  \",\"Managers\",\"Middle Management \",\"Staff \",\"Advisor \"],\"xaxis\":\"x\",\"yaxis\":\"y\",\"type\":\"histogram\",\"textfont\":{\"size\":12},\"cliponaxis\":false,\"textangle\":45,\"textposition\":\"outside\"},{\"alignmentgroup\":\"True\",\"bingroup\":\"x\",\"hovertemplate\":\"Self knowledge about circular economy=2<br>How do you describe your position in your organization?=%{x}<br>count=%{y}<extra></extra>\",\"legendgroup\":\"2\",\"marker\":{\"color\":\"#ab63fa\",\"pattern\":{\"shape\":\"\"}},\"name\":\"2\",\"offsetgroup\":\"2\",\"orientation\":\"v\",\"showlegend\":true,\"x\":[\"Advisor \",\"Staff \",\"Advisor \",\"Managers\"],\"xaxis\":\"x\",\"yaxis\":\"y\",\"type\":\"histogram\",\"textfont\":{\"size\":12},\"cliponaxis\":false,\"textangle\":45,\"textposition\":\"outside\"}],                        {\"template\":{\"data\":{\"histogram2dcontour\":[{\"type\":\"histogram2dcontour\",\"colorbar\":{\"outlinewidth\":0,\"ticks\":\"\"},\"colorscale\":[[0.0,\"#0d0887\"],[0.1111111111111111,\"#46039f\"],[0.2222222222222222,\"#7201a8\"],[0.3333333333333333,\"#9c179e\"],[0.4444444444444444,\"#bd3786\"],[0.5555555555555556,\"#d8576b\"],[0.6666666666666666,\"#ed7953\"],[0.7777777777777778,\"#fb9f3a\"],[0.8888888888888888,\"#fdca26\"],[1.0,\"#f0f921\"]]}],\"choropleth\":[{\"type\":\"choropleth\",\"colorbar\":{\"outlinewidth\":0,\"ticks\":\"\"}}],\"histogram2d\":[{\"type\":\"histogram2d\",\"colorbar\":{\"outlinewidth\":0,\"ticks\":\"\"},\"colorscale\":[[0.0,\"#0d0887\"],[0.1111111111111111,\"#46039f\"],[0.2222222222222222,\"#7201a8\"],[0.3333333333333333,\"#9c179e\"],[0.4444444444444444,\"#bd3786\"],[0.5555555555555556,\"#d8576b\"],[0.6666666666666666,\"#ed7953\"],[0.7777777777777778,\"#fb9f3a\"],[0.8888888888888888,\"#fdca26\"],[1.0,\"#f0f921\"]]}],\"heatmap\":[{\"type\":\"heatmap\",\"colorbar\":{\"outlinewidth\":0,\"ticks\":\"\"},\"colorscale\":[[0.0,\"#0d0887\"],[0.1111111111111111,\"#46039f\"],[0.2222222222222222,\"#7201a8\"],[0.3333333333333333,\"#9c179e\"],[0.4444444444444444,\"#bd3786\"],[0.5555555555555556,\"#d8576b\"],[0.6666666666666666,\"#ed7953\"],[0.7777777777777778,\"#fb9f3a\"],[0.8888888888888888,\"#fdca26\"],[1.0,\"#f0f921\"]]}],\"heatmapgl\":[{\"type\":\"heatmapgl\",\"colorbar\":{\"outlinewidth\":0,\"ticks\":\"\"},\"colorscale\":[[0.0,\"#0d0887\"],[0.1111111111111111,\"#46039f\"],[0.2222222222222222,\"#7201a8\"],[0.3333333333333333,\"#9c179e\"],[0.4444444444444444,\"#bd3786\"],[0.5555555555555556,\"#d8576b\"],[0.6666666666666666,\"#ed7953\"],[0.7777777777777778,\"#fb9f3a\"],[0.8888888888888888,\"#fdca26\"],[1.0,\"#f0f921\"]]}],\"contourcarpet\":[{\"type\":\"contourcarpet\",\"colorbar\":{\"outlinewidth\":0,\"ticks\":\"\"}}],\"contour\":[{\"type\":\"contour\",\"colorbar\":{\"outlinewidth\":0,\"ticks\":\"\"},\"colorscale\":[[0.0,\"#0d0887\"],[0.1111111111111111,\"#46039f\"],[0.2222222222222222,\"#7201a8\"],[0.3333333333333333,\"#9c179e\"],[0.4444444444444444,\"#bd3786\"],[0.5555555555555556,\"#d8576b\"],[0.6666666666666666,\"#ed7953\"],[0.7777777777777778,\"#fb9f3a\"],[0.8888888888888888,\"#fdca26\"],[1.0,\"#f0f921\"]]}],\"surface\":[{\"type\":\"surface\",\"colorbar\":{\"outlinewidth\":0,\"ticks\":\"\"},\"colorscale\":[[0.0,\"#0d0887\"],[0.1111111111111111,\"#46039f\"],[0.2222222222222222,\"#7201a8\"],[0.3333333333333333,\"#9c179e\"],[0.4444444444444444,\"#bd3786\"],[0.5555555555555556,\"#d8576b\"],[0.6666666666666666,\"#ed7953\"],[0.7777777777777778,\"#fb9f3a\"],[0.8888888888888888,\"#fdca26\"],[1.0,\"#f0f921\"]]}],\"mesh3d\":[{\"type\":\"mesh3d\",\"colorbar\":{\"outlinewidth\":0,\"ticks\":\"\"}}],\"scatter\":[{\"fillpattern\":{\"fillmode\":\"overlay\",\"size\":10,\"solidity\":0.2},\"type\":\"scatter\"}],\"parcoords\":[{\"type\":\"parcoords\",\"line\":{\"colorbar\":{\"outlinewidth\":0,\"ticks\":\"\"}}}],\"scatterpolargl\":[{\"type\":\"scatterpolargl\",\"marker\":{\"colorbar\":{\"outlinewidth\":0,\"ticks\":\"\"}}}],\"bar\":[{\"error_x\":{\"color\":\"#2a3f5f\"},\"error_y\":{\"color\":\"#2a3f5f\"},\"marker\":{\"line\":{\"color\":\"#E5ECF6\",\"width\":0.5},\"pattern\":{\"fillmode\":\"overlay\",\"size\":10,\"solidity\":0.2}},\"type\":\"bar\"}],\"scattergeo\":[{\"type\":\"scattergeo\",\"marker\":{\"colorbar\":{\"outlinewidth\":0,\"ticks\":\"\"}}}],\"scatterpolar\":[{\"type\":\"scatterpolar\",\"marker\":{\"colorbar\":{\"outlinewidth\":0,\"ticks\":\"\"}}}],\"histogram\":[{\"marker\":{\"pattern\":{\"fillmode\":\"overlay\",\"size\":10,\"solidity\":0.2}},\"type\":\"histogram\"}],\"scattergl\":[{\"type\":\"scattergl\",\"marker\":{\"colorbar\":{\"outlinewidth\":0,\"ticks\":\"\"}}}],\"scatter3d\":[{\"type\":\"scatter3d\",\"line\":{\"colorbar\":{\"outlinewidth\":0,\"ticks\":\"\"}},\"marker\":{\"colorbar\":{\"outlinewidth\":0,\"ticks\":\"\"}}}],\"scattermapbox\":[{\"type\":\"scattermapbox\",\"marker\":{\"colorbar\":{\"outlinewidth\":0,\"ticks\":\"\"}}}],\"scatterternary\":[{\"type\":\"scatterternary\",\"marker\":{\"colorbar\":{\"outlinewidth\":0,\"ticks\":\"\"}}}],\"scattercarpet\":[{\"type\":\"scattercarpet\",\"marker\":{\"colorbar\":{\"outlinewidth\":0,\"ticks\":\"\"}}}],\"carpet\":[{\"aaxis\":{\"endlinecolor\":\"#2a3f5f\",\"gridcolor\":\"white\",\"linecolor\":\"white\",\"minorgridcolor\":\"white\",\"startlinecolor\":\"#2a3f5f\"},\"baxis\":{\"endlinecolor\":\"#2a3f5f\",\"gridcolor\":\"white\",\"linecolor\":\"white\",\"minorgridcolor\":\"white\",\"startlinecolor\":\"#2a3f5f\"},\"type\":\"carpet\"}],\"table\":[{\"cells\":{\"fill\":{\"color\":\"#EBF0F8\"},\"line\":{\"color\":\"white\"}},\"header\":{\"fill\":{\"color\":\"#C8D4E3\"},\"line\":{\"color\":\"white\"}},\"type\":\"table\"}],\"barpolar\":[{\"marker\":{\"line\":{\"color\":\"#E5ECF6\",\"width\":0.5},\"pattern\":{\"fillmode\":\"overlay\",\"size\":10,\"solidity\":0.2}},\"type\":\"barpolar\"}],\"pie\":[{\"automargin\":true,\"type\":\"pie\"}]},\"layout\":{\"autotypenumbers\":\"strict\",\"colorway\":[\"#636efa\",\"#EF553B\",\"#00cc96\",\"#ab63fa\",\"#FFA15A\",\"#19d3f3\",\"#FF6692\",\"#B6E880\",\"#FF97FF\",\"#FECB52\"],\"font\":{\"color\":\"#2a3f5f\"},\"hovermode\":\"closest\",\"hoverlabel\":{\"align\":\"left\"},\"paper_bgcolor\":\"white\",\"plot_bgcolor\":\"#E5ECF6\",\"polar\":{\"bgcolor\":\"#E5ECF6\",\"angularaxis\":{\"gridcolor\":\"white\",\"linecolor\":\"white\",\"ticks\":\"\"},\"radialaxis\":{\"gridcolor\":\"white\",\"linecolor\":\"white\",\"ticks\":\"\"}},\"ternary\":{\"bgcolor\":\"#E5ECF6\",\"aaxis\":{\"gridcolor\":\"white\",\"linecolor\":\"white\",\"ticks\":\"\"},\"baxis\":{\"gridcolor\":\"white\",\"linecolor\":\"white\",\"ticks\":\"\"},\"caxis\":{\"gridcolor\":\"white\",\"linecolor\":\"white\",\"ticks\":\"\"}},\"coloraxis\":{\"colorbar\":{\"outlinewidth\":0,\"ticks\":\"\"}},\"colorscale\":{\"sequential\":[[0.0,\"#0d0887\"],[0.1111111111111111,\"#46039f\"],[0.2222222222222222,\"#7201a8\"],[0.3333333333333333,\"#9c179e\"],[0.4444444444444444,\"#bd3786\"],[0.5555555555555556,\"#d8576b\"],[0.6666666666666666,\"#ed7953\"],[0.7777777777777778,\"#fb9f3a\"],[0.8888888888888888,\"#fdca26\"],[1.0,\"#f0f921\"]],\"sequentialminus\":[[0.0,\"#0d0887\"],[0.1111111111111111,\"#46039f\"],[0.2222222222222222,\"#7201a8\"],[0.3333333333333333,\"#9c179e\"],[0.4444444444444444,\"#bd3786\"],[0.5555555555555556,\"#d8576b\"],[0.6666666666666666,\"#ed7953\"],[0.7777777777777778,\"#fb9f3a\"],[0.8888888888888888,\"#fdca26\"],[1.0,\"#f0f921\"]],\"diverging\":[[0,\"#8e0152\"],[0.1,\"#c51b7d\"],[0.2,\"#de77ae\"],[0.3,\"#f1b6da\"],[0.4,\"#fde0ef\"],[0.5,\"#f7f7f7\"],[0.6,\"#e6f5d0\"],[0.7,\"#b8e186\"],[0.8,\"#7fbc41\"],[0.9,\"#4d9221\"],[1,\"#276419\"]]},\"xaxis\":{\"gridcolor\":\"white\",\"linecolor\":\"white\",\"ticks\":\"\",\"title\":{\"standoff\":15},\"zerolinecolor\":\"white\",\"automargin\":true,\"zerolinewidth\":2},\"yaxis\":{\"gridcolor\":\"white\",\"linecolor\":\"white\",\"ticks\":\"\",\"title\":{\"standoff\":15},\"zerolinecolor\":\"white\",\"automargin\":true,\"zerolinewidth\":2},\"scene\":{\"xaxis\":{\"backgroundcolor\":\"#E5ECF6\",\"gridcolor\":\"white\",\"linecolor\":\"white\",\"showbackground\":true,\"ticks\":\"\",\"zerolinecolor\":\"white\",\"gridwidth\":2},\"yaxis\":{\"backgroundcolor\":\"#E5ECF6\",\"gridcolor\":\"white\",\"linecolor\":\"white\",\"showbackground\":true,\"ticks\":\"\",\"zerolinecolor\":\"white\",\"gridwidth\":2},\"zaxis\":{\"backgroundcolor\":\"#E5ECF6\",\"gridcolor\":\"white\",\"linecolor\":\"white\",\"showbackground\":true,\"ticks\":\"\",\"zerolinecolor\":\"white\",\"gridwidth\":2}},\"shapedefaults\":{\"line\":{\"color\":\"#2a3f5f\"}},\"annotationdefaults\":{\"arrowcolor\":\"#2a3f5f\",\"arrowhead\":0,\"arrowwidth\":1},\"geo\":{\"bgcolor\":\"white\",\"landcolor\":\"#E5ECF6\",\"subunitcolor\":\"white\",\"showland\":true,\"showlakes\":true,\"lakecolor\":\"white\"},\"title\":{\"x\":0.05},\"mapbox\":{\"style\":\"light\"}}},\"xaxis\":{\"anchor\":\"y\",\"domain\":[0.0,1.0],\"title\":{\"text\":\"How do you describe your position in your organization?\"},\"categoryorder\":\"total descending\"},\"yaxis\":{\"anchor\":\"x\",\"domain\":[0.0,1.0],\"title\":{\"text\":\"count\"}},\"legend\":{\"title\":{\"text\":\"Self knowledge about circular economy\"},\"tracegroupgap\":0},\"margin\":{\"t\":60},\"barmode\":\"group\"},                        {\"responsive\": true}                    ).then(function(){\n",
       "                            \n",
       "var gd = document.getElementById('0a08e841-ef31-44d5-afdb-6884d81fde72');\n",
       "var x = new MutationObserver(function (mutations, observer) {{\n",
       "        var display = window.getComputedStyle(gd).display;\n",
       "        if (!display || display === 'none') {{\n",
       "            console.log([gd, 'removed!']);\n",
       "            Plotly.purge(gd);\n",
       "            observer.disconnect();\n",
       "        }}\n",
       "}});\n",
       "\n",
       "// Listen for the removal of the full notebook cells\n",
       "var notebookContainer = gd.closest('#notebook-container');\n",
       "if (notebookContainer) {{\n",
       "    x.observe(notebookContainer, {childList: true});\n",
       "}}\n",
       "\n",
       "// Listen for the clearing of the current output cell\n",
       "var outputEl = gd.closest('.output');\n",
       "if (outputEl) {{\n",
       "    x.observe(outputEl, {childList: true});\n",
       "}}\n",
       "\n",
       "                        })                };                });            </script>        </div>"
      ]
     },
     "metadata": {},
     "output_type": "display_data"
    }
   ],
   "source": [
    "import plotly.express as px\n",
    "\n",
    "fig = px.histogram(df, x='How do you describe your position in your organization?',barmode='group',color='Self knowledge about circular economy',\n",
    "                    title=\"\",text_auto=False)\n",
    "fig.update_xaxes(categoryorder=\"total descending\")\n",
    "fig.update_traces(textfont_size=12, textangle=45, textposition=\"outside\", cliponaxis=False)\n",
    "fig.show()"
   ]
  },
  {
   "cell_type": "code",
   "execution_count": 13,
   "id": "89343580-17a6-439d-8f4d-2903e94f4704",
   "metadata": {},
   "outputs": [
    {
     "data": {
      "text/html": [
       "<div>\n",
       "<style scoped>\n",
       "    .dataframe tbody tr th:only-of-type {\n",
       "        vertical-align: middle;\n",
       "    }\n",
       "\n",
       "    .dataframe tbody tr th {\n",
       "        vertical-align: top;\n",
       "    }\n",
       "\n",
       "    .dataframe thead th {\n",
       "        text-align: right;\n",
       "    }\n",
       "</style>\n",
       "<table border=\"1\" class=\"dataframe\">\n",
       "  <thead>\n",
       "    <tr style=\"text-align: right;\">\n",
       "      <th></th>\n",
       "      <th></th>\n",
       "      <th>count</th>\n",
       "    </tr>\n",
       "    <tr>\n",
       "      <th>Self knowledge about circular economy</th>\n",
       "      <th>What is your segment of acting?</th>\n",
       "      <th></th>\n",
       "    </tr>\n",
       "  </thead>\n",
       "  <tbody>\n",
       "    <tr>\n",
       "      <th rowspan=\"3\" valign=\"top\">2</th>\n",
       "      <th>Academia/Research Institution</th>\n",
       "      <td>2</td>\n",
       "    </tr>\n",
       "    <tr>\n",
       "      <th>Energy and heat processing and management</th>\n",
       "      <td>1</td>\n",
       "    </tr>\n",
       "    <tr>\n",
       "      <th>Engineering</th>\n",
       "      <td>1</td>\n",
       "    </tr>\n",
       "    <tr>\n",
       "      <th rowspan=\"7\" valign=\"top\">3</th>\n",
       "      <th>Academia/Research Institution</th>\n",
       "      <td>10</td>\n",
       "    </tr>\n",
       "    <tr>\n",
       "      <th>Construction</th>\n",
       "      <td>1</td>\n",
       "    </tr>\n",
       "    <tr>\n",
       "      <th>Consultancy</th>\n",
       "      <td>1</td>\n",
       "    </tr>\n",
       "    <tr>\n",
       "      <th>Engineering</th>\n",
       "      <td>1</td>\n",
       "    </tr>\n",
       "    <tr>\n",
       "      <th>Non-governmental organization (NGO)</th>\n",
       "      <td>3</td>\n",
       "    </tr>\n",
       "    <tr>\n",
       "      <th>Personal</th>\n",
       "      <td>1</td>\n",
       "    </tr>\n",
       "    <tr>\n",
       "      <th>Waste processing and management</th>\n",
       "      <td>1</td>\n",
       "    </tr>\n",
       "    <tr>\n",
       "      <th rowspan=\"13\" valign=\"top\">4</th>\n",
       "      <th>Academia/Research Institution</th>\n",
       "      <td>23</td>\n",
       "    </tr>\n",
       "    <tr>\n",
       "      <th>Consultancy</th>\n",
       "      <td>13</td>\n",
       "    </tr>\n",
       "    <tr>\n",
       "      <th>Engineering</th>\n",
       "      <td>5</td>\n",
       "    </tr>\n",
       "    <tr>\n",
       "      <th>Furniture</th>\n",
       "      <td>1</td>\n",
       "    </tr>\n",
       "    <tr>\n",
       "      <th>Government</th>\n",
       "      <td>1</td>\n",
       "    </tr>\n",
       "    <tr>\n",
       "      <th>Non-governmental organization (NGO)</th>\n",
       "      <td>2</td>\n",
       "    </tr>\n",
       "    <tr>\n",
       "      <th>Packaging</th>\n",
       "      <td>2</td>\n",
       "    </tr>\n",
       "    <tr>\n",
       "      <th>Product development</th>\n",
       "      <td>1</td>\n",
       "    </tr>\n",
       "    <tr>\n",
       "      <th>Production</th>\n",
       "      <td>1</td>\n",
       "    </tr>\n",
       "    <tr>\n",
       "      <th>Recycling</th>\n",
       "      <td>1</td>\n",
       "    </tr>\n",
       "    <tr>\n",
       "      <th>Textile</th>\n",
       "      <td>2</td>\n",
       "    </tr>\n",
       "    <tr>\n",
       "      <th>Waste processing and management</th>\n",
       "      <td>3</td>\n",
       "    </tr>\n",
       "    <tr>\n",
       "      <th>Water processing and management</th>\n",
       "      <td>2</td>\n",
       "    </tr>\n",
       "    <tr>\n",
       "      <th rowspan=\"8\" valign=\"top\">5</th>\n",
       "      <th>Academia/Research Institution</th>\n",
       "      <td>11</td>\n",
       "    </tr>\n",
       "    <tr>\n",
       "      <th>Construction</th>\n",
       "      <td>1</td>\n",
       "    </tr>\n",
       "    <tr>\n",
       "      <th>Consultancy</th>\n",
       "      <td>6</td>\n",
       "    </tr>\n",
       "    <tr>\n",
       "      <th>Furniture</th>\n",
       "      <td>1</td>\n",
       "    </tr>\n",
       "    <tr>\n",
       "      <th>Government</th>\n",
       "      <td>1</td>\n",
       "    </tr>\n",
       "    <tr>\n",
       "      <th>Non-governmental organization (NGO)</th>\n",
       "      <td>1</td>\n",
       "    </tr>\n",
       "    <tr>\n",
       "      <th>Textile</th>\n",
       "      <td>2</td>\n",
       "    </tr>\n",
       "    <tr>\n",
       "      <th>Waste processing and management</th>\n",
       "      <td>4</td>\n",
       "    </tr>\n",
       "  </tbody>\n",
       "</table>\n",
       "</div>"
      ],
      "text/plain": [
       "                                                                                 count\n",
       "Self knowledge about circular economy What is your segment of acting?                 \n",
       "2                                     Academia/Research Institution                  2\n",
       "                                      Energy and heat processing and management      1\n",
       "                                      Engineering                                    1\n",
       "3                                     Academia/Research Institution                 10\n",
       "                                      Construction                                   1\n",
       "                                      Consultancy                                    1\n",
       "                                      Engineering                                    1\n",
       "                                      Non-governmental organization (NGO)            3\n",
       "                                      Personal                                       1\n",
       "                                      Waste processing and management                1\n",
       "4                                     Academia/Research Institution                 23\n",
       "                                      Consultancy                                   13\n",
       "                                      Engineering                                    5\n",
       "                                      Furniture                                      1\n",
       "                                      Government                                     1\n",
       "                                      Non-governmental organization (NGO)            2\n",
       "                                      Packaging                                      2\n",
       "                                      Product development                            1\n",
       "                                      Production                                     1\n",
       "                                      Recycling                                      1\n",
       "                                      Textile                                        2\n",
       "                                      Waste processing and management                3\n",
       "                                      Water processing and management                2\n",
       "5                                     Academia/Research Institution                 11\n",
       "                                      Construction                                   1\n",
       "                                      Consultancy                                    6\n",
       "                                      Furniture                                      1\n",
       "                                      Government                                     1\n",
       "                                      Non-governmental organization (NGO)            1\n",
       "                                      Textile                                        2\n",
       "                                      Waste processing and management                4"
      ]
     },
     "execution_count": 13,
     "metadata": {},
     "output_type": "execute_result"
    }
   ],
   "source": [
    "df.groupby([\"Self knowledge about circular economy\",'What is your segment of acting?'])['M1.1'].agg(['count'])"
   ]
  },
  {
   "cell_type": "code",
   "execution_count": 56,
   "id": "14b8f673-d738-4a9c-a171-4b473cfe87dd",
   "metadata": {},
   "outputs": [
    {
     "data": {
      "text/html": [
       "<div>\n",
       "<style scoped>\n",
       "    .dataframe tbody tr th:only-of-type {\n",
       "        vertical-align: middle;\n",
       "    }\n",
       "\n",
       "    .dataframe tbody tr th {\n",
       "        vertical-align: top;\n",
       "    }\n",
       "\n",
       "    .dataframe thead tr th {\n",
       "        text-align: left;\n",
       "    }\n",
       "\n",
       "    .dataframe thead tr:last-of-type th {\n",
       "        text-align: right;\n",
       "    }\n",
       "</style>\n",
       "<table border=\"1\" class=\"dataframe\">\n",
       "  <thead>\n",
       "    <tr>\n",
       "      <th></th>\n",
       "      <th></th>\n",
       "      <th colspan=\"8\" halign=\"left\">M1.1</th>\n",
       "      <th colspan=\"2\" halign=\"left\">M1.2</th>\n",
       "      <th>...</th>\n",
       "      <th colspan=\"2\" halign=\"left\">M24.10</th>\n",
       "      <th colspan=\"8\" halign=\"left\">Do you act directly with the circular economy?</th>\n",
       "    </tr>\n",
       "    <tr>\n",
       "      <th></th>\n",
       "      <th></th>\n",
       "      <th>count</th>\n",
       "      <th>mean</th>\n",
       "      <th>std</th>\n",
       "      <th>min</th>\n",
       "      <th>25%</th>\n",
       "      <th>50%</th>\n",
       "      <th>75%</th>\n",
       "      <th>max</th>\n",
       "      <th>count</th>\n",
       "      <th>mean</th>\n",
       "      <th>...</th>\n",
       "      <th>75%</th>\n",
       "      <th>max</th>\n",
       "      <th>count</th>\n",
       "      <th>mean</th>\n",
       "      <th>std</th>\n",
       "      <th>min</th>\n",
       "      <th>25%</th>\n",
       "      <th>50%</th>\n",
       "      <th>75%</th>\n",
       "      <th>max</th>\n",
       "    </tr>\n",
       "    <tr>\n",
       "      <th>Self knowledge about circular economy</th>\n",
       "      <th>What is your segment of acting?</th>\n",
       "      <th></th>\n",
       "      <th></th>\n",
       "      <th></th>\n",
       "      <th></th>\n",
       "      <th></th>\n",
       "      <th></th>\n",
       "      <th></th>\n",
       "      <th></th>\n",
       "      <th></th>\n",
       "      <th></th>\n",
       "      <th></th>\n",
       "      <th></th>\n",
       "      <th></th>\n",
       "      <th></th>\n",
       "      <th></th>\n",
       "      <th></th>\n",
       "      <th></th>\n",
       "      <th></th>\n",
       "      <th></th>\n",
       "      <th></th>\n",
       "      <th></th>\n",
       "    </tr>\n",
       "  </thead>\n",
       "  <tbody>\n",
       "    <tr>\n",
       "      <th rowspan=\"3\" valign=\"top\">2</th>\n",
       "      <th>Academia/Research Institution</th>\n",
       "      <td>2.0</td>\n",
       "      <td>3.500000</td>\n",
       "      <td>0.707107</td>\n",
       "      <td>3.0</td>\n",
       "      <td>3.25</td>\n",
       "      <td>3.5</td>\n",
       "      <td>3.75</td>\n",
       "      <td>4.0</td>\n",
       "      <td>2.0</td>\n",
       "      <td>3.000000</td>\n",
       "      <td>...</td>\n",
       "      <td>4.50</td>\n",
       "      <td>5.0</td>\n",
       "      <td>2.0</td>\n",
       "      <td>0.000000</td>\n",
       "      <td>0.000000</td>\n",
       "      <td>0.0</td>\n",
       "      <td>0.00</td>\n",
       "      <td>0.0</td>\n",
       "      <td>0.00</td>\n",
       "      <td>0.0</td>\n",
       "    </tr>\n",
       "    <tr>\n",
       "      <th>Energy and heat processing and management</th>\n",
       "      <td>1.0</td>\n",
       "      <td>3.000000</td>\n",
       "      <td>NaN</td>\n",
       "      <td>3.0</td>\n",
       "      <td>3.00</td>\n",
       "      <td>3.0</td>\n",
       "      <td>3.00</td>\n",
       "      <td>3.0</td>\n",
       "      <td>1.0</td>\n",
       "      <td>5.000000</td>\n",
       "      <td>...</td>\n",
       "      <td>4.00</td>\n",
       "      <td>4.0</td>\n",
       "      <td>1.0</td>\n",
       "      <td>0.000000</td>\n",
       "      <td>NaN</td>\n",
       "      <td>0.0</td>\n",
       "      <td>0.00</td>\n",
       "      <td>0.0</td>\n",
       "      <td>0.00</td>\n",
       "      <td>0.0</td>\n",
       "    </tr>\n",
       "    <tr>\n",
       "      <th>Engineering</th>\n",
       "      <td>1.0</td>\n",
       "      <td>3.000000</td>\n",
       "      <td>NaN</td>\n",
       "      <td>3.0</td>\n",
       "      <td>3.00</td>\n",
       "      <td>3.0</td>\n",
       "      <td>3.00</td>\n",
       "      <td>3.0</td>\n",
       "      <td>1.0</td>\n",
       "      <td>4.000000</td>\n",
       "      <td>...</td>\n",
       "      <td>4.00</td>\n",
       "      <td>4.0</td>\n",
       "      <td>1.0</td>\n",
       "      <td>0.000000</td>\n",
       "      <td>NaN</td>\n",
       "      <td>0.0</td>\n",
       "      <td>0.00</td>\n",
       "      <td>0.0</td>\n",
       "      <td>0.00</td>\n",
       "      <td>0.0</td>\n",
       "    </tr>\n",
       "    <tr>\n",
       "      <th rowspan=\"7\" valign=\"top\">3</th>\n",
       "      <th>Academia/Research Institution</th>\n",
       "      <td>10.0</td>\n",
       "      <td>3.000000</td>\n",
       "      <td>0.942809</td>\n",
       "      <td>1.0</td>\n",
       "      <td>3.00</td>\n",
       "      <td>3.0</td>\n",
       "      <td>3.75</td>\n",
       "      <td>4.0</td>\n",
       "      <td>10.0</td>\n",
       "      <td>3.100000</td>\n",
       "      <td>...</td>\n",
       "      <td>3.00</td>\n",
       "      <td>4.0</td>\n",
       "      <td>10.0</td>\n",
       "      <td>0.400000</td>\n",
       "      <td>0.516398</td>\n",
       "      <td>0.0</td>\n",
       "      <td>0.00</td>\n",
       "      <td>0.0</td>\n",
       "      <td>1.00</td>\n",
       "      <td>1.0</td>\n",
       "    </tr>\n",
       "    <tr>\n",
       "      <th>Construction</th>\n",
       "      <td>1.0</td>\n",
       "      <td>3.000000</td>\n",
       "      <td>NaN</td>\n",
       "      <td>3.0</td>\n",
       "      <td>3.00</td>\n",
       "      <td>3.0</td>\n",
       "      <td>3.00</td>\n",
       "      <td>3.0</td>\n",
       "      <td>1.0</td>\n",
       "      <td>4.000000</td>\n",
       "      <td>...</td>\n",
       "      <td>4.00</td>\n",
       "      <td>4.0</td>\n",
       "      <td>1.0</td>\n",
       "      <td>1.000000</td>\n",
       "      <td>NaN</td>\n",
       "      <td>1.0</td>\n",
       "      <td>1.00</td>\n",
       "      <td>1.0</td>\n",
       "      <td>1.00</td>\n",
       "      <td>1.0</td>\n",
       "    </tr>\n",
       "    <tr>\n",
       "      <th>Consultancy</th>\n",
       "      <td>1.0</td>\n",
       "      <td>5.000000</td>\n",
       "      <td>NaN</td>\n",
       "      <td>5.0</td>\n",
       "      <td>5.00</td>\n",
       "      <td>5.0</td>\n",
       "      <td>5.00</td>\n",
       "      <td>5.0</td>\n",
       "      <td>1.0</td>\n",
       "      <td>3.000000</td>\n",
       "      <td>...</td>\n",
       "      <td>2.00</td>\n",
       "      <td>2.0</td>\n",
       "      <td>1.0</td>\n",
       "      <td>0.000000</td>\n",
       "      <td>NaN</td>\n",
       "      <td>0.0</td>\n",
       "      <td>0.00</td>\n",
       "      <td>0.0</td>\n",
       "      <td>0.00</td>\n",
       "      <td>0.0</td>\n",
       "    </tr>\n",
       "    <tr>\n",
       "      <th>Engineering</th>\n",
       "      <td>1.0</td>\n",
       "      <td>3.000000</td>\n",
       "      <td>NaN</td>\n",
       "      <td>3.0</td>\n",
       "      <td>3.00</td>\n",
       "      <td>3.0</td>\n",
       "      <td>3.00</td>\n",
       "      <td>3.0</td>\n",
       "      <td>1.0</td>\n",
       "      <td>3.000000</td>\n",
       "      <td>...</td>\n",
       "      <td>4.00</td>\n",
       "      <td>4.0</td>\n",
       "      <td>1.0</td>\n",
       "      <td>1.000000</td>\n",
       "      <td>NaN</td>\n",
       "      <td>1.0</td>\n",
       "      <td>1.00</td>\n",
       "      <td>1.0</td>\n",
       "      <td>1.00</td>\n",
       "      <td>1.0</td>\n",
       "    </tr>\n",
       "    <tr>\n",
       "      <th>Non-governmental organization (NGO)</th>\n",
       "      <td>3.0</td>\n",
       "      <td>3.000000</td>\n",
       "      <td>0.000000</td>\n",
       "      <td>3.0</td>\n",
       "      <td>3.00</td>\n",
       "      <td>3.0</td>\n",
       "      <td>3.00</td>\n",
       "      <td>3.0</td>\n",
       "      <td>3.0</td>\n",
       "      <td>3.666667</td>\n",
       "      <td>...</td>\n",
       "      <td>3.00</td>\n",
       "      <td>3.0</td>\n",
       "      <td>3.0</td>\n",
       "      <td>1.000000</td>\n",
       "      <td>0.000000</td>\n",
       "      <td>1.0</td>\n",
       "      <td>1.00</td>\n",
       "      <td>1.0</td>\n",
       "      <td>1.00</td>\n",
       "      <td>1.0</td>\n",
       "    </tr>\n",
       "    <tr>\n",
       "      <th>Personal</th>\n",
       "      <td>1.0</td>\n",
       "      <td>5.000000</td>\n",
       "      <td>NaN</td>\n",
       "      <td>5.0</td>\n",
       "      <td>5.00</td>\n",
       "      <td>5.0</td>\n",
       "      <td>5.00</td>\n",
       "      <td>5.0</td>\n",
       "      <td>1.0</td>\n",
       "      <td>4.000000</td>\n",
       "      <td>...</td>\n",
       "      <td>5.00</td>\n",
       "      <td>5.0</td>\n",
       "      <td>1.0</td>\n",
       "      <td>0.000000</td>\n",
       "      <td>NaN</td>\n",
       "      <td>0.0</td>\n",
       "      <td>0.00</td>\n",
       "      <td>0.0</td>\n",
       "      <td>0.00</td>\n",
       "      <td>0.0</td>\n",
       "    </tr>\n",
       "    <tr>\n",
       "      <th>Waste processing and management</th>\n",
       "      <td>1.0</td>\n",
       "      <td>3.000000</td>\n",
       "      <td>NaN</td>\n",
       "      <td>3.0</td>\n",
       "      <td>3.00</td>\n",
       "      <td>3.0</td>\n",
       "      <td>3.00</td>\n",
       "      <td>3.0</td>\n",
       "      <td>1.0</td>\n",
       "      <td>4.000000</td>\n",
       "      <td>...</td>\n",
       "      <td>3.00</td>\n",
       "      <td>3.0</td>\n",
       "      <td>1.0</td>\n",
       "      <td>1.000000</td>\n",
       "      <td>NaN</td>\n",
       "      <td>1.0</td>\n",
       "      <td>1.00</td>\n",
       "      <td>1.0</td>\n",
       "      <td>1.00</td>\n",
       "      <td>1.0</td>\n",
       "    </tr>\n",
       "    <tr>\n",
       "      <th rowspan=\"13\" valign=\"top\">4</th>\n",
       "      <th>Academia/Research Institution</th>\n",
       "      <td>23.0</td>\n",
       "      <td>3.391304</td>\n",
       "      <td>0.988071</td>\n",
       "      <td>1.0</td>\n",
       "      <td>3.00</td>\n",
       "      <td>4.0</td>\n",
       "      <td>4.00</td>\n",
       "      <td>5.0</td>\n",
       "      <td>23.0</td>\n",
       "      <td>3.565217</td>\n",
       "      <td>...</td>\n",
       "      <td>5.00</td>\n",
       "      <td>5.0</td>\n",
       "      <td>23.0</td>\n",
       "      <td>0.782609</td>\n",
       "      <td>0.421741</td>\n",
       "      <td>0.0</td>\n",
       "      <td>1.00</td>\n",
       "      <td>1.0</td>\n",
       "      <td>1.00</td>\n",
       "      <td>1.0</td>\n",
       "    </tr>\n",
       "    <tr>\n",
       "      <th>Consultancy</th>\n",
       "      <td>13.0</td>\n",
       "      <td>3.076923</td>\n",
       "      <td>0.954074</td>\n",
       "      <td>1.0</td>\n",
       "      <td>3.00</td>\n",
       "      <td>3.0</td>\n",
       "      <td>4.00</td>\n",
       "      <td>4.0</td>\n",
       "      <td>13.0</td>\n",
       "      <td>3.846154</td>\n",
       "      <td>...</td>\n",
       "      <td>5.00</td>\n",
       "      <td>5.0</td>\n",
       "      <td>13.0</td>\n",
       "      <td>0.923077</td>\n",
       "      <td>0.277350</td>\n",
       "      <td>0.0</td>\n",
       "      <td>1.00</td>\n",
       "      <td>1.0</td>\n",
       "      <td>1.00</td>\n",
       "      <td>1.0</td>\n",
       "    </tr>\n",
       "    <tr>\n",
       "      <th>Engineering</th>\n",
       "      <td>5.0</td>\n",
       "      <td>3.400000</td>\n",
       "      <td>0.547723</td>\n",
       "      <td>3.0</td>\n",
       "      <td>3.00</td>\n",
       "      <td>3.0</td>\n",
       "      <td>4.00</td>\n",
       "      <td>4.0</td>\n",
       "      <td>5.0</td>\n",
       "      <td>2.600000</td>\n",
       "      <td>...</td>\n",
       "      <td>5.00</td>\n",
       "      <td>5.0</td>\n",
       "      <td>5.0</td>\n",
       "      <td>0.800000</td>\n",
       "      <td>0.447214</td>\n",
       "      <td>0.0</td>\n",
       "      <td>1.00</td>\n",
       "      <td>1.0</td>\n",
       "      <td>1.00</td>\n",
       "      <td>1.0</td>\n",
       "    </tr>\n",
       "    <tr>\n",
       "      <th>Furniture</th>\n",
       "      <td>1.0</td>\n",
       "      <td>2.000000</td>\n",
       "      <td>NaN</td>\n",
       "      <td>2.0</td>\n",
       "      <td>2.00</td>\n",
       "      <td>2.0</td>\n",
       "      <td>2.00</td>\n",
       "      <td>2.0</td>\n",
       "      <td>1.0</td>\n",
       "      <td>3.000000</td>\n",
       "      <td>...</td>\n",
       "      <td>3.00</td>\n",
       "      <td>3.0</td>\n",
       "      <td>1.0</td>\n",
       "      <td>1.000000</td>\n",
       "      <td>NaN</td>\n",
       "      <td>1.0</td>\n",
       "      <td>1.00</td>\n",
       "      <td>1.0</td>\n",
       "      <td>1.00</td>\n",
       "      <td>1.0</td>\n",
       "    </tr>\n",
       "    <tr>\n",
       "      <th>Government</th>\n",
       "      <td>1.0</td>\n",
       "      <td>4.000000</td>\n",
       "      <td>NaN</td>\n",
       "      <td>4.0</td>\n",
       "      <td>4.00</td>\n",
       "      <td>4.0</td>\n",
       "      <td>4.00</td>\n",
       "      <td>4.0</td>\n",
       "      <td>1.0</td>\n",
       "      <td>4.000000</td>\n",
       "      <td>...</td>\n",
       "      <td>3.00</td>\n",
       "      <td>3.0</td>\n",
       "      <td>1.0</td>\n",
       "      <td>0.000000</td>\n",
       "      <td>NaN</td>\n",
       "      <td>0.0</td>\n",
       "      <td>0.00</td>\n",
       "      <td>0.0</td>\n",
       "      <td>0.00</td>\n",
       "      <td>0.0</td>\n",
       "    </tr>\n",
       "    <tr>\n",
       "      <th>Non-governmental organization (NGO)</th>\n",
       "      <td>2.0</td>\n",
       "      <td>4.000000</td>\n",
       "      <td>0.000000</td>\n",
       "      <td>4.0</td>\n",
       "      <td>4.00</td>\n",
       "      <td>4.0</td>\n",
       "      <td>4.00</td>\n",
       "      <td>4.0</td>\n",
       "      <td>2.0</td>\n",
       "      <td>3.500000</td>\n",
       "      <td>...</td>\n",
       "      <td>4.75</td>\n",
       "      <td>5.0</td>\n",
       "      <td>2.0</td>\n",
       "      <td>0.500000</td>\n",
       "      <td>0.707107</td>\n",
       "      <td>0.0</td>\n",
       "      <td>0.25</td>\n",
       "      <td>0.5</td>\n",
       "      <td>0.75</td>\n",
       "      <td>1.0</td>\n",
       "    </tr>\n",
       "    <tr>\n",
       "      <th>Packaging</th>\n",
       "      <td>2.0</td>\n",
       "      <td>3.500000</td>\n",
       "      <td>0.707107</td>\n",
       "      <td>3.0</td>\n",
       "      <td>3.25</td>\n",
       "      <td>3.5</td>\n",
       "      <td>3.75</td>\n",
       "      <td>4.0</td>\n",
       "      <td>2.0</td>\n",
       "      <td>4.000000</td>\n",
       "      <td>...</td>\n",
       "      <td>3.00</td>\n",
       "      <td>3.0</td>\n",
       "      <td>2.0</td>\n",
       "      <td>1.000000</td>\n",
       "      <td>0.000000</td>\n",
       "      <td>1.0</td>\n",
       "      <td>1.00</td>\n",
       "      <td>1.0</td>\n",
       "      <td>1.00</td>\n",
       "      <td>1.0</td>\n",
       "    </tr>\n",
       "    <tr>\n",
       "      <th>Product development</th>\n",
       "      <td>1.0</td>\n",
       "      <td>4.000000</td>\n",
       "      <td>NaN</td>\n",
       "      <td>4.0</td>\n",
       "      <td>4.00</td>\n",
       "      <td>4.0</td>\n",
       "      <td>4.00</td>\n",
       "      <td>4.0</td>\n",
       "      <td>1.0</td>\n",
       "      <td>5.000000</td>\n",
       "      <td>...</td>\n",
       "      <td>4.00</td>\n",
       "      <td>4.0</td>\n",
       "      <td>1.0</td>\n",
       "      <td>1.000000</td>\n",
       "      <td>NaN</td>\n",
       "      <td>1.0</td>\n",
       "      <td>1.00</td>\n",
       "      <td>1.0</td>\n",
       "      <td>1.00</td>\n",
       "      <td>1.0</td>\n",
       "    </tr>\n",
       "    <tr>\n",
       "      <th>Production</th>\n",
       "      <td>1.0</td>\n",
       "      <td>4.000000</td>\n",
       "      <td>NaN</td>\n",
       "      <td>4.0</td>\n",
       "      <td>4.00</td>\n",
       "      <td>4.0</td>\n",
       "      <td>4.00</td>\n",
       "      <td>4.0</td>\n",
       "      <td>1.0</td>\n",
       "      <td>4.000000</td>\n",
       "      <td>...</td>\n",
       "      <td>5.00</td>\n",
       "      <td>5.0</td>\n",
       "      <td>1.0</td>\n",
       "      <td>0.000000</td>\n",
       "      <td>NaN</td>\n",
       "      <td>0.0</td>\n",
       "      <td>0.00</td>\n",
       "      <td>0.0</td>\n",
       "      <td>0.00</td>\n",
       "      <td>0.0</td>\n",
       "    </tr>\n",
       "    <tr>\n",
       "      <th>Recycling</th>\n",
       "      <td>1.0</td>\n",
       "      <td>3.000000</td>\n",
       "      <td>NaN</td>\n",
       "      <td>3.0</td>\n",
       "      <td>3.00</td>\n",
       "      <td>3.0</td>\n",
       "      <td>3.00</td>\n",
       "      <td>3.0</td>\n",
       "      <td>1.0</td>\n",
       "      <td>4.000000</td>\n",
       "      <td>...</td>\n",
       "      <td>3.00</td>\n",
       "      <td>3.0</td>\n",
       "      <td>1.0</td>\n",
       "      <td>1.000000</td>\n",
       "      <td>NaN</td>\n",
       "      <td>1.0</td>\n",
       "      <td>1.00</td>\n",
       "      <td>1.0</td>\n",
       "      <td>1.00</td>\n",
       "      <td>1.0</td>\n",
       "    </tr>\n",
       "    <tr>\n",
       "      <th>Textile</th>\n",
       "      <td>2.0</td>\n",
       "      <td>4.000000</td>\n",
       "      <td>1.414214</td>\n",
       "      <td>3.0</td>\n",
       "      <td>3.50</td>\n",
       "      <td>4.0</td>\n",
       "      <td>4.50</td>\n",
       "      <td>5.0</td>\n",
       "      <td>2.0</td>\n",
       "      <td>4.000000</td>\n",
       "      <td>...</td>\n",
       "      <td>5.00</td>\n",
       "      <td>5.0</td>\n",
       "      <td>2.0</td>\n",
       "      <td>0.500000</td>\n",
       "      <td>0.707107</td>\n",
       "      <td>0.0</td>\n",
       "      <td>0.25</td>\n",
       "      <td>0.5</td>\n",
       "      <td>0.75</td>\n",
       "      <td>1.0</td>\n",
       "    </tr>\n",
       "    <tr>\n",
       "      <th>Waste processing and management</th>\n",
       "      <td>3.0</td>\n",
       "      <td>3.333333</td>\n",
       "      <td>0.577350</td>\n",
       "      <td>3.0</td>\n",
       "      <td>3.00</td>\n",
       "      <td>3.0</td>\n",
       "      <td>3.50</td>\n",
       "      <td>4.0</td>\n",
       "      <td>3.0</td>\n",
       "      <td>3.000000</td>\n",
       "      <td>...</td>\n",
       "      <td>3.00</td>\n",
       "      <td>3.0</td>\n",
       "      <td>3.0</td>\n",
       "      <td>1.000000</td>\n",
       "      <td>0.000000</td>\n",
       "      <td>1.0</td>\n",
       "      <td>1.00</td>\n",
       "      <td>1.0</td>\n",
       "      <td>1.00</td>\n",
       "      <td>1.0</td>\n",
       "    </tr>\n",
       "    <tr>\n",
       "      <th>Water processing and management</th>\n",
       "      <td>2.0</td>\n",
       "      <td>4.000000</td>\n",
       "      <td>0.000000</td>\n",
       "      <td>4.0</td>\n",
       "      <td>4.00</td>\n",
       "      <td>4.0</td>\n",
       "      <td>4.00</td>\n",
       "      <td>4.0</td>\n",
       "      <td>2.0</td>\n",
       "      <td>3.500000</td>\n",
       "      <td>...</td>\n",
       "      <td>4.00</td>\n",
       "      <td>4.0</td>\n",
       "      <td>2.0</td>\n",
       "      <td>0.500000</td>\n",
       "      <td>0.707107</td>\n",
       "      <td>0.0</td>\n",
       "      <td>0.25</td>\n",
       "      <td>0.5</td>\n",
       "      <td>0.75</td>\n",
       "      <td>1.0</td>\n",
       "    </tr>\n",
       "    <tr>\n",
       "      <th rowspan=\"8\" valign=\"top\">5</th>\n",
       "      <th>Academia/Research Institution</th>\n",
       "      <td>11.0</td>\n",
       "      <td>3.363636</td>\n",
       "      <td>1.120065</td>\n",
       "      <td>1.0</td>\n",
       "      <td>3.00</td>\n",
       "      <td>3.0</td>\n",
       "      <td>4.00</td>\n",
       "      <td>5.0</td>\n",
       "      <td>11.0</td>\n",
       "      <td>3.545455</td>\n",
       "      <td>...</td>\n",
       "      <td>4.00</td>\n",
       "      <td>5.0</td>\n",
       "      <td>11.0</td>\n",
       "      <td>1.000000</td>\n",
       "      <td>0.000000</td>\n",
       "      <td>1.0</td>\n",
       "      <td>1.00</td>\n",
       "      <td>1.0</td>\n",
       "      <td>1.00</td>\n",
       "      <td>1.0</td>\n",
       "    </tr>\n",
       "    <tr>\n",
       "      <th>Construction</th>\n",
       "      <td>1.0</td>\n",
       "      <td>5.000000</td>\n",
       "      <td>NaN</td>\n",
       "      <td>5.0</td>\n",
       "      <td>5.00</td>\n",
       "      <td>5.0</td>\n",
       "      <td>5.00</td>\n",
       "      <td>5.0</td>\n",
       "      <td>1.0</td>\n",
       "      <td>5.000000</td>\n",
       "      <td>...</td>\n",
       "      <td>3.00</td>\n",
       "      <td>3.0</td>\n",
       "      <td>1.0</td>\n",
       "      <td>1.000000</td>\n",
       "      <td>NaN</td>\n",
       "      <td>1.0</td>\n",
       "      <td>1.00</td>\n",
       "      <td>1.0</td>\n",
       "      <td>1.00</td>\n",
       "      <td>1.0</td>\n",
       "    </tr>\n",
       "    <tr>\n",
       "      <th>Consultancy</th>\n",
       "      <td>6.0</td>\n",
       "      <td>3.833333</td>\n",
       "      <td>0.983192</td>\n",
       "      <td>3.0</td>\n",
       "      <td>3.00</td>\n",
       "      <td>3.5</td>\n",
       "      <td>4.75</td>\n",
       "      <td>5.0</td>\n",
       "      <td>6.0</td>\n",
       "      <td>4.166667</td>\n",
       "      <td>...</td>\n",
       "      <td>3.75</td>\n",
       "      <td>4.0</td>\n",
       "      <td>6.0</td>\n",
       "      <td>0.833333</td>\n",
       "      <td>0.408248</td>\n",
       "      <td>0.0</td>\n",
       "      <td>1.00</td>\n",
       "      <td>1.0</td>\n",
       "      <td>1.00</td>\n",
       "      <td>1.0</td>\n",
       "    </tr>\n",
       "    <tr>\n",
       "      <th>Furniture</th>\n",
       "      <td>1.0</td>\n",
       "      <td>2.000000</td>\n",
       "      <td>NaN</td>\n",
       "      <td>2.0</td>\n",
       "      <td>2.00</td>\n",
       "      <td>2.0</td>\n",
       "      <td>2.00</td>\n",
       "      <td>2.0</td>\n",
       "      <td>1.0</td>\n",
       "      <td>1.000000</td>\n",
       "      <td>...</td>\n",
       "      <td>5.00</td>\n",
       "      <td>5.0</td>\n",
       "      <td>1.0</td>\n",
       "      <td>1.000000</td>\n",
       "      <td>NaN</td>\n",
       "      <td>1.0</td>\n",
       "      <td>1.00</td>\n",
       "      <td>1.0</td>\n",
       "      <td>1.00</td>\n",
       "      <td>1.0</td>\n",
       "    </tr>\n",
       "    <tr>\n",
       "      <th>Government</th>\n",
       "      <td>1.0</td>\n",
       "      <td>4.000000</td>\n",
       "      <td>NaN</td>\n",
       "      <td>4.0</td>\n",
       "      <td>4.00</td>\n",
       "      <td>4.0</td>\n",
       "      <td>4.00</td>\n",
       "      <td>4.0</td>\n",
       "      <td>1.0</td>\n",
       "      <td>4.000000</td>\n",
       "      <td>...</td>\n",
       "      <td>4.00</td>\n",
       "      <td>4.0</td>\n",
       "      <td>1.0</td>\n",
       "      <td>1.000000</td>\n",
       "      <td>NaN</td>\n",
       "      <td>1.0</td>\n",
       "      <td>1.00</td>\n",
       "      <td>1.0</td>\n",
       "      <td>1.00</td>\n",
       "      <td>1.0</td>\n",
       "    </tr>\n",
       "    <tr>\n",
       "      <th>Non-governmental organization (NGO)</th>\n",
       "      <td>1.0</td>\n",
       "      <td>1.000000</td>\n",
       "      <td>NaN</td>\n",
       "      <td>1.0</td>\n",
       "      <td>1.00</td>\n",
       "      <td>1.0</td>\n",
       "      <td>1.00</td>\n",
       "      <td>1.0</td>\n",
       "      <td>1.0</td>\n",
       "      <td>4.000000</td>\n",
       "      <td>...</td>\n",
       "      <td>5.00</td>\n",
       "      <td>5.0</td>\n",
       "      <td>1.0</td>\n",
       "      <td>1.000000</td>\n",
       "      <td>NaN</td>\n",
       "      <td>1.0</td>\n",
       "      <td>1.00</td>\n",
       "      <td>1.0</td>\n",
       "      <td>1.00</td>\n",
       "      <td>1.0</td>\n",
       "    </tr>\n",
       "    <tr>\n",
       "      <th>Textile</th>\n",
       "      <td>2.0</td>\n",
       "      <td>4.000000</td>\n",
       "      <td>0.000000</td>\n",
       "      <td>4.0</td>\n",
       "      <td>4.00</td>\n",
       "      <td>4.0</td>\n",
       "      <td>4.00</td>\n",
       "      <td>4.0</td>\n",
       "      <td>2.0</td>\n",
       "      <td>3.000000</td>\n",
       "      <td>...</td>\n",
       "      <td>5.00</td>\n",
       "      <td>5.0</td>\n",
       "      <td>2.0</td>\n",
       "      <td>1.000000</td>\n",
       "      <td>0.000000</td>\n",
       "      <td>1.0</td>\n",
       "      <td>1.00</td>\n",
       "      <td>1.0</td>\n",
       "      <td>1.00</td>\n",
       "      <td>1.0</td>\n",
       "    </tr>\n",
       "    <tr>\n",
       "      <th>Waste processing and management</th>\n",
       "      <td>4.0</td>\n",
       "      <td>3.500000</td>\n",
       "      <td>1.000000</td>\n",
       "      <td>2.0</td>\n",
       "      <td>3.50</td>\n",
       "      <td>4.0</td>\n",
       "      <td>4.00</td>\n",
       "      <td>4.0</td>\n",
       "      <td>4.0</td>\n",
       "      <td>3.750000</td>\n",
       "      <td>...</td>\n",
       "      <td>4.00</td>\n",
       "      <td>4.0</td>\n",
       "      <td>4.0</td>\n",
       "      <td>1.000000</td>\n",
       "      <td>0.000000</td>\n",
       "      <td>1.0</td>\n",
       "      <td>1.00</td>\n",
       "      <td>1.0</td>\n",
       "      <td>1.00</td>\n",
       "      <td>1.0</td>\n",
       "    </tr>\n",
       "  </tbody>\n",
       "</table>\n",
       "<p>31 rows × 1928 columns</p>\n",
       "</div>"
      ],
      "text/plain": [
       "                                                                                 M1.1  \\\n",
       "                                                                                count   \n",
       "Self knowledge about circular economy What is your segment of acting?                   \n",
       "2                                     Academia/Research Institution               2.0   \n",
       "                                      Energy and heat processing and management   1.0   \n",
       "                                      Engineering                                 1.0   \n",
       "3                                     Academia/Research Institution              10.0   \n",
       "                                      Construction                                1.0   \n",
       "                                      Consultancy                                 1.0   \n",
       "                                      Engineering                                 1.0   \n",
       "                                      Non-governmental organization (NGO)         3.0   \n",
       "                                      Personal                                    1.0   \n",
       "                                      Waste processing and management             1.0   \n",
       "4                                     Academia/Research Institution              23.0   \n",
       "                                      Consultancy                                13.0   \n",
       "                                      Engineering                                 5.0   \n",
       "                                      Furniture                                   1.0   \n",
       "                                      Government                                  1.0   \n",
       "                                      Non-governmental organization (NGO)         2.0   \n",
       "                                      Packaging                                   2.0   \n",
       "                                      Product development                         1.0   \n",
       "                                      Production                                  1.0   \n",
       "                                      Recycling                                   1.0   \n",
       "                                      Textile                                     2.0   \n",
       "                                      Waste processing and management             3.0   \n",
       "                                      Water processing and management             2.0   \n",
       "5                                     Academia/Research Institution              11.0   \n",
       "                                      Construction                                1.0   \n",
       "                                      Consultancy                                 6.0   \n",
       "                                      Furniture                                   1.0   \n",
       "                                      Government                                  1.0   \n",
       "                                      Non-governmental organization (NGO)         1.0   \n",
       "                                      Textile                                     2.0   \n",
       "                                      Waste processing and management             4.0   \n",
       "\n",
       "                                                                                           \\\n",
       "                                                                                     mean   \n",
       "Self knowledge about circular economy What is your segment of acting?                       \n",
       "2                                     Academia/Research Institution              3.500000   \n",
       "                                      Energy and heat processing and management  3.000000   \n",
       "                                      Engineering                                3.000000   \n",
       "3                                     Academia/Research Institution              3.000000   \n",
       "                                      Construction                               3.000000   \n",
       "                                      Consultancy                                5.000000   \n",
       "                                      Engineering                                3.000000   \n",
       "                                      Non-governmental organization (NGO)        3.000000   \n",
       "                                      Personal                                   5.000000   \n",
       "                                      Waste processing and management            3.000000   \n",
       "4                                     Academia/Research Institution              3.391304   \n",
       "                                      Consultancy                                3.076923   \n",
       "                                      Engineering                                3.400000   \n",
       "                                      Furniture                                  2.000000   \n",
       "                                      Government                                 4.000000   \n",
       "                                      Non-governmental organization (NGO)        4.000000   \n",
       "                                      Packaging                                  3.500000   \n",
       "                                      Product development                        4.000000   \n",
       "                                      Production                                 4.000000   \n",
       "                                      Recycling                                  3.000000   \n",
       "                                      Textile                                    4.000000   \n",
       "                                      Waste processing and management            3.333333   \n",
       "                                      Water processing and management            4.000000   \n",
       "5                                     Academia/Research Institution              3.363636   \n",
       "                                      Construction                               5.000000   \n",
       "                                      Consultancy                                3.833333   \n",
       "                                      Furniture                                  2.000000   \n",
       "                                      Government                                 4.000000   \n",
       "                                      Non-governmental organization (NGO)        1.000000   \n",
       "                                      Textile                                    4.000000   \n",
       "                                      Waste processing and management            3.500000   \n",
       "\n",
       "                                                                                           \\\n",
       "                                                                                      std   \n",
       "Self knowledge about circular economy What is your segment of acting?                       \n",
       "2                                     Academia/Research Institution              0.707107   \n",
       "                                      Energy and heat processing and management       NaN   \n",
       "                                      Engineering                                     NaN   \n",
       "3                                     Academia/Research Institution              0.942809   \n",
       "                                      Construction                                    NaN   \n",
       "                                      Consultancy                                     NaN   \n",
       "                                      Engineering                                     NaN   \n",
       "                                      Non-governmental organization (NGO)        0.000000   \n",
       "                                      Personal                                        NaN   \n",
       "                                      Waste processing and management                 NaN   \n",
       "4                                     Academia/Research Institution              0.988071   \n",
       "                                      Consultancy                                0.954074   \n",
       "                                      Engineering                                0.547723   \n",
       "                                      Furniture                                       NaN   \n",
       "                                      Government                                      NaN   \n",
       "                                      Non-governmental organization (NGO)        0.000000   \n",
       "                                      Packaging                                  0.707107   \n",
       "                                      Product development                             NaN   \n",
       "                                      Production                                      NaN   \n",
       "                                      Recycling                                       NaN   \n",
       "                                      Textile                                    1.414214   \n",
       "                                      Waste processing and management            0.577350   \n",
       "                                      Water processing and management            0.000000   \n",
       "5                                     Academia/Research Institution              1.120065   \n",
       "                                      Construction                                    NaN   \n",
       "                                      Consultancy                                0.983192   \n",
       "                                      Furniture                                       NaN   \n",
       "                                      Government                                      NaN   \n",
       "                                      Non-governmental organization (NGO)             NaN   \n",
       "                                      Textile                                    0.000000   \n",
       "                                      Waste processing and management            1.000000   \n",
       "\n",
       "                                                                                      \\\n",
       "                                                                                 min   \n",
       "Self knowledge about circular economy What is your segment of acting?                  \n",
       "2                                     Academia/Research Institution              3.0   \n",
       "                                      Energy and heat processing and management  3.0   \n",
       "                                      Engineering                                3.0   \n",
       "3                                     Academia/Research Institution              1.0   \n",
       "                                      Construction                               3.0   \n",
       "                                      Consultancy                                5.0   \n",
       "                                      Engineering                                3.0   \n",
       "                                      Non-governmental organization (NGO)        3.0   \n",
       "                                      Personal                                   5.0   \n",
       "                                      Waste processing and management            3.0   \n",
       "4                                     Academia/Research Institution              1.0   \n",
       "                                      Consultancy                                1.0   \n",
       "                                      Engineering                                3.0   \n",
       "                                      Furniture                                  2.0   \n",
       "                                      Government                                 4.0   \n",
       "                                      Non-governmental organization (NGO)        4.0   \n",
       "                                      Packaging                                  3.0   \n",
       "                                      Product development                        4.0   \n",
       "                                      Production                                 4.0   \n",
       "                                      Recycling                                  3.0   \n",
       "                                      Textile                                    3.0   \n",
       "                                      Waste processing and management            3.0   \n",
       "                                      Water processing and management            4.0   \n",
       "5                                     Academia/Research Institution              1.0   \n",
       "                                      Construction                               5.0   \n",
       "                                      Consultancy                                3.0   \n",
       "                                      Furniture                                  2.0   \n",
       "                                      Government                                 4.0   \n",
       "                                      Non-governmental organization (NGO)        1.0   \n",
       "                                      Textile                                    4.0   \n",
       "                                      Waste processing and management            2.0   \n",
       "\n",
       "                                                                                       \\\n",
       "                                                                                  25%   \n",
       "Self knowledge about circular economy What is your segment of acting?                   \n",
       "2                                     Academia/Research Institution              3.25   \n",
       "                                      Energy and heat processing and management  3.00   \n",
       "                                      Engineering                                3.00   \n",
       "3                                     Academia/Research Institution              3.00   \n",
       "                                      Construction                               3.00   \n",
       "                                      Consultancy                                5.00   \n",
       "                                      Engineering                                3.00   \n",
       "                                      Non-governmental organization (NGO)        3.00   \n",
       "                                      Personal                                   5.00   \n",
       "                                      Waste processing and management            3.00   \n",
       "4                                     Academia/Research Institution              3.00   \n",
       "                                      Consultancy                                3.00   \n",
       "                                      Engineering                                3.00   \n",
       "                                      Furniture                                  2.00   \n",
       "                                      Government                                 4.00   \n",
       "                                      Non-governmental organization (NGO)        4.00   \n",
       "                                      Packaging                                  3.25   \n",
       "                                      Product development                        4.00   \n",
       "                                      Production                                 4.00   \n",
       "                                      Recycling                                  3.00   \n",
       "                                      Textile                                    3.50   \n",
       "                                      Waste processing and management            3.00   \n",
       "                                      Water processing and management            4.00   \n",
       "5                                     Academia/Research Institution              3.00   \n",
       "                                      Construction                               5.00   \n",
       "                                      Consultancy                                3.00   \n",
       "                                      Furniture                                  2.00   \n",
       "                                      Government                                 4.00   \n",
       "                                      Non-governmental organization (NGO)        1.00   \n",
       "                                      Textile                                    4.00   \n",
       "                                      Waste processing and management            3.50   \n",
       "\n",
       "                                                                                      \\\n",
       "                                                                                 50%   \n",
       "Self knowledge about circular economy What is your segment of acting?                  \n",
       "2                                     Academia/Research Institution              3.5   \n",
       "                                      Energy and heat processing and management  3.0   \n",
       "                                      Engineering                                3.0   \n",
       "3                                     Academia/Research Institution              3.0   \n",
       "                                      Construction                               3.0   \n",
       "                                      Consultancy                                5.0   \n",
       "                                      Engineering                                3.0   \n",
       "                                      Non-governmental organization (NGO)        3.0   \n",
       "                                      Personal                                   5.0   \n",
       "                                      Waste processing and management            3.0   \n",
       "4                                     Academia/Research Institution              4.0   \n",
       "                                      Consultancy                                3.0   \n",
       "                                      Engineering                                3.0   \n",
       "                                      Furniture                                  2.0   \n",
       "                                      Government                                 4.0   \n",
       "                                      Non-governmental organization (NGO)        4.0   \n",
       "                                      Packaging                                  3.5   \n",
       "                                      Product development                        4.0   \n",
       "                                      Production                                 4.0   \n",
       "                                      Recycling                                  3.0   \n",
       "                                      Textile                                    4.0   \n",
       "                                      Waste processing and management            3.0   \n",
       "                                      Water processing and management            4.0   \n",
       "5                                     Academia/Research Institution              3.0   \n",
       "                                      Construction                               5.0   \n",
       "                                      Consultancy                                3.5   \n",
       "                                      Furniture                                  2.0   \n",
       "                                      Government                                 4.0   \n",
       "                                      Non-governmental organization (NGO)        1.0   \n",
       "                                      Textile                                    4.0   \n",
       "                                      Waste processing and management            4.0   \n",
       "\n",
       "                                                                                       \\\n",
       "                                                                                  75%   \n",
       "Self knowledge about circular economy What is your segment of acting?                   \n",
       "2                                     Academia/Research Institution              3.75   \n",
       "                                      Energy and heat processing and management  3.00   \n",
       "                                      Engineering                                3.00   \n",
       "3                                     Academia/Research Institution              3.75   \n",
       "                                      Construction                               3.00   \n",
       "                                      Consultancy                                5.00   \n",
       "                                      Engineering                                3.00   \n",
       "                                      Non-governmental organization (NGO)        3.00   \n",
       "                                      Personal                                   5.00   \n",
       "                                      Waste processing and management            3.00   \n",
       "4                                     Academia/Research Institution              4.00   \n",
       "                                      Consultancy                                4.00   \n",
       "                                      Engineering                                4.00   \n",
       "                                      Furniture                                  2.00   \n",
       "                                      Government                                 4.00   \n",
       "                                      Non-governmental organization (NGO)        4.00   \n",
       "                                      Packaging                                  3.75   \n",
       "                                      Product development                        4.00   \n",
       "                                      Production                                 4.00   \n",
       "                                      Recycling                                  3.00   \n",
       "                                      Textile                                    4.50   \n",
       "                                      Waste processing and management            3.50   \n",
       "                                      Water processing and management            4.00   \n",
       "5                                     Academia/Research Institution              4.00   \n",
       "                                      Construction                               5.00   \n",
       "                                      Consultancy                                4.75   \n",
       "                                      Furniture                                  2.00   \n",
       "                                      Government                                 4.00   \n",
       "                                      Non-governmental organization (NGO)        1.00   \n",
       "                                      Textile                                    4.00   \n",
       "                                      Waste processing and management            4.00   \n",
       "\n",
       "                                                                                      \\\n",
       "                                                                                 max   \n",
       "Self knowledge about circular economy What is your segment of acting?                  \n",
       "2                                     Academia/Research Institution              4.0   \n",
       "                                      Energy and heat processing and management  3.0   \n",
       "                                      Engineering                                3.0   \n",
       "3                                     Academia/Research Institution              4.0   \n",
       "                                      Construction                               3.0   \n",
       "                                      Consultancy                                5.0   \n",
       "                                      Engineering                                3.0   \n",
       "                                      Non-governmental organization (NGO)        3.0   \n",
       "                                      Personal                                   5.0   \n",
       "                                      Waste processing and management            3.0   \n",
       "4                                     Academia/Research Institution              5.0   \n",
       "                                      Consultancy                                4.0   \n",
       "                                      Engineering                                4.0   \n",
       "                                      Furniture                                  2.0   \n",
       "                                      Government                                 4.0   \n",
       "                                      Non-governmental organization (NGO)        4.0   \n",
       "                                      Packaging                                  4.0   \n",
       "                                      Product development                        4.0   \n",
       "                                      Production                                 4.0   \n",
       "                                      Recycling                                  3.0   \n",
       "                                      Textile                                    5.0   \n",
       "                                      Waste processing and management            4.0   \n",
       "                                      Water processing and management            4.0   \n",
       "5                                     Academia/Research Institution              5.0   \n",
       "                                      Construction                               5.0   \n",
       "                                      Consultancy                                5.0   \n",
       "                                      Furniture                                  2.0   \n",
       "                                      Government                                 4.0   \n",
       "                                      Non-governmental organization (NGO)        1.0   \n",
       "                                      Textile                                    4.0   \n",
       "                                      Waste processing and management            4.0   \n",
       "\n",
       "                                                                                 M1.2  \\\n",
       "                                                                                count   \n",
       "Self knowledge about circular economy What is your segment of acting?                   \n",
       "2                                     Academia/Research Institution               2.0   \n",
       "                                      Energy and heat processing and management   1.0   \n",
       "                                      Engineering                                 1.0   \n",
       "3                                     Academia/Research Institution              10.0   \n",
       "                                      Construction                                1.0   \n",
       "                                      Consultancy                                 1.0   \n",
       "                                      Engineering                                 1.0   \n",
       "                                      Non-governmental organization (NGO)         3.0   \n",
       "                                      Personal                                    1.0   \n",
       "                                      Waste processing and management             1.0   \n",
       "4                                     Academia/Research Institution              23.0   \n",
       "                                      Consultancy                                13.0   \n",
       "                                      Engineering                                 5.0   \n",
       "                                      Furniture                                   1.0   \n",
       "                                      Government                                  1.0   \n",
       "                                      Non-governmental organization (NGO)         2.0   \n",
       "                                      Packaging                                   2.0   \n",
       "                                      Product development                         1.0   \n",
       "                                      Production                                  1.0   \n",
       "                                      Recycling                                   1.0   \n",
       "                                      Textile                                     2.0   \n",
       "                                      Waste processing and management             3.0   \n",
       "                                      Water processing and management             2.0   \n",
       "5                                     Academia/Research Institution              11.0   \n",
       "                                      Construction                                1.0   \n",
       "                                      Consultancy                                 6.0   \n",
       "                                      Furniture                                   1.0   \n",
       "                                      Government                                  1.0   \n",
       "                                      Non-governmental organization (NGO)         1.0   \n",
       "                                      Textile                                     2.0   \n",
       "                                      Waste processing and management             4.0   \n",
       "\n",
       "                                                                                           \\\n",
       "                                                                                     mean   \n",
       "Self knowledge about circular economy What is your segment of acting?                       \n",
       "2                                     Academia/Research Institution              3.000000   \n",
       "                                      Energy and heat processing and management  5.000000   \n",
       "                                      Engineering                                4.000000   \n",
       "3                                     Academia/Research Institution              3.100000   \n",
       "                                      Construction                               4.000000   \n",
       "                                      Consultancy                                3.000000   \n",
       "                                      Engineering                                3.000000   \n",
       "                                      Non-governmental organization (NGO)        3.666667   \n",
       "                                      Personal                                   4.000000   \n",
       "                                      Waste processing and management            4.000000   \n",
       "4                                     Academia/Research Institution              3.565217   \n",
       "                                      Consultancy                                3.846154   \n",
       "                                      Engineering                                2.600000   \n",
       "                                      Furniture                                  3.000000   \n",
       "                                      Government                                 4.000000   \n",
       "                                      Non-governmental organization (NGO)        3.500000   \n",
       "                                      Packaging                                  4.000000   \n",
       "                                      Product development                        5.000000   \n",
       "                                      Production                                 4.000000   \n",
       "                                      Recycling                                  4.000000   \n",
       "                                      Textile                                    4.000000   \n",
       "                                      Waste processing and management            3.000000   \n",
       "                                      Water processing and management            3.500000   \n",
       "5                                     Academia/Research Institution              3.545455   \n",
       "                                      Construction                               5.000000   \n",
       "                                      Consultancy                                4.166667   \n",
       "                                      Furniture                                  1.000000   \n",
       "                                      Government                                 4.000000   \n",
       "                                      Non-governmental organization (NGO)        4.000000   \n",
       "                                      Textile                                    3.000000   \n",
       "                                      Waste processing and management            3.750000   \n",
       "\n",
       "                                                                                 ...  \\\n",
       "                                                                                 ...   \n",
       "Self knowledge about circular economy What is your segment of acting?            ...   \n",
       "2                                     Academia/Research Institution              ...   \n",
       "                                      Energy and heat processing and management  ...   \n",
       "                                      Engineering                                ...   \n",
       "3                                     Academia/Research Institution              ...   \n",
       "                                      Construction                               ...   \n",
       "                                      Consultancy                                ...   \n",
       "                                      Engineering                                ...   \n",
       "                                      Non-governmental organization (NGO)        ...   \n",
       "                                      Personal                                   ...   \n",
       "                                      Waste processing and management            ...   \n",
       "4                                     Academia/Research Institution              ...   \n",
       "                                      Consultancy                                ...   \n",
       "                                      Engineering                                ...   \n",
       "                                      Furniture                                  ...   \n",
       "                                      Government                                 ...   \n",
       "                                      Non-governmental organization (NGO)        ...   \n",
       "                                      Packaging                                  ...   \n",
       "                                      Product development                        ...   \n",
       "                                      Production                                 ...   \n",
       "                                      Recycling                                  ...   \n",
       "                                      Textile                                    ...   \n",
       "                                      Waste processing and management            ...   \n",
       "                                      Water processing and management            ...   \n",
       "5                                     Academia/Research Institution              ...   \n",
       "                                      Construction                               ...   \n",
       "                                      Consultancy                                ...   \n",
       "                                      Furniture                                  ...   \n",
       "                                      Government                                 ...   \n",
       "                                      Non-governmental organization (NGO)        ...   \n",
       "                                      Textile                                    ...   \n",
       "                                      Waste processing and management            ...   \n",
       "\n",
       "                                                                                M24.10  \\\n",
       "                                                                                   75%   \n",
       "Self knowledge about circular economy What is your segment of acting?                    \n",
       "2                                     Academia/Research Institution               4.50   \n",
       "                                      Energy and heat processing and management   4.00   \n",
       "                                      Engineering                                 4.00   \n",
       "3                                     Academia/Research Institution               3.00   \n",
       "                                      Construction                                4.00   \n",
       "                                      Consultancy                                 2.00   \n",
       "                                      Engineering                                 4.00   \n",
       "                                      Non-governmental organization (NGO)         3.00   \n",
       "                                      Personal                                    5.00   \n",
       "                                      Waste processing and management             3.00   \n",
       "4                                     Academia/Research Institution               5.00   \n",
       "                                      Consultancy                                 5.00   \n",
       "                                      Engineering                                 5.00   \n",
       "                                      Furniture                                   3.00   \n",
       "                                      Government                                  3.00   \n",
       "                                      Non-governmental organization (NGO)         4.75   \n",
       "                                      Packaging                                   3.00   \n",
       "                                      Product development                         4.00   \n",
       "                                      Production                                  5.00   \n",
       "                                      Recycling                                   3.00   \n",
       "                                      Textile                                     5.00   \n",
       "                                      Waste processing and management             3.00   \n",
       "                                      Water processing and management             4.00   \n",
       "5                                     Academia/Research Institution               4.00   \n",
       "                                      Construction                                3.00   \n",
       "                                      Consultancy                                 3.75   \n",
       "                                      Furniture                                   5.00   \n",
       "                                      Government                                  4.00   \n",
       "                                      Non-governmental organization (NGO)         5.00   \n",
       "                                      Textile                                     5.00   \n",
       "                                      Waste processing and management             4.00   \n",
       "\n",
       "                                                                                      \\\n",
       "                                                                                 max   \n",
       "Self knowledge about circular economy What is your segment of acting?                  \n",
       "2                                     Academia/Research Institution              5.0   \n",
       "                                      Energy and heat processing and management  4.0   \n",
       "                                      Engineering                                4.0   \n",
       "3                                     Academia/Research Institution              4.0   \n",
       "                                      Construction                               4.0   \n",
       "                                      Consultancy                                2.0   \n",
       "                                      Engineering                                4.0   \n",
       "                                      Non-governmental organization (NGO)        3.0   \n",
       "                                      Personal                                   5.0   \n",
       "                                      Waste processing and management            3.0   \n",
       "4                                     Academia/Research Institution              5.0   \n",
       "                                      Consultancy                                5.0   \n",
       "                                      Engineering                                5.0   \n",
       "                                      Furniture                                  3.0   \n",
       "                                      Government                                 3.0   \n",
       "                                      Non-governmental organization (NGO)        5.0   \n",
       "                                      Packaging                                  3.0   \n",
       "                                      Product development                        4.0   \n",
       "                                      Production                                 5.0   \n",
       "                                      Recycling                                  3.0   \n",
       "                                      Textile                                    5.0   \n",
       "                                      Waste processing and management            3.0   \n",
       "                                      Water processing and management            4.0   \n",
       "5                                     Academia/Research Institution              5.0   \n",
       "                                      Construction                               3.0   \n",
       "                                      Consultancy                                4.0   \n",
       "                                      Furniture                                  5.0   \n",
       "                                      Government                                 4.0   \n",
       "                                      Non-governmental organization (NGO)        5.0   \n",
       "                                      Textile                                    5.0   \n",
       "                                      Waste processing and management            4.0   \n",
       "\n",
       "                                                                                Do you act directly with the circular economy?  \\\n",
       "                                                                                                                         count   \n",
       "Self knowledge about circular economy What is your segment of acting?                                                            \n",
       "2                                     Academia/Research Institution                                                        2.0   \n",
       "                                      Energy and heat processing and management                                            1.0   \n",
       "                                      Engineering                                                                          1.0   \n",
       "3                                     Academia/Research Institution                                                       10.0   \n",
       "                                      Construction                                                                         1.0   \n",
       "                                      Consultancy                                                                          1.0   \n",
       "                                      Engineering                                                                          1.0   \n",
       "                                      Non-governmental organization (NGO)                                                  3.0   \n",
       "                                      Personal                                                                             1.0   \n",
       "                                      Waste processing and management                                                      1.0   \n",
       "4                                     Academia/Research Institution                                                       23.0   \n",
       "                                      Consultancy                                                                         13.0   \n",
       "                                      Engineering                                                                          5.0   \n",
       "                                      Furniture                                                                            1.0   \n",
       "                                      Government                                                                           1.0   \n",
       "                                      Non-governmental organization (NGO)                                                  2.0   \n",
       "                                      Packaging                                                                            2.0   \n",
       "                                      Product development                                                                  1.0   \n",
       "                                      Production                                                                           1.0   \n",
       "                                      Recycling                                                                            1.0   \n",
       "                                      Textile                                                                              2.0   \n",
       "                                      Waste processing and management                                                      3.0   \n",
       "                                      Water processing and management                                                      2.0   \n",
       "5                                     Academia/Research Institution                                                       11.0   \n",
       "                                      Construction                                                                         1.0   \n",
       "                                      Consultancy                                                                          6.0   \n",
       "                                      Furniture                                                                            1.0   \n",
       "                                      Government                                                                           1.0   \n",
       "                                      Non-governmental organization (NGO)                                                  1.0   \n",
       "                                      Textile                                                                              2.0   \n",
       "                                      Waste processing and management                                                      4.0   \n",
       "\n",
       "                                                                                           \\\n",
       "                                                                                     mean   \n",
       "Self knowledge about circular economy What is your segment of acting?                       \n",
       "2                                     Academia/Research Institution              0.000000   \n",
       "                                      Energy and heat processing and management  0.000000   \n",
       "                                      Engineering                                0.000000   \n",
       "3                                     Academia/Research Institution              0.400000   \n",
       "                                      Construction                               1.000000   \n",
       "                                      Consultancy                                0.000000   \n",
       "                                      Engineering                                1.000000   \n",
       "                                      Non-governmental organization (NGO)        1.000000   \n",
       "                                      Personal                                   0.000000   \n",
       "                                      Waste processing and management            1.000000   \n",
       "4                                     Academia/Research Institution              0.782609   \n",
       "                                      Consultancy                                0.923077   \n",
       "                                      Engineering                                0.800000   \n",
       "                                      Furniture                                  1.000000   \n",
       "                                      Government                                 0.000000   \n",
       "                                      Non-governmental organization (NGO)        0.500000   \n",
       "                                      Packaging                                  1.000000   \n",
       "                                      Product development                        1.000000   \n",
       "                                      Production                                 0.000000   \n",
       "                                      Recycling                                  1.000000   \n",
       "                                      Textile                                    0.500000   \n",
       "                                      Waste processing and management            1.000000   \n",
       "                                      Water processing and management            0.500000   \n",
       "5                                     Academia/Research Institution              1.000000   \n",
       "                                      Construction                               1.000000   \n",
       "                                      Consultancy                                0.833333   \n",
       "                                      Furniture                                  1.000000   \n",
       "                                      Government                                 1.000000   \n",
       "                                      Non-governmental organization (NGO)        1.000000   \n",
       "                                      Textile                                    1.000000   \n",
       "                                      Waste processing and management            1.000000   \n",
       "\n",
       "                                                                                           \\\n",
       "                                                                                      std   \n",
       "Self knowledge about circular economy What is your segment of acting?                       \n",
       "2                                     Academia/Research Institution              0.000000   \n",
       "                                      Energy and heat processing and management       NaN   \n",
       "                                      Engineering                                     NaN   \n",
       "3                                     Academia/Research Institution              0.516398   \n",
       "                                      Construction                                    NaN   \n",
       "                                      Consultancy                                     NaN   \n",
       "                                      Engineering                                     NaN   \n",
       "                                      Non-governmental organization (NGO)        0.000000   \n",
       "                                      Personal                                        NaN   \n",
       "                                      Waste processing and management                 NaN   \n",
       "4                                     Academia/Research Institution              0.421741   \n",
       "                                      Consultancy                                0.277350   \n",
       "                                      Engineering                                0.447214   \n",
       "                                      Furniture                                       NaN   \n",
       "                                      Government                                      NaN   \n",
       "                                      Non-governmental organization (NGO)        0.707107   \n",
       "                                      Packaging                                  0.000000   \n",
       "                                      Product development                             NaN   \n",
       "                                      Production                                      NaN   \n",
       "                                      Recycling                                       NaN   \n",
       "                                      Textile                                    0.707107   \n",
       "                                      Waste processing and management            0.000000   \n",
       "                                      Water processing and management            0.707107   \n",
       "5                                     Academia/Research Institution              0.000000   \n",
       "                                      Construction                                    NaN   \n",
       "                                      Consultancy                                0.408248   \n",
       "                                      Furniture                                       NaN   \n",
       "                                      Government                                      NaN   \n",
       "                                      Non-governmental organization (NGO)             NaN   \n",
       "                                      Textile                                    0.000000   \n",
       "                                      Waste processing and management            0.000000   \n",
       "\n",
       "                                                                                      \\\n",
       "                                                                                 min   \n",
       "Self knowledge about circular economy What is your segment of acting?                  \n",
       "2                                     Academia/Research Institution              0.0   \n",
       "                                      Energy and heat processing and management  0.0   \n",
       "                                      Engineering                                0.0   \n",
       "3                                     Academia/Research Institution              0.0   \n",
       "                                      Construction                               1.0   \n",
       "                                      Consultancy                                0.0   \n",
       "                                      Engineering                                1.0   \n",
       "                                      Non-governmental organization (NGO)        1.0   \n",
       "                                      Personal                                   0.0   \n",
       "                                      Waste processing and management            1.0   \n",
       "4                                     Academia/Research Institution              0.0   \n",
       "                                      Consultancy                                0.0   \n",
       "                                      Engineering                                0.0   \n",
       "                                      Furniture                                  1.0   \n",
       "                                      Government                                 0.0   \n",
       "                                      Non-governmental organization (NGO)        0.0   \n",
       "                                      Packaging                                  1.0   \n",
       "                                      Product development                        1.0   \n",
       "                                      Production                                 0.0   \n",
       "                                      Recycling                                  1.0   \n",
       "                                      Textile                                    0.0   \n",
       "                                      Waste processing and management            1.0   \n",
       "                                      Water processing and management            0.0   \n",
       "5                                     Academia/Research Institution              1.0   \n",
       "                                      Construction                               1.0   \n",
       "                                      Consultancy                                0.0   \n",
       "                                      Furniture                                  1.0   \n",
       "                                      Government                                 1.0   \n",
       "                                      Non-governmental organization (NGO)        1.0   \n",
       "                                      Textile                                    1.0   \n",
       "                                      Waste processing and management            1.0   \n",
       "\n",
       "                                                                                       \\\n",
       "                                                                                  25%   \n",
       "Self knowledge about circular economy What is your segment of acting?                   \n",
       "2                                     Academia/Research Institution              0.00   \n",
       "                                      Energy and heat processing and management  0.00   \n",
       "                                      Engineering                                0.00   \n",
       "3                                     Academia/Research Institution              0.00   \n",
       "                                      Construction                               1.00   \n",
       "                                      Consultancy                                0.00   \n",
       "                                      Engineering                                1.00   \n",
       "                                      Non-governmental organization (NGO)        1.00   \n",
       "                                      Personal                                   0.00   \n",
       "                                      Waste processing and management            1.00   \n",
       "4                                     Academia/Research Institution              1.00   \n",
       "                                      Consultancy                                1.00   \n",
       "                                      Engineering                                1.00   \n",
       "                                      Furniture                                  1.00   \n",
       "                                      Government                                 0.00   \n",
       "                                      Non-governmental organization (NGO)        0.25   \n",
       "                                      Packaging                                  1.00   \n",
       "                                      Product development                        1.00   \n",
       "                                      Production                                 0.00   \n",
       "                                      Recycling                                  1.00   \n",
       "                                      Textile                                    0.25   \n",
       "                                      Waste processing and management            1.00   \n",
       "                                      Water processing and management            0.25   \n",
       "5                                     Academia/Research Institution              1.00   \n",
       "                                      Construction                               1.00   \n",
       "                                      Consultancy                                1.00   \n",
       "                                      Furniture                                  1.00   \n",
       "                                      Government                                 1.00   \n",
       "                                      Non-governmental organization (NGO)        1.00   \n",
       "                                      Textile                                    1.00   \n",
       "                                      Waste processing and management            1.00   \n",
       "\n",
       "                                                                                      \\\n",
       "                                                                                 50%   \n",
       "Self knowledge about circular economy What is your segment of acting?                  \n",
       "2                                     Academia/Research Institution              0.0   \n",
       "                                      Energy and heat processing and management  0.0   \n",
       "                                      Engineering                                0.0   \n",
       "3                                     Academia/Research Institution              0.0   \n",
       "                                      Construction                               1.0   \n",
       "                                      Consultancy                                0.0   \n",
       "                                      Engineering                                1.0   \n",
       "                                      Non-governmental organization (NGO)        1.0   \n",
       "                                      Personal                                   0.0   \n",
       "                                      Waste processing and management            1.0   \n",
       "4                                     Academia/Research Institution              1.0   \n",
       "                                      Consultancy                                1.0   \n",
       "                                      Engineering                                1.0   \n",
       "                                      Furniture                                  1.0   \n",
       "                                      Government                                 0.0   \n",
       "                                      Non-governmental organization (NGO)        0.5   \n",
       "                                      Packaging                                  1.0   \n",
       "                                      Product development                        1.0   \n",
       "                                      Production                                 0.0   \n",
       "                                      Recycling                                  1.0   \n",
       "                                      Textile                                    0.5   \n",
       "                                      Waste processing and management            1.0   \n",
       "                                      Water processing and management            0.5   \n",
       "5                                     Academia/Research Institution              1.0   \n",
       "                                      Construction                               1.0   \n",
       "                                      Consultancy                                1.0   \n",
       "                                      Furniture                                  1.0   \n",
       "                                      Government                                 1.0   \n",
       "                                      Non-governmental organization (NGO)        1.0   \n",
       "                                      Textile                                    1.0   \n",
       "                                      Waste processing and management            1.0   \n",
       "\n",
       "                                                                                       \\\n",
       "                                                                                  75%   \n",
       "Self knowledge about circular economy What is your segment of acting?                   \n",
       "2                                     Academia/Research Institution              0.00   \n",
       "                                      Energy and heat processing and management  0.00   \n",
       "                                      Engineering                                0.00   \n",
       "3                                     Academia/Research Institution              1.00   \n",
       "                                      Construction                               1.00   \n",
       "                                      Consultancy                                0.00   \n",
       "                                      Engineering                                1.00   \n",
       "                                      Non-governmental organization (NGO)        1.00   \n",
       "                                      Personal                                   0.00   \n",
       "                                      Waste processing and management            1.00   \n",
       "4                                     Academia/Research Institution              1.00   \n",
       "                                      Consultancy                                1.00   \n",
       "                                      Engineering                                1.00   \n",
       "                                      Furniture                                  1.00   \n",
       "                                      Government                                 0.00   \n",
       "                                      Non-governmental organization (NGO)        0.75   \n",
       "                                      Packaging                                  1.00   \n",
       "                                      Product development                        1.00   \n",
       "                                      Production                                 0.00   \n",
       "                                      Recycling                                  1.00   \n",
       "                                      Textile                                    0.75   \n",
       "                                      Waste processing and management            1.00   \n",
       "                                      Water processing and management            0.75   \n",
       "5                                     Academia/Research Institution              1.00   \n",
       "                                      Construction                               1.00   \n",
       "                                      Consultancy                                1.00   \n",
       "                                      Furniture                                  1.00   \n",
       "                                      Government                                 1.00   \n",
       "                                      Non-governmental organization (NGO)        1.00   \n",
       "                                      Textile                                    1.00   \n",
       "                                      Waste processing and management            1.00   \n",
       "\n",
       "                                                                                      \n",
       "                                                                                 max  \n",
       "Self knowledge about circular economy What is your segment of acting?                 \n",
       "2                                     Academia/Research Institution              0.0  \n",
       "                                      Energy and heat processing and management  0.0  \n",
       "                                      Engineering                                0.0  \n",
       "3                                     Academia/Research Institution              1.0  \n",
       "                                      Construction                               1.0  \n",
       "                                      Consultancy                                0.0  \n",
       "                                      Engineering                                1.0  \n",
       "                                      Non-governmental organization (NGO)        1.0  \n",
       "                                      Personal                                   0.0  \n",
       "                                      Waste processing and management            1.0  \n",
       "4                                     Academia/Research Institution              1.0  \n",
       "                                      Consultancy                                1.0  \n",
       "                                      Engineering                                1.0  \n",
       "                                      Furniture                                  1.0  \n",
       "                                      Government                                 0.0  \n",
       "                                      Non-governmental organization (NGO)        1.0  \n",
       "                                      Packaging                                  1.0  \n",
       "                                      Product development                        1.0  \n",
       "                                      Production                                 0.0  \n",
       "                                      Recycling                                  1.0  \n",
       "                                      Textile                                    1.0  \n",
       "                                      Waste processing and management            1.0  \n",
       "                                      Water processing and management            1.0  \n",
       "5                                     Academia/Research Institution              1.0  \n",
       "                                      Construction                               1.0  \n",
       "                                      Consultancy                                1.0  \n",
       "                                      Furniture                                  1.0  \n",
       "                                      Government                                 1.0  \n",
       "                                      Non-governmental organization (NGO)        1.0  \n",
       "                                      Textile                                    1.0  \n",
       "                                      Waste processing and management            1.0  \n",
       "\n",
       "[31 rows x 1928 columns]"
      ]
     },
     "execution_count": 56,
     "metadata": {},
     "output_type": "execute_result"
    }
   ],
   "source": [
    "df.groupby(['Self knowledge about circular economy','What is your segment of acting?']).describe()"
   ]
  },
  {
   "cell_type": "code",
   "execution_count": 45,
   "id": "4376a157-bf37-4e61-ad1e-0efc32c8df90",
   "metadata": {},
   "outputs": [
    {
     "data": {
      "text/html": [
       "<div>\n",
       "<style scoped>\n",
       "    .dataframe tbody tr th:only-of-type {\n",
       "        vertical-align: middle;\n",
       "    }\n",
       "\n",
       "    .dataframe tbody tr th {\n",
       "        vertical-align: top;\n",
       "    }\n",
       "\n",
       "    .dataframe thead th {\n",
       "        text-align: right;\n",
       "    }\n",
       "</style>\n",
       "<table border=\"1\" class=\"dataframe\">\n",
       "  <thead>\n",
       "    <tr style=\"text-align: right;\">\n",
       "      <th></th>\n",
       "      <th>count</th>\n",
       "      <th>unique</th>\n",
       "      <th>top</th>\n",
       "      <th>freq</th>\n",
       "    </tr>\n",
       "    <tr>\n",
       "      <th>Self knowledge about circular economy</th>\n",
       "      <th></th>\n",
       "      <th></th>\n",
       "      <th></th>\n",
       "      <th></th>\n",
       "    </tr>\n",
       "  </thead>\n",
       "  <tbody>\n",
       "    <tr>\n",
       "      <th>2</th>\n",
       "      <td>4</td>\n",
       "      <td>3</td>\n",
       "      <td>Academia/Research Institution</td>\n",
       "      <td>2</td>\n",
       "    </tr>\n",
       "    <tr>\n",
       "      <th>3</th>\n",
       "      <td>18</td>\n",
       "      <td>7</td>\n",
       "      <td>Academia/Research Institution</td>\n",
       "      <td>10</td>\n",
       "    </tr>\n",
       "    <tr>\n",
       "      <th>4</th>\n",
       "      <td>57</td>\n",
       "      <td>13</td>\n",
       "      <td>Academia/Research Institution</td>\n",
       "      <td>23</td>\n",
       "    </tr>\n",
       "    <tr>\n",
       "      <th>5</th>\n",
       "      <td>27</td>\n",
       "      <td>8</td>\n",
       "      <td>Academia/Research Institution</td>\n",
       "      <td>11</td>\n",
       "    </tr>\n",
       "  </tbody>\n",
       "</table>\n",
       "</div>"
      ],
      "text/plain": [
       "                                      count unique  \\\n",
       "Self knowledge about circular economy                \n",
       "2                                         4      3   \n",
       "3                                        18      7   \n",
       "4                                        57     13   \n",
       "5                                        27      8   \n",
       "\n",
       "                                                                 top freq  \n",
       "Self knowledge about circular economy                                      \n",
       "2                                      Academia/Research Institution    2  \n",
       "3                                      Academia/Research Institution   10  \n",
       "4                                      Academia/Research Institution   23  \n",
       "5                                      Academia/Research Institution   11  "
      ]
     },
     "execution_count": 45,
     "metadata": {},
     "output_type": "execute_result"
    }
   ],
   "source": [
    "agg1.describe()"
   ]
  },
  {
   "cell_type": "markdown",
   "id": "06c23ea1-87a6-4fc6-8b86-e7ee91fe5278",
   "metadata": {},
   "source": [
    "### Que estratégias são priozidas pela dinamarca?\n",
    "24 Estratégias:\n",
    "\n",
    "       -01. COLABORAÇÃO ENTRE EMPRESAS,\n",
    "       -02. DIRETRIZES DE GESTÃO DE RESÍDUOS,\n",
    "       -03. LOGÍSTICA REVERSA,\n",
    "       -04. CLOSED-LOOP (Reúso, Reparo, Recondicionamento, Remanufatura, Reciclagem).  Significa uma extensão do período de utilização dos bens através do design de mercadorias de longa duração; a introdução de ciclos de serviço para prolongar a vida útil de um produto existente, incluindo a reutilização do próprio produto, reparo, recondicionamento/remanufatura e atualização técnica e/ou uma combinação destes. O resultado  é uma desaceleração do fluxo de materiais da produção para a reciclagem.\n",
    "       -05. ACORDOS SETORIAIS,\n",
    "       -06. INCLUSÃO SÓCIO-PRODUTIVA,\n",
    "       -07. INCENTIVOS, SUPORTE FINANCEIRO E MEDIDAS FISCAIS,\n",
    "       -08. ENGAJAMENTO DE STAKEHOLDERS,\n",
    "       -09. SIMBIOSE INDUSTRIAL,\n",
    "       -10. PARCERIAS COM ORGANIZAÇÕES DE PESQUISA E DESENVOLVIMENTO (P&D),\n",
    "       -11. ROADMAP (ROTEIRO) PARA A ECONOMIA CIRCULAR,\n",
    "       -12. ECO-CIDADES OU CIDADES CIRCULARES,\n",
    "       -13. INCENTIVOS À MICRO, PEQUENAS E MÉDIAS EMPRESAS (MPE),\n",
    "       -14. POLÍTICA DE PRODUTO SUSTENTÁVEL,\n",
    "       -15. COMPRAS VERDES E/OU SUSTENTÁVEIS,\n",
    "       -16. REGULAÇÃO,\n",
    "       -17. ECO-INOVAÇÃO E ECO-DESIGN,\n",
    "       -18. CRIAÇÃO/GERAÇÃO DE EMPREGOS,\n",
    "       -19. ECONOMIA COMPARTILHADA (SHARING ECONOMY),\n",
    "       -20. OBTENDO VALOR DA BIOMASSA,\n",
    "       -21. REÚSO DA ÁGUA,\n",
    "       -22. EFICIÊNCIA ENERGÉTICA,\n",
    "       -23. REDUÇÃO DE PERDAS E DESPERDÍCIO DE ALIMENTOS,\n",
    "       -24. GERENCIAMENTO DE RESÍDUOS DE CONSTRUÇÃO & DEMOLIÇÃO (C&D)'\n",
    "\n",
    "10 Critérios:\n",
    "\n",
    "    - .1 = Está em conformidade com os regulamentos regionais e nacionais\n",
    "    - .2 = Ajuda a aumentar a aceitação pública da economia circular\n",
    "    - .3 = Aumenta a absorção da força de trabalho regional\n",
    "    - .4 = Previne o descarte incorreto de resíduos\n",
    "    - .5 = Contribui para a preservação do meio ambiente\n",
    "    - .6 = Tem um custo para a implementação\n",
    "    - .7 = Tem um custo para ser mantida em operação\n",
    "    - .8 = Tem dificuldade de implementação, devido ao conhecimento, tecnologias e soluções necessárias\n",
    "    - .9 = Tem obstáculos/barreiras, com base nas características regionais específicas\n",
    "    - .10 = Tem o potencial de permanecer constante, considerando principalmente os requisitos de manutenção relativos ao pessoal especializado e a simplicidade das operações"
   ]
  },
  {
   "cell_type": "markdown",
   "id": "efce3027-449f-4403-b3a1-00b17de66626",
   "metadata": {},
   "source": [
    "### Como avaliar?\n",
    "\n",
    "- Quais estratégias possuem melhor desempenho proporcional nos critérios [ATENÇÃO COM 7,8 e 9 que possuem importancia invertida]\n",
    "    - Proporção de 4's e 5's"
   ]
  },
  {
   "cell_type": "code",
   "execution_count": null,
   "id": "31fd481b-c491-4118-b91c-f9db054d7adc",
   "metadata": {},
   "outputs": [],
   "source": []
  }
 ],
 "metadata": {
  "kernelspec": {
   "display_name": "Python 3 (ipykernel)",
   "language": "python",
   "name": "python3"
  },
  "language_info": {
   "codemirror_mode": {
    "name": "ipython",
    "version": 3
   },
   "file_extension": ".py",
   "mimetype": "text/x-python",
   "name": "python",
   "nbconvert_exporter": "python",
   "pygments_lexer": "ipython3",
   "version": "3.11.2"
  }
 },
 "nbformat": 4,
 "nbformat_minor": 5
}
