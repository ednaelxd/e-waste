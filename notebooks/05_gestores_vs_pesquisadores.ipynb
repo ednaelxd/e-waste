{
 "cells": [
  {
   "cell_type": "code",
   "execution_count": 1,
   "id": "8f2b78b2-394c-419a-a2c2-27d515310d47",
   "metadata": {
    "tags": []
   },
   "outputs": [],
   "source": [
    "import pandas as pd\n",
    "import numpy as np\n",
    "from matplotlib import pyplot as plt"
   ]
  },
  {
   "cell_type": "code",
   "execution_count": 2,
   "id": "d7616456-8431-41b2-9e1d-0ab375e48d60",
   "metadata": {
    "tags": []
   },
   "outputs": [],
   "source": [
    "df = pd.read_csv('dados_gerais_04_11_2023.csv',index_col=[0])"
   ]
  },
  {
   "cell_type": "markdown",
   "id": "b4dc9f77-a3a0-43fd-b71f-ed9fb541dcda",
   "metadata": {},
   "source": [
    "# RoadMap\n",
    "\n",
    "- Segmentação dos dados\n",
    "    - 1. Recorte do dataset original para pesquisadores e não trabalhadores [Por medida]\n",
    "    - 2. Recorte das avaliações de cada grupo [Por medida]\n",
    "    - 3. Recorte do dataset original para pesquisadores e não trabalhadores [Por critérios]\n",
    "    - 4. Recorte das avaliações de cada grupo [Por critérios]    \n",
    "- Criação de Radarcharts para:\n",
    "    - Avaliação pela soma\n",
    "    - Avaliação pela proporção de 4's e 5's\n",
    "    - Avaliação pela agregação dos critérios nos 4 subgrupos"
   ]
  },
  {
   "cell_type": "code",
   "execution_count": 3,
   "id": "7761ad59-67d9-4955-8219-952ed546e721",
   "metadata": {
    "tags": []
   },
   "outputs": [],
   "source": [
    "df_workers = df[df['What is your segment of acting?']!='Academia/Research Institution']"
   ]
  },
  {
   "cell_type": "code",
   "execution_count": 4,
   "id": "4fe746b9-8513-4538-a3c0-2e975744f60f",
   "metadata": {
    "tags": []
   },
   "outputs": [],
   "source": [
    "df_academy = df[df['What is your segment of acting?']=='Academia/Research Institution']"
   ]
  },
  {
   "cell_type": "code",
   "execution_count": 5,
   "id": "5579e2e3-fe0c-4ce2-932c-861550130309",
   "metadata": {
    "tags": []
   },
   "outputs": [
    {
     "data": {
      "text/html": [
       "<div>\n",
       "<style scoped>\n",
       "    .dataframe tbody tr th:only-of-type {\n",
       "        vertical-align: middle;\n",
       "    }\n",
       "\n",
       "    .dataframe tbody tr th {\n",
       "        vertical-align: top;\n",
       "    }\n",
       "\n",
       "    .dataframe thead th {\n",
       "        text-align: right;\n",
       "    }\n",
       "</style>\n",
       "<table border=\"1\" class=\"dataframe\">\n",
       "  <thead>\n",
       "    <tr style=\"text-align: right;\">\n",
       "      <th></th>\n",
       "      <th>M1.1</th>\n",
       "      <th>M1.2</th>\n",
       "      <th>M1.3</th>\n",
       "      <th>M1.4</th>\n",
       "      <th>M1.5</th>\n",
       "      <th>M1.6</th>\n",
       "      <th>M1.7</th>\n",
       "      <th>M1.8</th>\n",
       "      <th>M1.9</th>\n",
       "      <th>M1.10</th>\n",
       "      <th>...</th>\n",
       "      <th>M24.8</th>\n",
       "      <th>M24.9</th>\n",
       "      <th>M24.10</th>\n",
       "      <th>Local</th>\n",
       "      <th>Do you act directly with the circular economy?</th>\n",
       "      <th>Self knowledge about circular economy</th>\n",
       "      <th>What is your segment of acting?</th>\n",
       "      <th>What sector does your organization operate in?</th>\n",
       "      <th>company_size</th>\n",
       "      <th>How do you describe your position in your organization?</th>\n",
       "    </tr>\n",
       "  </thead>\n",
       "  <tbody>\n",
       "    <tr>\n",
       "      <th>0</th>\n",
       "      <td>4.0</td>\n",
       "      <td>4.0</td>\n",
       "      <td>3.0</td>\n",
       "      <td>4.0</td>\n",
       "      <td>4.0</td>\n",
       "      <td>2.0</td>\n",
       "      <td>2.0</td>\n",
       "      <td>2.0</td>\n",
       "      <td>2.0</td>\n",
       "      <td>3.0</td>\n",
       "      <td>...</td>\n",
       "      <td>2.0</td>\n",
       "      <td>2.0</td>\n",
       "      <td>3.0</td>\n",
       "      <td>UK</td>\n",
       "      <td>1</td>\n",
       "      <td>4.0</td>\n",
       "      <td>Academia/Research Institution</td>\n",
       "      <td>Quinary Sector</td>\n",
       "      <td>Grande</td>\n",
       "      <td>senior researcher</td>\n",
       "    </tr>\n",
       "    <tr>\n",
       "      <th>1</th>\n",
       "      <td>4.0</td>\n",
       "      <td>4.0</td>\n",
       "      <td>4.0</td>\n",
       "      <td>4.0</td>\n",
       "      <td>4.0</td>\n",
       "      <td>2.0</td>\n",
       "      <td>2.0</td>\n",
       "      <td>2.0</td>\n",
       "      <td>2.0</td>\n",
       "      <td>4.0</td>\n",
       "      <td>...</td>\n",
       "      <td>2.0</td>\n",
       "      <td>2.0</td>\n",
       "      <td>4.0</td>\n",
       "      <td>Brazil</td>\n",
       "      <td>1</td>\n",
       "      <td>4.0</td>\n",
       "      <td>Academia/Research Institution</td>\n",
       "      <td>Quinary Sector</td>\n",
       "      <td>Grande</td>\n",
       "      <td>Staff</td>\n",
       "    </tr>\n",
       "  </tbody>\n",
       "</table>\n",
       "<p>2 rows × 247 columns</p>\n",
       "</div>"
      ],
      "text/plain": [
       "   M1.1  M1.2  M1.3  M1.4  M1.5  M1.6  M1.7  M1.8  M1.9  M1.10  ...  M24.8  \\\n",
       "0   4.0   4.0   3.0   4.0   4.0   2.0   2.0   2.0   2.0    3.0  ...    2.0   \n",
       "1   4.0   4.0   4.0   4.0   4.0   2.0   2.0   2.0   2.0    4.0  ...    2.0   \n",
       "\n",
       "   M24.9  M24.10   Local  Do you act directly with the circular economy?  \\\n",
       "0    2.0     3.0      UK                                               1   \n",
       "1    2.0     4.0  Brazil                                               1   \n",
       "\n",
       "   Self knowledge about circular economy  What is your segment of acting?  \\\n",
       "0                                    4.0    Academia/Research Institution   \n",
       "1                                    4.0    Academia/Research Institution   \n",
       "\n",
       "   What sector does your organization operate in?  company_size  \\\n",
       "0                                  Quinary Sector        Grande   \n",
       "1                                  Quinary Sector        Grande   \n",
       "\n",
       "   How do you describe your position in your organization?  \n",
       "0                                  senior researcher        \n",
       "1                                             Staff         \n",
       "\n",
       "[2 rows x 247 columns]"
      ]
     },
     "execution_count": 5,
     "metadata": {},
     "output_type": "execute_result"
    }
   ],
   "source": [
    "df_academy.head(2)"
   ]
  },
  {
   "cell_type": "markdown",
   "id": "f579d06e-8348-4546-afdf-c6ad9c528e2f",
   "metadata": {},
   "source": [
    "### Separação - Medidas para Workers"
   ]
  },
  {
   "cell_type": "code",
   "execution_count": 6,
   "id": "0a716771-eb6c-4ff5-82a1-ae16c7c1b31c",
   "metadata": {
    "tags": []
   },
   "outputs": [],
   "source": [
    "import numpy as np\n",
    "lista = np.arange(0,24)"
   ]
  },
  {
   "cell_type": "code",
   "execution_count": 7,
   "id": "e3df8258-8ebd-4e97-8aff-a6cdc90fc740",
   "metadata": {
    "tags": []
   },
   "outputs": [
    {
     "data": {
      "text/plain": [
       "array([ 0,  1,  2,  3,  4,  5,  6,  7,  8,  9, 10, 11, 12, 13, 14, 15, 16,\n",
       "       17, 18, 19, 20, 21, 22, 23])"
      ]
     },
     "execution_count": 7,
     "metadata": {},
     "output_type": "execute_result"
    }
   ],
   "source": [
    "lista"
   ]
  },
  {
   "cell_type": "code",
   "execution_count": 8,
   "id": "aee31e4b-38ad-4bff-b52c-8fbb47cfe523",
   "metadata": {
    "tags": []
   },
   "outputs": [],
   "source": [
    "workers_medidas={}"
   ]
  },
  {
   "cell_type": "code",
   "execution_count": 9,
   "id": "28667a33-3da6-45f8-9460-9f433aa1099f",
   "metadata": {
    "tags": []
   },
   "outputs": [],
   "source": [
    "for i in lista:\n",
    "    workers_medidas[i]=pd.DataFrame()\n",
    "    \n",
    "for i in np.arange(0,24):\n",
    "    workers_medidas[i] = pd.DataFrame(df_workers.iloc[:,i*10:(i+1)*10])"
   ]
  },
  {
   "cell_type": "markdown",
   "id": "88a77df5-389d-406b-aa28-a655e4df2472",
   "metadata": {},
   "source": [
    "### Separação - Medidas para Academy"
   ]
  },
  {
   "cell_type": "code",
   "execution_count": 10,
   "id": "f369c73d-c4b2-4b29-8a45-2704ca606c83",
   "metadata": {
    "tags": []
   },
   "outputs": [],
   "source": [
    "academy_medidas = {}"
   ]
  },
  {
   "cell_type": "code",
   "execution_count": 11,
   "id": "9a909f36-b247-4632-978c-a8ebc0b59109",
   "metadata": {
    "tags": []
   },
   "outputs": [],
   "source": [
    "for i in lista:\n",
    "    academy_medidas[i]=pd.DataFrame()\n",
    "    \n",
    "for i in np.arange(0,24):\n",
    "    academy_medidas[i] = pd.DataFrame(df_academy.iloc[:,i*10:(i+1)*10])"
   ]
  },
  {
   "cell_type": "markdown",
   "id": "c9f33aef-0ca0-4379-ac90-34c212108cae",
   "metadata": {},
   "source": [
    "### Separação - Critérios para Workers"
   ]
  },
  {
   "cell_type": "code",
   "execution_count": 12,
   "id": "55659504-3dea-4fa7-b862-66d9c90424e7",
   "metadata": {},
   "outputs": [],
   "source": [
    "lista2 = np.arange(1,11)"
   ]
  },
  {
   "cell_type": "code",
   "execution_count": 13,
   "id": "2d0ffdbe-b190-4fa2-89ee-5701e9ac77d0",
   "metadata": {
    "tags": []
   },
   "outputs": [],
   "source": [
    "workers_criterios={}\n",
    "for i in lista2:\n",
    "    workers_criterios[i] = pd.DataFrame()"
   ]
  },
  {
   "cell_type": "code",
   "execution_count": 14,
   "id": "8e88af71-00bc-4f9b-b6f7-741529267174",
   "metadata": {
    "tags": []
   },
   "outputs": [],
   "source": [
    "for i in lista2:\n",
    "    workers_criterios[i]=df_workers.iloc[:,i-1:240:10]"
   ]
  },
  {
   "cell_type": "code",
   "execution_count": 15,
   "id": "5e0783cc-3c3f-4651-a711-47e237644c8a",
   "metadata": {
    "tags": []
   },
   "outputs": [
    {
     "data": {
      "text/html": [
       "<div>\n",
       "<style scoped>\n",
       "    .dataframe tbody tr th:only-of-type {\n",
       "        vertical-align: middle;\n",
       "    }\n",
       "\n",
       "    .dataframe tbody tr th {\n",
       "        vertical-align: top;\n",
       "    }\n",
       "\n",
       "    .dataframe thead th {\n",
       "        text-align: right;\n",
       "    }\n",
       "</style>\n",
       "<table border=\"1\" class=\"dataframe\">\n",
       "  <thead>\n",
       "    <tr style=\"text-align: right;\">\n",
       "      <th></th>\n",
       "      <th>M1.10</th>\n",
       "      <th>M2.10</th>\n",
       "      <th>M3.10</th>\n",
       "      <th>M4.10</th>\n",
       "      <th>M5.10</th>\n",
       "      <th>M6.10</th>\n",
       "      <th>M7.10</th>\n",
       "      <th>M8.10</th>\n",
       "      <th>M9.10</th>\n",
       "      <th>M10.10</th>\n",
       "      <th>...</th>\n",
       "      <th>M15.10</th>\n",
       "      <th>M16.10</th>\n",
       "      <th>M17.10</th>\n",
       "      <th>M18.10</th>\n",
       "      <th>M19.10</th>\n",
       "      <th>M20.10</th>\n",
       "      <th>M21.10</th>\n",
       "      <th>M22.10</th>\n",
       "      <th>M23.10</th>\n",
       "      <th>M24.10</th>\n",
       "    </tr>\n",
       "  </thead>\n",
       "  <tbody>\n",
       "    <tr>\n",
       "      <th>2</th>\n",
       "      <td>4.0</td>\n",
       "      <td>4.0</td>\n",
       "      <td>3.0</td>\n",
       "      <td>4.0</td>\n",
       "      <td>3.0</td>\n",
       "      <td>5.0</td>\n",
       "      <td>4.0</td>\n",
       "      <td>4.0</td>\n",
       "      <td>5.0</td>\n",
       "      <td>4.0</td>\n",
       "      <td>...</td>\n",
       "      <td>4.0</td>\n",
       "      <td>5.0</td>\n",
       "      <td>5.0</td>\n",
       "      <td>5.0</td>\n",
       "      <td>4.0</td>\n",
       "      <td>5.0</td>\n",
       "      <td>4.0</td>\n",
       "      <td>5.0</td>\n",
       "      <td>5.0</td>\n",
       "      <td>4.0</td>\n",
       "    </tr>\n",
       "    <tr>\n",
       "      <th>4</th>\n",
       "      <td>3.0</td>\n",
       "      <td>4.0</td>\n",
       "      <td>4.0</td>\n",
       "      <td>5.0</td>\n",
       "      <td>4.0</td>\n",
       "      <td>4.0</td>\n",
       "      <td>4.0</td>\n",
       "      <td>4.0</td>\n",
       "      <td>4.0</td>\n",
       "      <td>5.0</td>\n",
       "      <td>...</td>\n",
       "      <td>4.0</td>\n",
       "      <td>5.0</td>\n",
       "      <td>4.0</td>\n",
       "      <td>4.0</td>\n",
       "      <td>4.0</td>\n",
       "      <td>4.0</td>\n",
       "      <td>5.0</td>\n",
       "      <td>5.0</td>\n",
       "      <td>4.0</td>\n",
       "      <td>5.0</td>\n",
       "    </tr>\n",
       "    <tr>\n",
       "      <th>5</th>\n",
       "      <td>3.0</td>\n",
       "      <td>5.0</td>\n",
       "      <td>5.0</td>\n",
       "      <td>3.0</td>\n",
       "      <td>5.0</td>\n",
       "      <td>5.0</td>\n",
       "      <td>3.0</td>\n",
       "      <td>5.0</td>\n",
       "      <td>4.0</td>\n",
       "      <td>4.0</td>\n",
       "      <td>...</td>\n",
       "      <td>3.0</td>\n",
       "      <td>4.0</td>\n",
       "      <td>3.0</td>\n",
       "      <td>3.0</td>\n",
       "      <td>2.0</td>\n",
       "      <td>4.0</td>\n",
       "      <td>4.0</td>\n",
       "      <td>4.0</td>\n",
       "      <td>2.0</td>\n",
       "      <td>4.0</td>\n",
       "    </tr>\n",
       "    <tr>\n",
       "      <th>6</th>\n",
       "      <td>3.0</td>\n",
       "      <td>3.0</td>\n",
       "      <td>4.0</td>\n",
       "      <td>4.0</td>\n",
       "      <td>3.0</td>\n",
       "      <td>4.0</td>\n",
       "      <td>4.0</td>\n",
       "      <td>4.0</td>\n",
       "      <td>3.0</td>\n",
       "      <td>3.0</td>\n",
       "      <td>...</td>\n",
       "      <td>2.0</td>\n",
       "      <td>2.0</td>\n",
       "      <td>4.0</td>\n",
       "      <td>3.0</td>\n",
       "      <td>3.0</td>\n",
       "      <td>1.0</td>\n",
       "      <td>2.0</td>\n",
       "      <td>2.0</td>\n",
       "      <td>4.0</td>\n",
       "      <td>3.0</td>\n",
       "    </tr>\n",
       "    <tr>\n",
       "      <th>7</th>\n",
       "      <td>3.0</td>\n",
       "      <td>4.0</td>\n",
       "      <td>3.0</td>\n",
       "      <td>4.0</td>\n",
       "      <td>4.0</td>\n",
       "      <td>3.0</td>\n",
       "      <td>3.0</td>\n",
       "      <td>3.0</td>\n",
       "      <td>3.0</td>\n",
       "      <td>3.0</td>\n",
       "      <td>...</td>\n",
       "      <td>3.0</td>\n",
       "      <td>3.0</td>\n",
       "      <td>3.0</td>\n",
       "      <td>3.0</td>\n",
       "      <td>3.0</td>\n",
       "      <td>3.0</td>\n",
       "      <td>3.0</td>\n",
       "      <td>3.0</td>\n",
       "      <td>3.0</td>\n",
       "      <td>3.0</td>\n",
       "    </tr>\n",
       "  </tbody>\n",
       "</table>\n",
       "<p>5 rows × 24 columns</p>\n",
       "</div>"
      ],
      "text/plain": [
       "   M1.10  M2.10  M3.10  M4.10  M5.10  M6.10  M7.10  M8.10  M9.10  M10.10  ...  \\\n",
       "2    4.0    4.0    3.0    4.0    3.0    5.0    4.0    4.0    5.0     4.0  ...   \n",
       "4    3.0    4.0    4.0    5.0    4.0    4.0    4.0    4.0    4.0     5.0  ...   \n",
       "5    3.0    5.0    5.0    3.0    5.0    5.0    3.0    5.0    4.0     4.0  ...   \n",
       "6    3.0    3.0    4.0    4.0    3.0    4.0    4.0    4.0    3.0     3.0  ...   \n",
       "7    3.0    4.0    3.0    4.0    4.0    3.0    3.0    3.0    3.0     3.0  ...   \n",
       "\n",
       "   M15.10  M16.10  M17.10  M18.10  M19.10  M20.10  M21.10  M22.10  M23.10  \\\n",
       "2     4.0     5.0     5.0     5.0     4.0     5.0     4.0     5.0     5.0   \n",
       "4     4.0     5.0     4.0     4.0     4.0     4.0     5.0     5.0     4.0   \n",
       "5     3.0     4.0     3.0     3.0     2.0     4.0     4.0     4.0     2.0   \n",
       "6     2.0     2.0     4.0     3.0     3.0     1.0     2.0     2.0     4.0   \n",
       "7     3.0     3.0     3.0     3.0     3.0     3.0     3.0     3.0     3.0   \n",
       "\n",
       "   M24.10  \n",
       "2     4.0  \n",
       "4     5.0  \n",
       "5     4.0  \n",
       "6     3.0  \n",
       "7     3.0  \n",
       "\n",
       "[5 rows x 24 columns]"
      ]
     },
     "execution_count": 15,
     "metadata": {},
     "output_type": "execute_result"
    }
   ],
   "source": [
    "workers_criterios[10].head()"
   ]
  },
  {
   "cell_type": "markdown",
   "id": "dc50b699-823f-4a10-8c80-36b400b354d8",
   "metadata": {},
   "source": [
    "### Separação - Critérios para Academy"
   ]
  },
  {
   "cell_type": "code",
   "execution_count": 16,
   "id": "21e17166-d711-4e80-a0d0-fb2d49206db8",
   "metadata": {},
   "outputs": [],
   "source": [
    "lista2 = np.arange(1,11)"
   ]
  },
  {
   "cell_type": "code",
   "execution_count": 17,
   "id": "1a3e8824-8976-4e05-b7cd-e04f987a34ad",
   "metadata": {
    "tags": []
   },
   "outputs": [],
   "source": [
    "academy_criterios={}\n",
    "for i in lista2:\n",
    "    academy_criterios[i] = pd.DataFrame()"
   ]
  },
  {
   "cell_type": "code",
   "execution_count": 18,
   "id": "b544a7aa-06bb-4744-98f7-d30d9c3182dc",
   "metadata": {
    "tags": []
   },
   "outputs": [],
   "source": [
    "for i in lista2:\n",
    "    academy_criterios[i]=df_academy.iloc[:,i-1:240:10]"
   ]
  },
  {
   "cell_type": "code",
   "execution_count": 19,
   "id": "c0087b19-0769-450f-b37b-7abcc9b940e5",
   "metadata": {
    "tags": []
   },
   "outputs": [
    {
     "data": {
      "text/html": [
       "<div>\n",
       "<style scoped>\n",
       "    .dataframe tbody tr th:only-of-type {\n",
       "        vertical-align: middle;\n",
       "    }\n",
       "\n",
       "    .dataframe tbody tr th {\n",
       "        vertical-align: top;\n",
       "    }\n",
       "\n",
       "    .dataframe thead th {\n",
       "        text-align: right;\n",
       "    }\n",
       "</style>\n",
       "<table border=\"1\" class=\"dataframe\">\n",
       "  <thead>\n",
       "    <tr style=\"text-align: right;\">\n",
       "      <th></th>\n",
       "      <th>M1.10</th>\n",
       "      <th>M2.10</th>\n",
       "      <th>M3.10</th>\n",
       "      <th>M4.10</th>\n",
       "      <th>M5.10</th>\n",
       "      <th>M6.10</th>\n",
       "      <th>M7.10</th>\n",
       "      <th>M8.10</th>\n",
       "      <th>M9.10</th>\n",
       "      <th>M10.10</th>\n",
       "      <th>...</th>\n",
       "      <th>M15.10</th>\n",
       "      <th>M16.10</th>\n",
       "      <th>M17.10</th>\n",
       "      <th>M18.10</th>\n",
       "      <th>M19.10</th>\n",
       "      <th>M20.10</th>\n",
       "      <th>M21.10</th>\n",
       "      <th>M22.10</th>\n",
       "      <th>M23.10</th>\n",
       "      <th>M24.10</th>\n",
       "    </tr>\n",
       "  </thead>\n",
       "  <tbody>\n",
       "    <tr>\n",
       "      <th>0</th>\n",
       "      <td>3.0</td>\n",
       "      <td>3.0</td>\n",
       "      <td>4.0</td>\n",
       "      <td>3.0</td>\n",
       "      <td>3.0</td>\n",
       "      <td>4.0</td>\n",
       "      <td>3.0</td>\n",
       "      <td>3.0</td>\n",
       "      <td>3.0</td>\n",
       "      <td>3.0</td>\n",
       "      <td>...</td>\n",
       "      <td>3.0</td>\n",
       "      <td>3.0</td>\n",
       "      <td>3.0</td>\n",
       "      <td>3.0</td>\n",
       "      <td>3.0</td>\n",
       "      <td>3.0</td>\n",
       "      <td>3.0</td>\n",
       "      <td>3.0</td>\n",
       "      <td>3.0</td>\n",
       "      <td>3.0</td>\n",
       "    </tr>\n",
       "    <tr>\n",
       "      <th>1</th>\n",
       "      <td>4.0</td>\n",
       "      <td>4.0</td>\n",
       "      <td>4.0</td>\n",
       "      <td>4.0</td>\n",
       "      <td>4.0</td>\n",
       "      <td>4.0</td>\n",
       "      <td>4.0</td>\n",
       "      <td>4.0</td>\n",
       "      <td>4.0</td>\n",
       "      <td>4.0</td>\n",
       "      <td>...</td>\n",
       "      <td>4.0</td>\n",
       "      <td>4.0</td>\n",
       "      <td>4.0</td>\n",
       "      <td>4.0</td>\n",
       "      <td>4.0</td>\n",
       "      <td>4.0</td>\n",
       "      <td>4.0</td>\n",
       "      <td>4.0</td>\n",
       "      <td>4.0</td>\n",
       "      <td>4.0</td>\n",
       "    </tr>\n",
       "    <tr>\n",
       "      <th>3</th>\n",
       "      <td>4.0</td>\n",
       "      <td>4.0</td>\n",
       "      <td>5.0</td>\n",
       "      <td>5.0</td>\n",
       "      <td>4.0</td>\n",
       "      <td>4.0</td>\n",
       "      <td>2.0</td>\n",
       "      <td>2.0</td>\n",
       "      <td>4.0</td>\n",
       "      <td>4.0</td>\n",
       "      <td>...</td>\n",
       "      <td>3.0</td>\n",
       "      <td>2.0</td>\n",
       "      <td>2.0</td>\n",
       "      <td>4.0</td>\n",
       "      <td>4.0</td>\n",
       "      <td>4.0</td>\n",
       "      <td>5.0</td>\n",
       "      <td>4.0</td>\n",
       "      <td>2.0</td>\n",
       "      <td>4.0</td>\n",
       "    </tr>\n",
       "    <tr>\n",
       "      <th>8</th>\n",
       "      <td>5.0</td>\n",
       "      <td>5.0</td>\n",
       "      <td>5.0</td>\n",
       "      <td>5.0</td>\n",
       "      <td>5.0</td>\n",
       "      <td>3.0</td>\n",
       "      <td>5.0</td>\n",
       "      <td>5.0</td>\n",
       "      <td>5.0</td>\n",
       "      <td>5.0</td>\n",
       "      <td>...</td>\n",
       "      <td>5.0</td>\n",
       "      <td>5.0</td>\n",
       "      <td>5.0</td>\n",
       "      <td>5.0</td>\n",
       "      <td>5.0</td>\n",
       "      <td>5.0</td>\n",
       "      <td>5.0</td>\n",
       "      <td>5.0</td>\n",
       "      <td>5.0</td>\n",
       "      <td>5.0</td>\n",
       "    </tr>\n",
       "    <tr>\n",
       "      <th>9</th>\n",
       "      <td>3.0</td>\n",
       "      <td>4.0</td>\n",
       "      <td>5.0</td>\n",
       "      <td>4.0</td>\n",
       "      <td>4.0</td>\n",
       "      <td>4.0</td>\n",
       "      <td>3.0</td>\n",
       "      <td>4.0</td>\n",
       "      <td>5.0</td>\n",
       "      <td>4.0</td>\n",
       "      <td>...</td>\n",
       "      <td>4.0</td>\n",
       "      <td>5.0</td>\n",
       "      <td>5.0</td>\n",
       "      <td>4.0</td>\n",
       "      <td>5.0</td>\n",
       "      <td>5.0</td>\n",
       "      <td>5.0</td>\n",
       "      <td>5.0</td>\n",
       "      <td>5.0</td>\n",
       "      <td>5.0</td>\n",
       "    </tr>\n",
       "  </tbody>\n",
       "</table>\n",
       "<p>5 rows × 24 columns</p>\n",
       "</div>"
      ],
      "text/plain": [
       "   M1.10  M2.10  M3.10  M4.10  M5.10  M6.10  M7.10  M8.10  M9.10  M10.10  ...  \\\n",
       "0    3.0    3.0    4.0    3.0    3.0    4.0    3.0    3.0    3.0     3.0  ...   \n",
       "1    4.0    4.0    4.0    4.0    4.0    4.0    4.0    4.0    4.0     4.0  ...   \n",
       "3    4.0    4.0    5.0    5.0    4.0    4.0    2.0    2.0    4.0     4.0  ...   \n",
       "8    5.0    5.0    5.0    5.0    5.0    3.0    5.0    5.0    5.0     5.0  ...   \n",
       "9    3.0    4.0    5.0    4.0    4.0    4.0    3.0    4.0    5.0     4.0  ...   \n",
       "\n",
       "   M15.10  M16.10  M17.10  M18.10  M19.10  M20.10  M21.10  M22.10  M23.10  \\\n",
       "0     3.0     3.0     3.0     3.0     3.0     3.0     3.0     3.0     3.0   \n",
       "1     4.0     4.0     4.0     4.0     4.0     4.0     4.0     4.0     4.0   \n",
       "3     3.0     2.0     2.0     4.0     4.0     4.0     5.0     4.0     2.0   \n",
       "8     5.0     5.0     5.0     5.0     5.0     5.0     5.0     5.0     5.0   \n",
       "9     4.0     5.0     5.0     4.0     5.0     5.0     5.0     5.0     5.0   \n",
       "\n",
       "   M24.10  \n",
       "0     3.0  \n",
       "1     4.0  \n",
       "3     4.0  \n",
       "8     5.0  \n",
       "9     5.0  \n",
       "\n",
       "[5 rows x 24 columns]"
      ]
     },
     "execution_count": 19,
     "metadata": {},
     "output_type": "execute_result"
    }
   ],
   "source": [
    "academy_criterios[10].head()"
   ]
  },
  {
   "cell_type": "markdown",
   "id": "be4d5e4e-772e-4aeb-b16a-04a6be4b147d",
   "metadata": {
    "tags": []
   },
   "source": [
    "### Testando normalidade"
   ]
  },
  {
   "cell_type": "code",
   "execution_count": 20,
   "id": "979cdfd4-ab96-4e49-afc0-e60e5ddfcfbb",
   "metadata": {
    "tags": []
   },
   "outputs": [],
   "source": [
    "from scipy import stats"
   ]
  },
  {
   "cell_type": "code",
   "execution_count": 21,
   "id": "adca9343-9fbb-44a7-96d3-5d8161da9954",
   "metadata": {
    "tags": []
   },
   "outputs": [],
   "source": [
    "for coluna in df:\n",
    "    df[coluna].fillna(df[coluna].mode()[0],inplace=True)"
   ]
  },
  {
   "cell_type": "code",
   "execution_count": 22,
   "id": "bb054c8b-f36f-49e6-83a8-b2a80554c53c",
   "metadata": {
    "tags": []
   },
   "outputs": [],
   "source": [
    "for coluna in df.iloc[:,:-7]:\n",
    "    df[coluna] = df[coluna].astype(int)"
   ]
  },
  {
   "cell_type": "code",
   "execution_count": 23,
   "id": "4d188046-69ea-4489-83b6-251721d94dca",
   "metadata": {
    "tags": []
   },
   "outputs": [
    {
     "data": {
      "text/plain": [
       "array([4, 4, 3, ..., 2, 2, 5])"
      ]
     },
     "execution_count": 23,
     "metadata": {},
     "output_type": "execute_result"
    }
   ],
   "source": [
    "df.iloc[:,:-7].values.reshape(-1)"
   ]
  },
  {
   "cell_type": "code",
   "execution_count": 24,
   "id": "024653a3-bbe0-4292-8c40-a5cf219e68c1",
   "metadata": {
    "tags": []
   },
   "outputs": [],
   "source": [
    "x=df.iloc[:,:-7].values.reshape(-1)"
   ]
  },
  {
   "cell_type": "code",
   "execution_count": 25,
   "id": "20304ae2-cb5c-4d89-b1ca-904fb31b8d92",
   "metadata": {
    "tags": []
   },
   "outputs": [
    {
     "name": "stderr",
     "output_type": "stream",
     "text": [
      "C:\\Users\\ednae\\miniconda3\\envs\\msc\\Lib\\site-packages\\scipy\\stats\\_morestats.py:1816: UserWarning: p-value may not be accurate for N > 5000.\n",
      "  warnings.warn(\"p-value may not be accurate for N > 5000.\")\n"
     ]
    },
    {
     "data": {
      "text/plain": [
       "0.9095255732536316"
      ]
     },
     "execution_count": 25,
     "metadata": {},
     "output_type": "execute_result"
    }
   ],
   "source": [
    "stats.shapiro(x).statistic"
   ]
  },
  {
   "cell_type": "markdown",
   "id": "5b2f42c5-273f-4ac9-a61b-724d5115e6dd",
   "metadata": {},
   "source": [
    "Os dados não seguem uma normal"
   ]
  },
  {
   "cell_type": "code",
   "execution_count": 26,
   "id": "7e3f5174-3cb2-44e4-b99c-ed4ac186bc31",
   "metadata": {
    "tags": []
   },
   "outputs": [
    {
     "data": {
      "text/plain": [
       "(array([ 8432.,     0., 18026.,     0.,     0., 21075.,     0., 22180.,\n",
       "            0., 14767.]),\n",
       " array([1. , 1.4, 1.8, 2.2, 2.6, 3. , 3.4, 3.8, 4.2, 4.6, 5. ]),\n",
       " <BarContainer object of 10 artists>)"
      ]
     },
     "execution_count": 26,
     "metadata": {},
     "output_type": "execute_result"
    },
    {
     "data": {
      "image/png": "[encoded data removed]",
      "text/plain": [
       "<Figure size 640x480 with 1 Axes>"
      ]
     },
     "metadata": {},
     "output_type": "display_data"
    }
   ],
   "source": [
    "plt.hist(x)"
   ]
  },
  {
   "cell_type": "markdown",
   "id": "c0a6a0d8-e9cc-4cea-bb94-87ff0a21c5ec",
   "metadata": {
    "tags": []
   },
   "source": [
    "## Testes Pareados\n",
    "\n",
    "- Para análise entre diferentes medidas para mesmos respondentes\n",
    "\n",
    "1. Quais medidas possuem maiores medianas?"
   ]
  },
  {
   "cell_type": "code",
   "execution_count": 27,
   "id": "b18aaa6d-03bf-4280-8b23-25598f9bb133",
   "metadata": {
    "tags": []
   },
   "outputs": [],
   "source": [
    "academy_medidas_medianas = pd.DataFrame()\n",
    "\n",
    "cont=1\n",
    "for i in academy_medidas:\n",
    "    academy_medidas_medianas[cont] = academy_medidas[i].median(axis=1)\n",
    "    cont+=1\n",
    "\n",
    "##########\n",
    "\n",
    "workers_medidas_medianas = pd.DataFrame()\n",
    "\n",
    "cont=1\n",
    "for i in workers_medidas:\n",
    "    workers_medidas_medianas[cont] = workers_medidas[i].median(axis=1)\n",
    "    cont+=1"
   ]
  },
  {
   "cell_type": "code",
   "execution_count": 28,
   "id": "3e554a21-64ec-476f-9120-466ea64876d1",
   "metadata": {
    "tags": []
   },
   "outputs": [
    {
     "data": {
      "text/html": [
       "<div>\n",
       "<style scoped>\n",
       "    .dataframe tbody tr th:only-of-type {\n",
       "        vertical-align: middle;\n",
       "    }\n",
       "\n",
       "    .dataframe tbody tr th {\n",
       "        vertical-align: top;\n",
       "    }\n",
       "\n",
       "    .dataframe thead th {\n",
       "        text-align: right;\n",
       "    }\n",
       "</style>\n",
       "<table border=\"1\" class=\"dataframe\">\n",
       "  <thead>\n",
       "    <tr style=\"text-align: right;\">\n",
       "      <th></th>\n",
       "      <th>1</th>\n",
       "      <th>2</th>\n",
       "      <th>3</th>\n",
       "      <th>4</th>\n",
       "      <th>5</th>\n",
       "      <th>6</th>\n",
       "      <th>7</th>\n",
       "      <th>8</th>\n",
       "      <th>9</th>\n",
       "      <th>10</th>\n",
       "      <th>...</th>\n",
       "      <th>15</th>\n",
       "      <th>16</th>\n",
       "      <th>17</th>\n",
       "      <th>18</th>\n",
       "      <th>19</th>\n",
       "      <th>20</th>\n",
       "      <th>21</th>\n",
       "      <th>22</th>\n",
       "      <th>23</th>\n",
       "      <th>24</th>\n",
       "    </tr>\n",
       "  </thead>\n",
       "  <tbody>\n",
       "    <tr>\n",
       "      <th>2</th>\n",
       "      <td>4.0</td>\n",
       "      <td>4.0</td>\n",
       "      <td>3.0</td>\n",
       "      <td>4.0</td>\n",
       "      <td>3.0</td>\n",
       "      <td>5.0</td>\n",
       "      <td>4.5</td>\n",
       "      <td>4.0</td>\n",
       "      <td>4.5</td>\n",
       "      <td>3.0</td>\n",
       "      <td>...</td>\n",
       "      <td>4.0</td>\n",
       "      <td>4.0</td>\n",
       "      <td>4.5</td>\n",
       "      <td>5.0</td>\n",
       "      <td>4.5</td>\n",
       "      <td>3.5</td>\n",
       "      <td>4.0</td>\n",
       "      <td>5.0</td>\n",
       "      <td>5.0</td>\n",
       "      <td>4.0</td>\n",
       "    </tr>\n",
       "    <tr>\n",
       "      <th>4</th>\n",
       "      <td>3.0</td>\n",
       "      <td>3.0</td>\n",
       "      <td>3.0</td>\n",
       "      <td>4.5</td>\n",
       "      <td>2.5</td>\n",
       "      <td>2.0</td>\n",
       "      <td>3.0</td>\n",
       "      <td>3.0</td>\n",
       "      <td>3.0</td>\n",
       "      <td>2.0</td>\n",
       "      <td>...</td>\n",
       "      <td>3.5</td>\n",
       "      <td>4.0</td>\n",
       "      <td>4.0</td>\n",
       "      <td>3.0</td>\n",
       "      <td>3.0</td>\n",
       "      <td>3.5</td>\n",
       "      <td>3.0</td>\n",
       "      <td>3.0</td>\n",
       "      <td>3.0</td>\n",
       "      <td>3.0</td>\n",
       "    </tr>\n",
       "  </tbody>\n",
       "</table>\n",
       "<p>2 rows × 24 columns</p>\n",
       "</div>"
      ],
      "text/plain": [
       "    1    2    3    4    5    6    7    8    9    10  ...   15   16   17   18  \\\n",
       "2  4.0  4.0  3.0  4.0  3.0  5.0  4.5  4.0  4.5  3.0  ...  4.0  4.0  4.5  5.0   \n",
       "4  3.0  3.0  3.0  4.5  2.5  2.0  3.0  3.0  3.0  2.0  ...  3.5  4.0  4.0  3.0   \n",
       "\n",
       "    19   20   21   22   23   24  \n",
       "2  4.5  3.5  4.0  5.0  5.0  4.0  \n",
       "4  3.0  3.5  3.0  3.0  3.0  3.0  \n",
       "\n",
       "[2 rows x 24 columns]"
      ]
     },
     "execution_count": 28,
     "metadata": {},
     "output_type": "execute_result"
    }
   ],
   "source": [
    "workers_medidas_medianas.head(2)"
   ]
  },
  {
   "cell_type": "code",
   "execution_count": 200,
   "id": "116116a8-a69d-42f1-b54f-0dd326067a0b",
   "metadata": {
    "tags": []
   },
   "outputs": [
    {
     "data": {
      "text/html": [
       "<div>\n",
       "<style scoped>\n",
       "    .dataframe tbody tr th:only-of-type {\n",
       "        vertical-align: middle;\n",
       "    }\n",
       "\n",
       "    .dataframe tbody tr th {\n",
       "        vertical-align: top;\n",
       "    }\n",
       "\n",
       "    .dataframe thead th {\n",
       "        text-align: right;\n",
       "    }\n",
       "</style>\n",
       "<table border=\"1\" class=\"dataframe\">\n",
       "  <thead>\n",
       "    <tr style=\"text-align: right;\">\n",
       "      <th></th>\n",
       "      <th>1</th>\n",
       "      <th>2</th>\n",
       "      <th>3</th>\n",
       "      <th>4</th>\n",
       "      <th>5</th>\n",
       "      <th>6</th>\n",
       "      <th>7</th>\n",
       "      <th>8</th>\n",
       "      <th>9</th>\n",
       "      <th>10</th>\n",
       "      <th>...</th>\n",
       "      <th>15</th>\n",
       "      <th>16</th>\n",
       "      <th>17</th>\n",
       "      <th>18</th>\n",
       "      <th>19</th>\n",
       "      <th>20</th>\n",
       "      <th>21</th>\n",
       "      <th>22</th>\n",
       "      <th>23</th>\n",
       "      <th>24</th>\n",
       "    </tr>\n",
       "  </thead>\n",
       "  <tbody>\n",
       "    <tr>\n",
       "      <th>0</th>\n",
       "      <td>3.0</td>\n",
       "      <td>3.5</td>\n",
       "      <td>3.0</td>\n",
       "      <td>3.0</td>\n",
       "      <td>3.0</td>\n",
       "      <td>3.0</td>\n",
       "      <td>3.0</td>\n",
       "      <td>3.0</td>\n",
       "      <td>3.0</td>\n",
       "      <td>3.5</td>\n",
       "      <td>...</td>\n",
       "      <td>3.0</td>\n",
       "      <td>3.0</td>\n",
       "      <td>3.0</td>\n",
       "      <td>3.0</td>\n",
       "      <td>3.0</td>\n",
       "      <td>3.0</td>\n",
       "      <td>3.0</td>\n",
       "      <td>3.0</td>\n",
       "      <td>3.0</td>\n",
       "      <td>3.5</td>\n",
       "    </tr>\n",
       "    <tr>\n",
       "      <th>1</th>\n",
       "      <td>4.0</td>\n",
       "      <td>4.0</td>\n",
       "      <td>4.0</td>\n",
       "      <td>4.0</td>\n",
       "      <td>4.0</td>\n",
       "      <td>4.0</td>\n",
       "      <td>4.0</td>\n",
       "      <td>4.0</td>\n",
       "      <td>4.0</td>\n",
       "      <td>4.0</td>\n",
       "      <td>...</td>\n",
       "      <td>4.0</td>\n",
       "      <td>4.0</td>\n",
       "      <td>4.0</td>\n",
       "      <td>4.0</td>\n",
       "      <td>4.0</td>\n",
       "      <td>4.0</td>\n",
       "      <td>4.0</td>\n",
       "      <td>4.0</td>\n",
       "      <td>4.0</td>\n",
       "      <td>4.0</td>\n",
       "    </tr>\n",
       "  </tbody>\n",
       "</table>\n",
       "<p>2 rows × 24 columns</p>\n",
       "</div>"
      ],
      "text/plain": [
       "    1    2    3    4    5    6    7    8    9    10  ...   15   16   17   18  \\\n",
       "0  3.0  3.5  3.0  3.0  3.0  3.0  3.0  3.0  3.0  3.5  ...  3.0  3.0  3.0  3.0   \n",
       "1  4.0  4.0  4.0  4.0  4.0  4.0  4.0  4.0  4.0  4.0  ...  4.0  4.0  4.0  4.0   \n",
       "\n",
       "    19   20   21   22   23   24  \n",
       "0  3.0  3.0  3.0  3.0  3.0  3.5  \n",
       "1  4.0  4.0  4.0  4.0  4.0  4.0  \n",
       "\n",
       "[2 rows x 24 columns]"
      ]
     },
     "execution_count": 200,
     "metadata": {},
     "output_type": "execute_result"
    }
   ],
   "source": [
    "academy_medidas_medianas.head(2)"
   ]
  },
  {
   "cell_type": "markdown",
   "id": "888fd5a2-de71-480d-bcf1-cfead4fd9c9a",
   "metadata": {
    "tags": []
   },
   "source": [
    "### Academy_wilcox"
   ]
  },
  {
   "cell_type": "code",
   "execution_count": 156,
   "id": "6917b066-0d08-48a1-be99-732da4a966a8",
   "metadata": {
    "tags": []
   },
   "outputs": [],
   "source": [
    "from scipy.stats import wilcoxon\n",
    "res = wilcoxon(academy_medidas_medianas[1].values,y=academy_medidas_medianas[2].values,alternative='greater')"
   ]
  },
  {
   "cell_type": "code",
   "execution_count": 157,
   "id": "5e34fdad-6cf0-4432-b509-9887ce8ae37e",
   "metadata": {
    "tags": []
   },
   "outputs": [
    {
     "data": {
      "text/plain": [
       "0.9980880052855329"
      ]
     },
     "execution_count": 157,
     "metadata": {},
     "output_type": "execute_result"
    }
   ],
   "source": [
    "res[1]"
   ]
  },
  {
   "cell_type": "code",
   "execution_count": 167,
   "id": "68e4bec2-ded9-4e25-b30a-e9ca5f0ee251",
   "metadata": {
    "tags": []
   },
   "outputs": [
    {
     "data": {
      "text/plain": [
       "(24, 24)"
      ]
     },
     "execution_count": 167,
     "metadata": {},
     "output_type": "execute_result"
    }
   ],
   "source": [
    "np.zeros((24,24)).shape"
   ]
  },
  {
   "cell_type": "markdown",
   "id": "feaa9417-4bb1-4d5c-a66e-6a8e40d8bdd4",
   "metadata": {},
   "source": [
    "Hipóteses para o teste pareado de Wilcox\n",
    "- `Ho: mediana_linha <= mediana_coluna`\n",
    "- `H1: mediana_coluna > mediana_linha`"
   ]
  },
  {
   "cell_type": "code",
   "execution_count": 168,
   "id": "486908c4-7b80-4428-97cf-0f65d3cb5ac5",
   "metadata": {
    "tags": []
   },
   "outputs": [],
   "source": [
    "academy_wilcox = pd.DataFrame(np.zeros((24,24)))"
   ]
  },
  {
   "cell_type": "code",
   "execution_count": 169,
   "id": "52533e1f-657f-43fb-9982-efd7b2e409ea",
   "metadata": {
    "tags": []
   },
   "outputs": [],
   "source": [
    "linha = 0\n",
    "for coluna in np.arange(1,25):\n",
    "    for linha in np.arange(1,25):\n",
    "        if (linha!=coluna):\n",
    "            academy_wilcox.loc[linha-1,coluna-1] = wilcoxon(academy_medidas_medianas[linha].values,y=academy_medidas_medianas[coluna].values,alternative='greater')[1]\n",
    "        else:\n",
    "            academy_wilcox.loc[linha,coluna] = 1"
   ]
  },
  {
   "cell_type": "code",
   "execution_count": 171,
   "id": "61445a97-f690-43e6-9334-e2f922bfdab1",
   "metadata": {
    "tags": []
   },
   "outputs": [],
   "source": [
    "academy_wilcox = academy_wilcox.iloc[:-1,:-1]"
   ]
  },
  {
   "cell_type": "code",
   "execution_count": 199,
   "id": "90802cb3-0db9-46e0-8bda-4ac91658ac95",
   "metadata": {
    "tags": []
   },
   "outputs": [
    {
     "data": {
      "image/png": "[encoded data removed]",
      "text/plain": [
       "<Figure size 1200x1200 with 2 Axes>"
      ]
     },
     "metadata": {},
     "output_type": "display_data"
    }
   ],
   "source": [
    "plt.figure(figsize=(12,12))\n",
    "sns.heatmap(academy_wilcox, cmap='hot', annot=True, fmt=\".2f\")\n",
    "sns.set(font_scale=.7)"
   ]
  },
  {
   "cell_type": "markdown",
   "id": "da0490a8-a5a6-4cd8-b0ce-838f29a2563f",
   "metadata": {},
   "source": [
    "`Pelo heatmap podemos perceber que a alternativa 22, domina todas as demais, pois para o teste de Wilcox, aceitamos H1, de que a mediana das suas avaliações é superior a todas as demais alternativas`"
   ]
  },
  {
   "cell_type": "code",
   "execution_count": null,
   "id": "0d616fc6-b30d-48fa-828b-495996fa4fad",
   "metadata": {},
   "outputs": [],
   "source": []
  },
  {
   "cell_type": "markdown",
   "id": "5104410d-394a-4921-9a29-a772f40315b6",
   "metadata": {
    "tags": []
   },
   "source": [
    "### Workes_wilcox"
   ]
  },
  {
   "cell_type": "markdown",
   "id": "6174250a-7673-4a6c-a893-1ddd8bd52df3",
   "metadata": {},
   "source": [
    "Hipóteses para o teste pareado de Wilcox\n",
    "- `Ho: mediana_linha <= mediana_coluna`\n",
    "- `H1: mediana_coluna > mediana_linha`"
   ]
  },
  {
   "cell_type": "code",
   "execution_count": 202,
   "id": "d4f58401-0ea6-40d5-9a38-1d94050e4db8",
   "metadata": {
    "tags": []
   },
   "outputs": [],
   "source": [
    "workers_wilcox = pd.DataFrame(np.zeros((24,24)))"
   ]
  },
  {
   "cell_type": "code",
   "execution_count": 203,
   "id": "42a49cad-80d4-4407-b2c5-0a30289a70b2",
   "metadata": {
    "tags": []
   },
   "outputs": [],
   "source": [
    "linha = 0\n",
    "for coluna in np.arange(1,25):\n",
    "    for linha in np.arange(1,25):\n",
    "        if (linha!=coluna):\n",
    "            workers_wilcox.loc[linha-1,coluna-1] = wilcoxon(workers_medidas_medianas[linha].values,y=workers_medidas_medianas[coluna].values,alternative='greater')[1]\n",
    "        else:\n",
    "            workers_wilcox.loc[linha,coluna] = 1"
   ]
  },
  {
   "cell_type": "code",
   "execution_count": 215,
   "id": "2ad751b5-cbcd-48c6-a0f8-89558adc7307",
   "metadata": {
    "tags": []
   },
   "outputs": [
    {
     "data": {
      "text/plain": [
       "WilcoxonResult(statistic=nan, pvalue=nan)"
      ]
     },
     "execution_count": 215,
     "metadata": {},
     "output_type": "execute_result"
    }
   ],
   "source": [
    "wilcoxon(workers_medidas_medianas[1],y=workers_medidas_medianas[1])"
   ]
  },
  {
   "cell_type": "code",
   "execution_count": 205,
   "id": "71e3f98e-2a7b-40f6-a805-8bee7feab1ba",
   "metadata": {
    "tags": []
   },
   "outputs": [
    {
     "data": {
      "image/png": "[encoded data removed]",
      "text/plain": [
       "<Figure size 1200x1200 with 2 Axes>"
      ]
     },
     "metadata": {},
     "output_type": "display_data"
    }
   ],
   "source": [
    "plt.figure(figsize=(12,12))\n",
    "sns.heatmap(academy_wilcox, cmap='hot', annot=True, fmt=\".2f\")\n",
    "sns.set(font_scale=.7)"
   ]
  },
  {
   "cell_type": "markdown",
   "id": "c3fe911c-65fa-4b21-ae5d-0fdf86deba1c",
   "metadata": {},
   "source": [
    "`Pelo heatmap podemos perceber que a alternativa 22, domina todas as demais, pois para o teste de Wilcox, aceitamos H1, de que a mediana das suas avaliações é superior a todas as demais alternativas`"
   ]
  },
  {
   "cell_type": "markdown",
   "id": "a7bc5f95-f4a4-41fb-82a9-af8d3a70eb33",
   "metadata": {},
   "source": [
    "## Testes não pareados - Para grupos distintos\n",
    "\n",
    "- Academics vs Professionals"
   ]
  },
  {
   "cell_type": "code",
   "execution_count": null,
   "id": "2b86861c-e3a8-4cca-9f1b-23cb58027212",
   "metadata": {
    "tags": []
   },
   "outputs": [],
   "source": []
  },
  {
   "cell_type": "markdown",
   "id": "d8537e98-92c3-40dd-b2b8-168c4fd058b5",
   "metadata": {},
   "source": [
    "### Radarcharts"
   ]
  },
  {
   "cell_type": "code",
   "execution_count": 22,
   "id": "259f6a88-8e84-4d3a-903b-a9c3e7f621e6",
   "metadata": {
    "tags": []
   },
   "outputs": [
    {
     "data": {
      "text/plain": [
       "M1.2     4.0\n",
       "M2.2     4.0\n",
       "M3.2     4.0\n",
       "M4.2     4.0\n",
       "M5.2     4.0\n",
       "M6.2     4.0\n",
       "M7.2     4.0\n",
       "M8.2     4.0\n",
       "M9.2     4.0\n",
       "M10.2    4.0\n",
       "M11.2    4.0\n",
       "M12.2    4.0\n",
       "M13.2    4.0\n",
       "M14.2    4.0\n",
       "M15.2    4.0\n",
       "M16.2    4.0\n",
       "M17.2    4.0\n",
       "M18.2    4.0\n",
       "M19.2    4.0\n",
       "M20.2    4.0\n",
       "M21.2    4.0\n",
       "M22.2    4.0\n",
       "M23.2    4.0\n",
       "M24.2    4.0\n",
       "dtype: float64"
      ]
     },
     "execution_count": 22,
     "metadata": {},
     "output_type": "execute_result"
    }
   ],
   "source": [
    "academy_criterios[2].median()"
   ]
  },
  {
   "cell_type": "code",
   "execution_count": null,
   "id": "bda7cbdb-5f75-4825-848f-5cc8bca9778b",
   "metadata": {},
   "outputs": [],
   "source": []
  }
 ],
 "metadata": {
  "kernelspec": {
   "display_name": "Python 3 (ipykernel)",
   "language": "python",
   "name": "python3"
  },
  "language_info": {
   "codemirror_mode": {
    "name": "ipython",
    "version": 3
   },
   "file_extension": ".py",
   "mimetype": "text/x-python",
   "name": "python",
   "nbconvert_exporter": "python",
   "pygments_lexer": "ipython3",
   "version": "3.11.0"
  }
 },
 "nbformat": 4,
 "nbformat_minor": 5
}
