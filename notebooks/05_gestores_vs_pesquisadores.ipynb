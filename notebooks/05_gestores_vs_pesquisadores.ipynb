{
 "cells": [
  {
   "cell_type": "code",
   "execution_count": 1,
   "id": "8f2b78b2-394c-419a-a2c2-27d515310d47",
   "metadata": {
    "tags": []
   },
   "outputs": [],
   "source": [
    "import pandas as pd"
   ]
  },
  {
   "cell_type": "code",
   "execution_count": 2,
   "id": "d7616456-8431-41b2-9e1d-0ab375e48d60",
   "metadata": {
    "tags": []
   },
   "outputs": [],
   "source": [
    "df = pd.read_csv('dados_gerais_04_11_2023.csv',index_col=[0])"
   ]
  },
  {
   "cell_type": "markdown",
   "id": "b4dc9f77-a3a0-43fd-b71f-ed9fb541dcda",
   "metadata": {},
   "source": [
    "# RoadMap\n",
    "\n",
    "- Segmentação dos dados\n",
    "    - 1. Recorte do dataset original para pesquisadores e não trabalhadores [Por medida]\n",
    "    - 2. Recorte das avaliações de cada grupo [Por medida]\n",
    "    - 3. Recorte do dataset original para pesquisadores e não trabalhadores [Por critérios]\n",
    "    - 4. Recorte das avaliações de cada grupo [Por critérios]    \n",
    "- Criação de Radarcharts para:\n",
    "    - Avaliação pela soma\n",
    "    - Avaliação pela proporção de 4's e 5's\n",
    "    - Avaliação pela agregação dos critérios nos 4 subgrupos"
   ]
  },
  {
   "cell_type": "code",
   "execution_count": 3,
   "id": "7761ad59-67d9-4955-8219-952ed546e721",
   "metadata": {
    "tags": []
   },
   "outputs": [],
   "source": [
    "df_workers = df[df['What is your segment of acting?']!='Academia/Research Institution']"
   ]
  },
  {
   "cell_type": "code",
   "execution_count": 4,
   "id": "4fe746b9-8513-4538-a3c0-2e975744f60f",
   "metadata": {
    "tags": []
   },
   "outputs": [],
   "source": [
    "df_academy = df[df['What is your segment of acting?']=='Academia/Research Institution']"
   ]
  },
  {
   "cell_type": "code",
   "execution_count": 5,
   "id": "5579e2e3-fe0c-4ce2-932c-861550130309",
   "metadata": {
    "tags": []
   },
   "outputs": [
    {
     "data": {
      "text/html": [
       "<div>\n",
       "<style scoped>\n",
       "    .dataframe tbody tr th:only-of-type {\n",
       "        vertical-align: middle;\n",
       "    }\n",
       "\n",
       "    .dataframe tbody tr th {\n",
       "        vertical-align: top;\n",
       "    }\n",
       "\n",
       "    .dataframe thead th {\n",
       "        text-align: right;\n",
       "    }\n",
       "</style>\n",
       "<table border=\"1\" class=\"dataframe\">\n",
       "  <thead>\n",
       "    <tr style=\"text-align: right;\">\n",
       "      <th></th>\n",
       "      <th>M1.1</th>\n",
       "      <th>M1.2</th>\n",
       "      <th>M1.3</th>\n",
       "      <th>M1.4</th>\n",
       "      <th>M1.5</th>\n",
       "      <th>M1.6</th>\n",
       "      <th>M1.7</th>\n",
       "      <th>M1.8</th>\n",
       "      <th>M1.9</th>\n",
       "      <th>M1.10</th>\n",
       "      <th>...</th>\n",
       "      <th>M24.8</th>\n",
       "      <th>M24.9</th>\n",
       "      <th>M24.10</th>\n",
       "      <th>Local</th>\n",
       "      <th>Do you act directly with the circular economy?</th>\n",
       "      <th>Self knowledge about circular economy</th>\n",
       "      <th>What is your segment of acting?</th>\n",
       "      <th>What sector does your organization operate in?</th>\n",
       "      <th>company_size</th>\n",
       "      <th>How do you describe your position in your organization?</th>\n",
       "    </tr>\n",
       "  </thead>\n",
       "  <tbody>\n",
       "    <tr>\n",
       "      <th>0</th>\n",
       "      <td>4.0</td>\n",
       "      <td>4.0</td>\n",
       "      <td>3.0</td>\n",
       "      <td>4.0</td>\n",
       "      <td>4.0</td>\n",
       "      <td>2.0</td>\n",
       "      <td>2.0</td>\n",
       "      <td>2.0</td>\n",
       "      <td>2.0</td>\n",
       "      <td>3.0</td>\n",
       "      <td>...</td>\n",
       "      <td>2.0</td>\n",
       "      <td>2.0</td>\n",
       "      <td>3.0</td>\n",
       "      <td>UK</td>\n",
       "      <td>1</td>\n",
       "      <td>4.0</td>\n",
       "      <td>Academia/Research Institution</td>\n",
       "      <td>Quinary Sector</td>\n",
       "      <td>Grande</td>\n",
       "      <td>senior researcher</td>\n",
       "    </tr>\n",
       "    <tr>\n",
       "      <th>1</th>\n",
       "      <td>4.0</td>\n",
       "      <td>4.0</td>\n",
       "      <td>4.0</td>\n",
       "      <td>4.0</td>\n",
       "      <td>4.0</td>\n",
       "      <td>2.0</td>\n",
       "      <td>2.0</td>\n",
       "      <td>2.0</td>\n",
       "      <td>2.0</td>\n",
       "      <td>4.0</td>\n",
       "      <td>...</td>\n",
       "      <td>2.0</td>\n",
       "      <td>2.0</td>\n",
       "      <td>4.0</td>\n",
       "      <td>Brazil</td>\n",
       "      <td>1</td>\n",
       "      <td>4.0</td>\n",
       "      <td>Academia/Research Institution</td>\n",
       "      <td>Quinary Sector</td>\n",
       "      <td>Grande</td>\n",
       "      <td>Staff</td>\n",
       "    </tr>\n",
       "  </tbody>\n",
       "</table>\n",
       "<p>2 rows × 247 columns</p>\n",
       "</div>"
      ],
      "text/plain": [
       "   M1.1  M1.2  M1.3  M1.4  M1.5  M1.6  M1.7  M1.8  M1.9  M1.10  ...  M24.8  \\\n",
       "0   4.0   4.0   3.0   4.0   4.0   2.0   2.0   2.0   2.0    3.0  ...    2.0   \n",
       "1   4.0   4.0   4.0   4.0   4.0   2.0   2.0   2.0   2.0    4.0  ...    2.0   \n",
       "\n",
       "   M24.9  M24.10   Local  Do you act directly with the circular economy?  \\\n",
       "0    2.0     3.0      UK                                               1   \n",
       "1    2.0     4.0  Brazil                                               1   \n",
       "\n",
       "   Self knowledge about circular economy  What is your segment of acting?  \\\n",
       "0                                    4.0    Academia/Research Institution   \n",
       "1                                    4.0    Academia/Research Institution   \n",
       "\n",
       "   What sector does your organization operate in?  company_size  \\\n",
       "0                                  Quinary Sector        Grande   \n",
       "1                                  Quinary Sector        Grande   \n",
       "\n",
       "   How do you describe your position in your organization?  \n",
       "0                                  senior researcher        \n",
       "1                                             Staff         \n",
       "\n",
       "[2 rows x 247 columns]"
      ]
     },
     "execution_count": 5,
     "metadata": {},
     "output_type": "execute_result"
    }
   ],
   "source": [
    "df_academy.head(2)"
   ]
  },
  {
   "cell_type": "markdown",
   "id": "f579d06e-8348-4546-afdf-c6ad9c528e2f",
   "metadata": {},
   "source": [
    "### Separação - Medidas para Workers"
   ]
  },
  {
   "cell_type": "code",
   "execution_count": 6,
   "id": "0a716771-eb6c-4ff5-82a1-ae16c7c1b31c",
   "metadata": {
    "tags": []
   },
   "outputs": [],
   "source": [
    "import numpy as np\n",
    "lista = np.arange(0,24)"
   ]
  },
  {
   "cell_type": "code",
   "execution_count": 7,
   "id": "e3df8258-8ebd-4e97-8aff-a6cdc90fc740",
   "metadata": {
    "tags": []
   },
   "outputs": [
    {
     "data": {
      "text/plain": [
       "array([ 0,  1,  2,  3,  4,  5,  6,  7,  8,  9, 10, 11, 12, 13, 14, 15, 16,\n",
       "       17, 18, 19, 20, 21, 22, 23])"
      ]
     },
     "execution_count": 7,
     "metadata": {},
     "output_type": "execute_result"
    }
   ],
   "source": [
    "lista"
   ]
  },
  {
   "cell_type": "code",
   "execution_count": 8,
   "id": "aee31e4b-38ad-4bff-b52c-8fbb47cfe523",
   "metadata": {
    "tags": []
   },
   "outputs": [],
   "source": [
    "workers_medidas={}"
   ]
  },
  {
   "cell_type": "code",
   "execution_count": 9,
   "id": "28667a33-3da6-45f8-9460-9f433aa1099f",
   "metadata": {
    "tags": []
   },
   "outputs": [],
   "source": [
    "for i in lista:\n",
    "    workers_medidas[i]=pd.DataFrame()\n",
    "    \n",
    "for i in np.arange(0,24):\n",
    "    workers_medidas[i] = pd.DataFrame(df_workers.iloc[:,i*10:(i+1)*10])"
   ]
  },
  {
   "cell_type": "markdown",
   "id": "88a77df5-389d-406b-aa28-a655e4df2472",
   "metadata": {},
   "source": [
    "### Separação - Medidas para Academy"
   ]
  },
  {
   "cell_type": "code",
   "execution_count": 10,
   "id": "f369c73d-c4b2-4b29-8a45-2704ca606c83",
   "metadata": {
    "tags": []
   },
   "outputs": [],
   "source": [
    "academy_medidas = {}"
   ]
  },
  {
   "cell_type": "code",
   "execution_count": 11,
   "id": "9a909f36-b247-4632-978c-a8ebc0b59109",
   "metadata": {
    "tags": []
   },
   "outputs": [],
   "source": [
    "for i in lista:\n",
    "    academy_medidas[i]=pd.DataFrame()\n",
    "    \n",
    "for i in np.arange(0,24):\n",
    "    academy_medidas[i] = pd.DataFrame(df_academy.iloc[:,i*10:(i+1)*10])"
   ]
  },
  {
   "cell_type": "markdown",
   "id": "c9f33aef-0ca0-4379-ac90-34c212108cae",
   "metadata": {},
   "source": [
    "### Separação - Critérios para Workers"
   ]
  },
  {
   "cell_type": "code",
   "execution_count": 12,
   "id": "55659504-3dea-4fa7-b862-66d9c90424e7",
   "metadata": {},
   "outputs": [],
   "source": [
    "lista2 = np.arange(1,11)"
   ]
  },
  {
   "cell_type": "code",
   "execution_count": 13,
   "id": "2d0ffdbe-b190-4fa2-89ee-5701e9ac77d0",
   "metadata": {
    "tags": []
   },
   "outputs": [],
   "source": [
    "workers_criterios={}\n",
    "for i in lista2:\n",
    "    workers_criterios[i] = pd.DataFrame()"
   ]
  },
  {
   "cell_type": "code",
   "execution_count": 14,
   "id": "8e88af71-00bc-4f9b-b6f7-741529267174",
   "metadata": {
    "tags": []
   },
   "outputs": [],
   "source": [
    "for i in lista2:\n",
    "    workers_criterios[i]=df_workers.iloc[:,i-1:240:10]"
   ]
  },
  {
   "cell_type": "code",
   "execution_count": 15,
   "id": "5e0783cc-3c3f-4651-a711-47e237644c8a",
   "metadata": {
    "tags": []
   },
   "outputs": [
    {
     "data": {
      "text/html": [
       "<div>\n",
       "<style scoped>\n",
       "    .dataframe tbody tr th:only-of-type {\n",
       "        vertical-align: middle;\n",
       "    }\n",
       "\n",
       "    .dataframe tbody tr th {\n",
       "        vertical-align: top;\n",
       "    }\n",
       "\n",
       "    .dataframe thead th {\n",
       "        text-align: right;\n",
       "    }\n",
       "</style>\n",
       "<table border=\"1\" class=\"dataframe\">\n",
       "  <thead>\n",
       "    <tr style=\"text-align: right;\">\n",
       "      <th></th>\n",
       "      <th>M1.10</th>\n",
       "      <th>M2.10</th>\n",
       "      <th>M3.10</th>\n",
       "      <th>M4.10</th>\n",
       "      <th>M5.10</th>\n",
       "      <th>M6.10</th>\n",
       "      <th>M7.10</th>\n",
       "      <th>M8.10</th>\n",
       "      <th>M9.10</th>\n",
       "      <th>M10.10</th>\n",
       "      <th>...</th>\n",
       "      <th>M15.10</th>\n",
       "      <th>M16.10</th>\n",
       "      <th>M17.10</th>\n",
       "      <th>M18.10</th>\n",
       "      <th>M19.10</th>\n",
       "      <th>M20.10</th>\n",
       "      <th>M21.10</th>\n",
       "      <th>M22.10</th>\n",
       "      <th>M23.10</th>\n",
       "      <th>M24.10</th>\n",
       "    </tr>\n",
       "  </thead>\n",
       "  <tbody>\n",
       "    <tr>\n",
       "      <th>2</th>\n",
       "      <td>4.0</td>\n",
       "      <td>4.0</td>\n",
       "      <td>3.0</td>\n",
       "      <td>4.0</td>\n",
       "      <td>3.0</td>\n",
       "      <td>5.0</td>\n",
       "      <td>4.0</td>\n",
       "      <td>4.0</td>\n",
       "      <td>5.0</td>\n",
       "      <td>4.0</td>\n",
       "      <td>...</td>\n",
       "      <td>4.0</td>\n",
       "      <td>5.0</td>\n",
       "      <td>5.0</td>\n",
       "      <td>5.0</td>\n",
       "      <td>4.0</td>\n",
       "      <td>5.0</td>\n",
       "      <td>4.0</td>\n",
       "      <td>5.0</td>\n",
       "      <td>5.0</td>\n",
       "      <td>4.0</td>\n",
       "    </tr>\n",
       "    <tr>\n",
       "      <th>4</th>\n",
       "      <td>3.0</td>\n",
       "      <td>4.0</td>\n",
       "      <td>4.0</td>\n",
       "      <td>5.0</td>\n",
       "      <td>4.0</td>\n",
       "      <td>4.0</td>\n",
       "      <td>4.0</td>\n",
       "      <td>4.0</td>\n",
       "      <td>4.0</td>\n",
       "      <td>5.0</td>\n",
       "      <td>...</td>\n",
       "      <td>4.0</td>\n",
       "      <td>5.0</td>\n",
       "      <td>4.0</td>\n",
       "      <td>4.0</td>\n",
       "      <td>4.0</td>\n",
       "      <td>4.0</td>\n",
       "      <td>5.0</td>\n",
       "      <td>5.0</td>\n",
       "      <td>4.0</td>\n",
       "      <td>5.0</td>\n",
       "    </tr>\n",
       "    <tr>\n",
       "      <th>5</th>\n",
       "      <td>3.0</td>\n",
       "      <td>5.0</td>\n",
       "      <td>5.0</td>\n",
       "      <td>3.0</td>\n",
       "      <td>5.0</td>\n",
       "      <td>5.0</td>\n",
       "      <td>3.0</td>\n",
       "      <td>5.0</td>\n",
       "      <td>4.0</td>\n",
       "      <td>4.0</td>\n",
       "      <td>...</td>\n",
       "      <td>3.0</td>\n",
       "      <td>4.0</td>\n",
       "      <td>3.0</td>\n",
       "      <td>3.0</td>\n",
       "      <td>2.0</td>\n",
       "      <td>4.0</td>\n",
       "      <td>4.0</td>\n",
       "      <td>4.0</td>\n",
       "      <td>2.0</td>\n",
       "      <td>4.0</td>\n",
       "    </tr>\n",
       "    <tr>\n",
       "      <th>6</th>\n",
       "      <td>3.0</td>\n",
       "      <td>3.0</td>\n",
       "      <td>4.0</td>\n",
       "      <td>4.0</td>\n",
       "      <td>3.0</td>\n",
       "      <td>4.0</td>\n",
       "      <td>4.0</td>\n",
       "      <td>4.0</td>\n",
       "      <td>3.0</td>\n",
       "      <td>3.0</td>\n",
       "      <td>...</td>\n",
       "      <td>2.0</td>\n",
       "      <td>2.0</td>\n",
       "      <td>4.0</td>\n",
       "      <td>3.0</td>\n",
       "      <td>3.0</td>\n",
       "      <td>1.0</td>\n",
       "      <td>2.0</td>\n",
       "      <td>2.0</td>\n",
       "      <td>4.0</td>\n",
       "      <td>3.0</td>\n",
       "    </tr>\n",
       "    <tr>\n",
       "      <th>7</th>\n",
       "      <td>3.0</td>\n",
       "      <td>4.0</td>\n",
       "      <td>3.0</td>\n",
       "      <td>4.0</td>\n",
       "      <td>4.0</td>\n",
       "      <td>3.0</td>\n",
       "      <td>3.0</td>\n",
       "      <td>3.0</td>\n",
       "      <td>3.0</td>\n",
       "      <td>3.0</td>\n",
       "      <td>...</td>\n",
       "      <td>3.0</td>\n",
       "      <td>3.0</td>\n",
       "      <td>3.0</td>\n",
       "      <td>3.0</td>\n",
       "      <td>3.0</td>\n",
       "      <td>3.0</td>\n",
       "      <td>3.0</td>\n",
       "      <td>3.0</td>\n",
       "      <td>3.0</td>\n",
       "      <td>3.0</td>\n",
       "    </tr>\n",
       "  </tbody>\n",
       "</table>\n",
       "<p>5 rows × 24 columns</p>\n",
       "</div>"
      ],
      "text/plain": [
       "   M1.10  M2.10  M3.10  M4.10  M5.10  M6.10  M7.10  M8.10  M9.10  M10.10  ...  \\\n",
       "2    4.0    4.0    3.0    4.0    3.0    5.0    4.0    4.0    5.0     4.0  ...   \n",
       "4    3.0    4.0    4.0    5.0    4.0    4.0    4.0    4.0    4.0     5.0  ...   \n",
       "5    3.0    5.0    5.0    3.0    5.0    5.0    3.0    5.0    4.0     4.0  ...   \n",
       "6    3.0    3.0    4.0    4.0    3.0    4.0    4.0    4.0    3.0     3.0  ...   \n",
       "7    3.0    4.0    3.0    4.0    4.0    3.0    3.0    3.0    3.0     3.0  ...   \n",
       "\n",
       "   M15.10  M16.10  M17.10  M18.10  M19.10  M20.10  M21.10  M22.10  M23.10  \\\n",
       "2     4.0     5.0     5.0     5.0     4.0     5.0     4.0     5.0     5.0   \n",
       "4     4.0     5.0     4.0     4.0     4.0     4.0     5.0     5.0     4.0   \n",
       "5     3.0     4.0     3.0     3.0     2.0     4.0     4.0     4.0     2.0   \n",
       "6     2.0     2.0     4.0     3.0     3.0     1.0     2.0     2.0     4.0   \n",
       "7     3.0     3.0     3.0     3.0     3.0     3.0     3.0     3.0     3.0   \n",
       "\n",
       "   M24.10  \n",
       "2     4.0  \n",
       "4     5.0  \n",
       "5     4.0  \n",
       "6     3.0  \n",
       "7     3.0  \n",
       "\n",
       "[5 rows x 24 columns]"
      ]
     },
     "execution_count": 15,
     "metadata": {},
     "output_type": "execute_result"
    }
   ],
   "source": [
    "workers_criterios[10].head()"
   ]
  },
  {
   "cell_type": "markdown",
   "id": "dc50b699-823f-4a10-8c80-36b400b354d8",
   "metadata": {},
   "source": [
    "### Separação - Critérios para Academy"
   ]
  },
  {
   "cell_type": "code",
   "execution_count": 16,
   "id": "21e17166-d711-4e80-a0d0-fb2d49206db8",
   "metadata": {},
   "outputs": [],
   "source": [
    "lista2 = np.arange(1,11)"
   ]
  },
  {
   "cell_type": "code",
   "execution_count": 17,
   "id": "1a3e8824-8976-4e05-b7cd-e04f987a34ad",
   "metadata": {
    "tags": []
   },
   "outputs": [],
   "source": [
    "academy_criterios={}\n",
    "for i in lista2:\n",
    "    academy_criterios[i] = pd.DataFrame()"
   ]
  },
  {
   "cell_type": "code",
   "execution_count": 18,
   "id": "b544a7aa-06bb-4744-98f7-d30d9c3182dc",
   "metadata": {
    "tags": []
   },
   "outputs": [],
   "source": [
    "for i in lista2:\n",
    "    academy_criterios[i]=df_academy.iloc[:,i-1:240:10]"
   ]
  },
  {
   "cell_type": "code",
   "execution_count": 19,
   "id": "c0087b19-0769-450f-b37b-7abcc9b940e5",
   "metadata": {
    "tags": []
   },
   "outputs": [
    {
     "data": {
      "text/html": [
       "<div>\n",
       "<style scoped>\n",
       "    .dataframe tbody tr th:only-of-type {\n",
       "        vertical-align: middle;\n",
       "    }\n",
       "\n",
       "    .dataframe tbody tr th {\n",
       "        vertical-align: top;\n",
       "    }\n",
       "\n",
       "    .dataframe thead th {\n",
       "        text-align: right;\n",
       "    }\n",
       "</style>\n",
       "<table border=\"1\" class=\"dataframe\">\n",
       "  <thead>\n",
       "    <tr style=\"text-align: right;\">\n",
       "      <th></th>\n",
       "      <th>M1.10</th>\n",
       "      <th>M2.10</th>\n",
       "      <th>M3.10</th>\n",
       "      <th>M4.10</th>\n",
       "      <th>M5.10</th>\n",
       "      <th>M6.10</th>\n",
       "      <th>M7.10</th>\n",
       "      <th>M8.10</th>\n",
       "      <th>M9.10</th>\n",
       "      <th>M10.10</th>\n",
       "      <th>...</th>\n",
       "      <th>M15.10</th>\n",
       "      <th>M16.10</th>\n",
       "      <th>M17.10</th>\n",
       "      <th>M18.10</th>\n",
       "      <th>M19.10</th>\n",
       "      <th>M20.10</th>\n",
       "      <th>M21.10</th>\n",
       "      <th>M22.10</th>\n",
       "      <th>M23.10</th>\n",
       "      <th>M24.10</th>\n",
       "    </tr>\n",
       "  </thead>\n",
       "  <tbody>\n",
       "    <tr>\n",
       "      <th>0</th>\n",
       "      <td>3.0</td>\n",
       "      <td>3.0</td>\n",
       "      <td>4.0</td>\n",
       "      <td>3.0</td>\n",
       "      <td>3.0</td>\n",
       "      <td>4.0</td>\n",
       "      <td>3.0</td>\n",
       "      <td>3.0</td>\n",
       "      <td>3.0</td>\n",
       "      <td>3.0</td>\n",
       "      <td>...</td>\n",
       "      <td>3.0</td>\n",
       "      <td>3.0</td>\n",
       "      <td>3.0</td>\n",
       "      <td>3.0</td>\n",
       "      <td>3.0</td>\n",
       "      <td>3.0</td>\n",
       "      <td>3.0</td>\n",
       "      <td>3.0</td>\n",
       "      <td>3.0</td>\n",
       "      <td>3.0</td>\n",
       "    </tr>\n",
       "    <tr>\n",
       "      <th>1</th>\n",
       "      <td>4.0</td>\n",
       "      <td>4.0</td>\n",
       "      <td>4.0</td>\n",
       "      <td>4.0</td>\n",
       "      <td>4.0</td>\n",
       "      <td>4.0</td>\n",
       "      <td>4.0</td>\n",
       "      <td>4.0</td>\n",
       "      <td>4.0</td>\n",
       "      <td>4.0</td>\n",
       "      <td>...</td>\n",
       "      <td>4.0</td>\n",
       "      <td>4.0</td>\n",
       "      <td>4.0</td>\n",
       "      <td>4.0</td>\n",
       "      <td>4.0</td>\n",
       "      <td>4.0</td>\n",
       "      <td>4.0</td>\n",
       "      <td>4.0</td>\n",
       "      <td>4.0</td>\n",
       "      <td>4.0</td>\n",
       "    </tr>\n",
       "    <tr>\n",
       "      <th>3</th>\n",
       "      <td>4.0</td>\n",
       "      <td>4.0</td>\n",
       "      <td>5.0</td>\n",
       "      <td>5.0</td>\n",
       "      <td>4.0</td>\n",
       "      <td>4.0</td>\n",
       "      <td>2.0</td>\n",
       "      <td>2.0</td>\n",
       "      <td>4.0</td>\n",
       "      <td>4.0</td>\n",
       "      <td>...</td>\n",
       "      <td>3.0</td>\n",
       "      <td>2.0</td>\n",
       "      <td>2.0</td>\n",
       "      <td>4.0</td>\n",
       "      <td>4.0</td>\n",
       "      <td>4.0</td>\n",
       "      <td>5.0</td>\n",
       "      <td>4.0</td>\n",
       "      <td>2.0</td>\n",
       "      <td>4.0</td>\n",
       "    </tr>\n",
       "    <tr>\n",
       "      <th>8</th>\n",
       "      <td>5.0</td>\n",
       "      <td>5.0</td>\n",
       "      <td>5.0</td>\n",
       "      <td>5.0</td>\n",
       "      <td>5.0</td>\n",
       "      <td>3.0</td>\n",
       "      <td>5.0</td>\n",
       "      <td>5.0</td>\n",
       "      <td>5.0</td>\n",
       "      <td>5.0</td>\n",
       "      <td>...</td>\n",
       "      <td>5.0</td>\n",
       "      <td>5.0</td>\n",
       "      <td>5.0</td>\n",
       "      <td>5.0</td>\n",
       "      <td>5.0</td>\n",
       "      <td>5.0</td>\n",
       "      <td>5.0</td>\n",
       "      <td>5.0</td>\n",
       "      <td>5.0</td>\n",
       "      <td>5.0</td>\n",
       "    </tr>\n",
       "    <tr>\n",
       "      <th>9</th>\n",
       "      <td>3.0</td>\n",
       "      <td>4.0</td>\n",
       "      <td>5.0</td>\n",
       "      <td>4.0</td>\n",
       "      <td>4.0</td>\n",
       "      <td>4.0</td>\n",
       "      <td>3.0</td>\n",
       "      <td>4.0</td>\n",
       "      <td>5.0</td>\n",
       "      <td>4.0</td>\n",
       "      <td>...</td>\n",
       "      <td>4.0</td>\n",
       "      <td>5.0</td>\n",
       "      <td>5.0</td>\n",
       "      <td>4.0</td>\n",
       "      <td>5.0</td>\n",
       "      <td>5.0</td>\n",
       "      <td>5.0</td>\n",
       "      <td>5.0</td>\n",
       "      <td>5.0</td>\n",
       "      <td>5.0</td>\n",
       "    </tr>\n",
       "  </tbody>\n",
       "</table>\n",
       "<p>5 rows × 24 columns</p>\n",
       "</div>"
      ],
      "text/plain": [
       "   M1.10  M2.10  M3.10  M4.10  M5.10  M6.10  M7.10  M8.10  M9.10  M10.10  ...  \\\n",
       "0    3.0    3.0    4.0    3.0    3.0    4.0    3.0    3.0    3.0     3.0  ...   \n",
       "1    4.0    4.0    4.0    4.0    4.0    4.0    4.0    4.0    4.0     4.0  ...   \n",
       "3    4.0    4.0    5.0    5.0    4.0    4.0    2.0    2.0    4.0     4.0  ...   \n",
       "8    5.0    5.0    5.0    5.0    5.0    3.0    5.0    5.0    5.0     5.0  ...   \n",
       "9    3.0    4.0    5.0    4.0    4.0    4.0    3.0    4.0    5.0     4.0  ...   \n",
       "\n",
       "   M15.10  M16.10  M17.10  M18.10  M19.10  M20.10  M21.10  M22.10  M23.10  \\\n",
       "0     3.0     3.0     3.0     3.0     3.0     3.0     3.0     3.0     3.0   \n",
       "1     4.0     4.0     4.0     4.0     4.0     4.0     4.0     4.0     4.0   \n",
       "3     3.0     2.0     2.0     4.0     4.0     4.0     5.0     4.0     2.0   \n",
       "8     5.0     5.0     5.0     5.0     5.0     5.0     5.0     5.0     5.0   \n",
       "9     4.0     5.0     5.0     4.0     5.0     5.0     5.0     5.0     5.0   \n",
       "\n",
       "   M24.10  \n",
       "0     3.0  \n",
       "1     4.0  \n",
       "3     4.0  \n",
       "8     5.0  \n",
       "9     5.0  \n",
       "\n",
       "[5 rows x 24 columns]"
      ]
     },
     "execution_count": 19,
     "metadata": {},
     "output_type": "execute_result"
    }
   ],
   "source": [
    "academy_criterios[10].head()"
   ]
  },
  {
   "cell_type": "markdown",
   "id": "d8537e98-92c3-40dd-b2b8-168c4fd058b5",
   "metadata": {},
   "source": [
    "### Radarcharts"
   ]
  },
  {
   "cell_type": "code",
   "execution_count": 20,
   "id": "259f6a88-8e84-4d3a-903b-a9c3e7f621e6",
   "metadata": {
    "tags": []
   },
   "outputs": [
    {
     "data": {
      "text/plain": [
       "M1.2     4.0\n",
       "M2.2     4.0\n",
       "M3.2     4.0\n",
       "M4.2     4.0\n",
       "M5.2     4.0\n",
       "M6.2     4.0\n",
       "M7.2     4.0\n",
       "M8.2     4.0\n",
       "M9.2     4.0\n",
       "M10.2    4.0\n",
       "M11.2    4.0\n",
       "M12.2    4.0\n",
       "M13.2    4.0\n",
       "M14.2    4.0\n",
       "M15.2    4.0\n",
       "M16.2    4.0\n",
       "M17.2    4.0\n",
       "M18.2    4.0\n",
       "M19.2    4.0\n",
       "M20.2    4.0\n",
       "M21.2    4.0\n",
       "M22.2    4.0\n",
       "M23.2    4.0\n",
       "M24.2    4.0\n",
       "dtype: float64"
      ]
     },
     "execution_count": 20,
     "metadata": {},
     "output_type": "execute_result"
    }
   ],
   "source": [
    "academy_criterios[2].median()"
   ]
  },
  {
   "cell_type": "code",
   "execution_count": null,
   "id": "bda7cbdb-5f75-4825-848f-5cc8bca9778b",
   "metadata": {},
   "outputs": [],
   "source": []
  }
 ],
 "metadata": {
  "kernelspec": {
   "display_name": "Python 3 (ipykernel)",
   "language": "python",
   "name": "python3"
  },
  "language_info": {
   "codemirror_mode": {
    "name": "ipython",
    "version": 3
   },
   "file_extension": ".py",
   "mimetype": "text/x-python",
   "name": "python",
   "nbconvert_exporter": "python",
   "pygments_lexer": "ipython3",
   "version": "3.11.0"
  }
 },
 "nbformat": 4,
 "nbformat_minor": 5
}
