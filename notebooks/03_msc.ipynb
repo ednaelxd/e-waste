{
 "cells": [
  {
   "cell_type": "code",
   "execution_count": 1,
   "metadata": {},
   "outputs": [],
   "source": [
    "import pandas as pd"
   ]
  },
  {
   "cell_type": "markdown",
   "metadata": {},
   "source": [
    "### 0. Importação"
   ]
  },
  {
   "cell_type": "code",
   "execution_count": 2,
   "metadata": {},
   "outputs": [],
   "source": [
    "df = pd.read_csv(r'C:\\Users\\ednae\\Documents\\Repositórios\\e-waste\\data\\processed\\dados_gerais_tratados.csv',index_col=[0],encoding='iso-8859-1')"
   ]
  },
  {
   "cell_type": "markdown",
   "metadata": {},
   "source": [
    "### 1. Ajustes\n",
    "\n",
    "- .1 - Variável do conhecimento sobre economia circular\n",
    "- .2 - Remoção de colunas indiferentes para a análise\n",
    "- .3 - Remoção dos timestamps\n",
    "- .4 - Ajuste das localidades"
   ]
  },
  {
   "cell_type": "code",
   "execution_count": 4,
   "metadata": {},
   "outputs": [],
   "source": [
    "df['Self knowledge about circular economy'].replace({'Very High':'4'},inplace=True)\n",
    "df.drop(['Do you agree to participate in this study?','explanation','Do you like to leave any comment?'],axis=1,inplace=True)"
   ]
  },
  {
   "cell_type": "code",
   "execution_count": 5,
   "metadata": {},
   "outputs": [],
   "source": [
    "df.reset_index(drop=True,inplace=True)"
   ]
  },
  {
   "cell_type": "code",
   "execution_count": 6,
   "metadata": {},
   "outputs": [
    {
     "data": {
      "text/html": [
       "<div>\n",
       "<style scoped>\n",
       "    .dataframe tbody tr th:only-of-type {\n",
       "        vertical-align: middle;\n",
       "    }\n",
       "\n",
       "    .dataframe tbody tr th {\n",
       "        vertical-align: top;\n",
       "    }\n",
       "\n",
       "    .dataframe thead th {\n",
       "        text-align: right;\n",
       "    }\n",
       "</style>\n",
       "<table border=\"1\" class=\"dataframe\">\n",
       "  <thead>\n",
       "    <tr style=\"text-align: right;\">\n",
       "      <th></th>\n",
       "      <th>M1.1</th>\n",
       "      <th>M1.2</th>\n",
       "      <th>M1.3</th>\n",
       "      <th>M1.4</th>\n",
       "      <th>M1.5</th>\n",
       "      <th>M1.6</th>\n",
       "      <th>M1.7</th>\n",
       "      <th>M1.8</th>\n",
       "      <th>M1.9</th>\n",
       "      <th>M1.10</th>\n",
       "      <th>...</th>\n",
       "      <th>M24.8</th>\n",
       "      <th>M24.9</th>\n",
       "      <th>M24.10</th>\n",
       "      <th>Local</th>\n",
       "      <th>Do you act directly with the circular economy?</th>\n",
       "      <th>Self knowledge about circular economy</th>\n",
       "      <th>What is your segment of acting?</th>\n",
       "      <th>What sector does your organization operate in?</th>\n",
       "      <th>company_size</th>\n",
       "      <th>How do you describe your position in your organization?</th>\n",
       "    </tr>\n",
       "  </thead>\n",
       "  <tbody>\n",
       "    <tr>\n",
       "      <th>0</th>\n",
       "      <td>4.0</td>\n",
       "      <td>4.0</td>\n",
       "      <td>3.0</td>\n",
       "      <td>4.0</td>\n",
       "      <td>4.0</td>\n",
       "      <td>4.0</td>\n",
       "      <td>4.0</td>\n",
       "      <td>4.0</td>\n",
       "      <td>4.0</td>\n",
       "      <td>3.0</td>\n",
       "      <td>...</td>\n",
       "      <td>4.0</td>\n",
       "      <td>4.0</td>\n",
       "      <td>3.0</td>\n",
       "      <td>UK</td>\n",
       "      <td>1</td>\n",
       "      <td>4</td>\n",
       "      <td>Academia/Research Institution</td>\n",
       "      <td>Quinary Sector (involves non-profit services s...</td>\n",
       "      <td>Grande</td>\n",
       "      <td>senior researcher</td>\n",
       "    </tr>\n",
       "    <tr>\n",
       "      <th>1</th>\n",
       "      <td>4.0</td>\n",
       "      <td>4.0</td>\n",
       "      <td>4.0</td>\n",
       "      <td>4.0</td>\n",
       "      <td>4.0</td>\n",
       "      <td>4.0</td>\n",
       "      <td>4.0</td>\n",
       "      <td>4.0</td>\n",
       "      <td>4.0</td>\n",
       "      <td>4.0</td>\n",
       "      <td>...</td>\n",
       "      <td>4.0</td>\n",
       "      <td>4.0</td>\n",
       "      <td>4.0</td>\n",
       "      <td>Brazil</td>\n",
       "      <td>1</td>\n",
       "      <td>4</td>\n",
       "      <td>Academia/Research</td>\n",
       "      <td>Quinary Sector</td>\n",
       "      <td>Grande</td>\n",
       "      <td>Staff (operational jobs)</td>\n",
       "    </tr>\n",
       "    <tr>\n",
       "      <th>2</th>\n",
       "      <td>3.0</td>\n",
       "      <td>5.0</td>\n",
       "      <td>5.0</td>\n",
       "      <td>4.0</td>\n",
       "      <td>4.0</td>\n",
       "      <td>2.0</td>\n",
       "      <td>2.0</td>\n",
       "      <td>3.0</td>\n",
       "      <td>3.0</td>\n",
       "      <td>4.0</td>\n",
       "      <td>...</td>\n",
       "      <td>5.0</td>\n",
       "      <td>4.0</td>\n",
       "      <td>4.0</td>\n",
       "      <td>Indianapolis, IN, USA</td>\n",
       "      <td>1</td>\n",
       "      <td>4</td>\n",
       "      <td>Consultancy</td>\n",
       "      <td>Quaternary Sector (involves intellectual activ...</td>\n",
       "      <td>Individual</td>\n",
       "      <td>Executive or Strategic Manager  (Senior execut...</td>\n",
       "    </tr>\n",
       "    <tr>\n",
       "      <th>3</th>\n",
       "      <td>4.0</td>\n",
       "      <td>2.0</td>\n",
       "      <td>4.0</td>\n",
       "      <td>4.0</td>\n",
       "      <td>4.0</td>\n",
       "      <td>4.0</td>\n",
       "      <td>4.0</td>\n",
       "      <td>5.0</td>\n",
       "      <td>5.0</td>\n",
       "      <td>4.0</td>\n",
       "      <td>...</td>\n",
       "      <td>4.0</td>\n",
       "      <td>4.0</td>\n",
       "      <td>4.0</td>\n",
       "      <td>India</td>\n",
       "      <td>0</td>\n",
       "      <td>4</td>\n",
       "      <td>Academia/Research Institution</td>\n",
       "      <td>Quaternary Sector (involves intellectual activ...</td>\n",
       "      <td>Pequena</td>\n",
       "      <td>Managers(Senior manager, manager)</td>\n",
       "    </tr>\n",
       "    <tr>\n",
       "      <th>4</th>\n",
       "      <td>3.0</td>\n",
       "      <td>4.0</td>\n",
       "      <td>4.0</td>\n",
       "      <td>4.0</td>\n",
       "      <td>4.0</td>\n",
       "      <td>4.0</td>\n",
       "      <td>4.0</td>\n",
       "      <td>5.0</td>\n",
       "      <td>5.0</td>\n",
       "      <td>3.0</td>\n",
       "      <td>...</td>\n",
       "      <td>4.0</td>\n",
       "      <td>5.0</td>\n",
       "      <td>5.0</td>\n",
       "      <td>Spain, Barcelona</td>\n",
       "      <td>1</td>\n",
       "      <td>4</td>\n",
       "      <td>Consultancy</td>\n",
       "      <td>Secondary Sector (involves the transformation ...</td>\n",
       "      <td>Micro</td>\n",
       "      <td>Executive or Strategic Manager  (Senior execut...</td>\n",
       "    </tr>\n",
       "    <tr>\n",
       "      <th>...</th>\n",
       "      <td>...</td>\n",
       "      <td>...</td>\n",
       "      <td>...</td>\n",
       "      <td>...</td>\n",
       "      <td>...</td>\n",
       "      <td>...</td>\n",
       "      <td>...</td>\n",
       "      <td>...</td>\n",
       "      <td>...</td>\n",
       "      <td>...</td>\n",
       "      <td>...</td>\n",
       "      <td>...</td>\n",
       "      <td>...</td>\n",
       "      <td>...</td>\n",
       "      <td>...</td>\n",
       "      <td>...</td>\n",
       "      <td>...</td>\n",
       "      <td>...</td>\n",
       "      <td>...</td>\n",
       "      <td>...</td>\n",
       "      <td>...</td>\n",
       "    </tr>\n",
       "    <tr>\n",
       "      <th>347</th>\n",
       "      <td>4.0</td>\n",
       "      <td>5.0</td>\n",
       "      <td>5.0</td>\n",
       "      <td>5.0</td>\n",
       "      <td>5.0</td>\n",
       "      <td>4.0</td>\n",
       "      <td>4.0</td>\n",
       "      <td>4.0</td>\n",
       "      <td>5.0</td>\n",
       "      <td>5.0</td>\n",
       "      <td>...</td>\n",
       "      <td>5.0</td>\n",
       "      <td>5.0</td>\n",
       "      <td>5.0</td>\n",
       "      <td>Brazil</td>\n",
       "      <td>1</td>\n",
       "      <td>4</td>\n",
       "      <td>Academia/Research</td>\n",
       "      <td>Quaternary Sector</td>\n",
       "      <td>Individual</td>\n",
       "      <td>Gerente executivo ou estratÃ©gico (Executivo S...</td>\n",
       "    </tr>\n",
       "    <tr>\n",
       "      <th>348</th>\n",
       "      <td>5.0</td>\n",
       "      <td>4.0</td>\n",
       "      <td>4.0</td>\n",
       "      <td>4.0</td>\n",
       "      <td>4.0</td>\n",
       "      <td>4.0</td>\n",
       "      <td>4.0</td>\n",
       "      <td>4.0</td>\n",
       "      <td>4.0</td>\n",
       "      <td>3.0</td>\n",
       "      <td>...</td>\n",
       "      <td>5.0</td>\n",
       "      <td>5.0</td>\n",
       "      <td>5.0</td>\n",
       "      <td>Brazil</td>\n",
       "      <td>1</td>\n",
       "      <td>4</td>\n",
       "      <td>Academia/Research</td>\n",
       "      <td>Quaternary Sector</td>\n",
       "      <td>Grande</td>\n",
       "      <td>Professor</td>\n",
       "    </tr>\n",
       "    <tr>\n",
       "      <th>349</th>\n",
       "      <td>4.0</td>\n",
       "      <td>4.0</td>\n",
       "      <td>4.0</td>\n",
       "      <td>4.0</td>\n",
       "      <td>4.0</td>\n",
       "      <td>4.0</td>\n",
       "      <td>4.0</td>\n",
       "      <td>4.0</td>\n",
       "      <td>4.0</td>\n",
       "      <td>4.0</td>\n",
       "      <td>...</td>\n",
       "      <td>4.0</td>\n",
       "      <td>4.0</td>\n",
       "      <td>4.0</td>\n",
       "      <td>Brazil</td>\n",
       "      <td>1</td>\n",
       "      <td>4</td>\n",
       "      <td>Academia/Research</td>\n",
       "      <td>Quinary Sector</td>\n",
       "      <td>Grande</td>\n",
       "      <td>Staff (operational jobs)</td>\n",
       "    </tr>\n",
       "    <tr>\n",
       "      <th>350</th>\n",
       "      <td>3.0</td>\n",
       "      <td>2.0</td>\n",
       "      <td>2.0</td>\n",
       "      <td>1.0</td>\n",
       "      <td>3.0</td>\n",
       "      <td>5.0</td>\n",
       "      <td>5.0</td>\n",
       "      <td>5.0</td>\n",
       "      <td>5.0</td>\n",
       "      <td>3.0</td>\n",
       "      <td>...</td>\n",
       "      <td>2.0</td>\n",
       "      <td>5.0</td>\n",
       "      <td>4.0</td>\n",
       "      <td>Brazil</td>\n",
       "      <td>1</td>\n",
       "      <td>4</td>\n",
       "      <td>Waste management</td>\n",
       "      <td>Primary Sector</td>\n",
       "      <td>Pequena</td>\n",
       "      <td>Middle Management (Senior director, director)</td>\n",
       "    </tr>\n",
       "    <tr>\n",
       "      <th>351</th>\n",
       "      <td>5.0</td>\n",
       "      <td>5.0</td>\n",
       "      <td>4.0</td>\n",
       "      <td>4.0</td>\n",
       "      <td>5.0</td>\n",
       "      <td>3.0</td>\n",
       "      <td>3.0</td>\n",
       "      <td>3.0</td>\n",
       "      <td>3.0</td>\n",
       "      <td>3.0</td>\n",
       "      <td>...</td>\n",
       "      <td>4.0</td>\n",
       "      <td>4.0</td>\n",
       "      <td>5.0</td>\n",
       "      <td>Brazil</td>\n",
       "      <td>1</td>\n",
       "      <td>4</td>\n",
       "      <td>Academia Research</td>\n",
       "      <td>Quaternary Sector</td>\n",
       "      <td>Grande</td>\n",
       "      <td>Estudante</td>\n",
       "    </tr>\n",
       "  </tbody>\n",
       "</table>\n",
       "<p>352 rows × 247 columns</p>\n",
       "</div>"
      ],
      "text/plain": [
       "     M1.1  M1.2  M1.3  M1.4  M1.5  M1.6  M1.7  M1.8  M1.9  M1.10  ...  M24.8  \\\n",
       "0     4.0   4.0   3.0   4.0   4.0   4.0   4.0   4.0   4.0    3.0  ...    4.0   \n",
       "1     4.0   4.0   4.0   4.0   4.0   4.0   4.0   4.0   4.0    4.0  ...    4.0   \n",
       "2     3.0   5.0   5.0   4.0   4.0   2.0   2.0   3.0   3.0    4.0  ...    5.0   \n",
       "3     4.0   2.0   4.0   4.0   4.0   4.0   4.0   5.0   5.0    4.0  ...    4.0   \n",
       "4     3.0   4.0   4.0   4.0   4.0   4.0   4.0   5.0   5.0    3.0  ...    4.0   \n",
       "..    ...   ...   ...   ...   ...   ...   ...   ...   ...    ...  ...    ...   \n",
       "347   4.0   5.0   5.0   5.0   5.0   4.0   4.0   4.0   5.0    5.0  ...    5.0   \n",
       "348   5.0   4.0   4.0   4.0   4.0   4.0   4.0   4.0   4.0    3.0  ...    5.0   \n",
       "349   4.0   4.0   4.0   4.0   4.0   4.0   4.0   4.0   4.0    4.0  ...    4.0   \n",
       "350   3.0   2.0   2.0   1.0   3.0   5.0   5.0   5.0   5.0    3.0  ...    2.0   \n",
       "351   5.0   5.0   4.0   4.0   5.0   3.0   3.0   3.0   3.0    3.0  ...    4.0   \n",
       "\n",
       "     M24.9  M24.10                  Local  \\\n",
       "0      4.0     3.0                     UK   \n",
       "1      4.0     4.0                 Brazil   \n",
       "2      4.0     4.0  Indianapolis, IN, USA   \n",
       "3      4.0     4.0                  India   \n",
       "4      5.0     5.0       Spain, Barcelona   \n",
       "..     ...     ...                    ...   \n",
       "347    5.0     5.0                 Brazil   \n",
       "348    5.0     5.0                 Brazil   \n",
       "349    4.0     4.0                 Brazil   \n",
       "350    5.0     4.0                 Brazil   \n",
       "351    4.0     5.0                 Brazil   \n",
       "\n",
       "     Do you act directly with the circular economy?  \\\n",
       "0                                                 1   \n",
       "1                                                 1   \n",
       "2                                                 1   \n",
       "3                                                 0   \n",
       "4                                                 1   \n",
       "..                                              ...   \n",
       "347                                               1   \n",
       "348                                               1   \n",
       "349                                               1   \n",
       "350                                               1   \n",
       "351                                               1   \n",
       "\n",
       "     Self knowledge about circular economy  What is your segment of acting?  \\\n",
       "0                                        4    Academia/Research Institution   \n",
       "1                                        4                Academia/Research   \n",
       "2                                        4                      Consultancy   \n",
       "3                                        4    Academia/Research Institution   \n",
       "4                                        4                      Consultancy   \n",
       "..                                     ...                              ...   \n",
       "347                                      4                Academia/Research   \n",
       "348                                      4                Academia/Research   \n",
       "349                                      4                Academia/Research   \n",
       "350                                      4                 Waste management   \n",
       "351                                      4                Academia Research   \n",
       "\n",
       "        What sector does your organization operate in?  company_size  \\\n",
       "0    Quinary Sector (involves non-profit services s...        Grande   \n",
       "1                                      Quinary Sector         Grande   \n",
       "2    Quaternary Sector (involves intellectual activ...    Individual   \n",
       "3    Quaternary Sector (involves intellectual activ...       Pequena   \n",
       "4    Secondary Sector (involves the transformation ...         Micro   \n",
       "..                                                 ...           ...   \n",
       "347                                  Quaternary Sector    Individual   \n",
       "348                                  Quaternary Sector        Grande   \n",
       "349                                     Quinary Sector        Grande   \n",
       "350                                    Primary Sector        Pequena   \n",
       "351                                  Quaternary Sector        Grande   \n",
       "\n",
       "     How do you describe your position in your organization?  \n",
       "0                                    senior researcher        \n",
       "1                             Staff (operational jobs)        \n",
       "2    Executive or Strategic Manager  (Senior execut...        \n",
       "3                    Managers(Senior manager, manager)        \n",
       "4    Executive or Strategic Manager  (Senior execut...        \n",
       "..                                                 ...        \n",
       "347  Gerente executivo ou estratÃ©gico (Executivo S...        \n",
       "348                                          Professor        \n",
       "349                           Staff (operational jobs)        \n",
       "350      Middle Management (Senior director, director)        \n",
       "351                                          Estudante        \n",
       "\n",
       "[352 rows x 247 columns]"
      ]
     },
     "execution_count": 6,
     "metadata": {},
     "output_type": "execute_result"
    }
   ],
   "source": [
    "df"
   ]
  },
  {
   "cell_type": "markdown",
   "metadata": {
    "toc-hr-collapsed": true
   },
   "source": [
    "#### `1.4 - Ajuste das localidades`"
   ]
  },
  {
   "cell_type": "code",
   "execution_count": 49,
   "metadata": {},
   "outputs": [
    {
     "data": {
      "text/plain": [
       "Denmark          112\n",
       "Pakistan         104\n",
       "Brazil            67\n",
       "Italy             23\n",
       "Netherlands        4\n",
       "Spain              4\n",
       "USA                3\n",
       "Bologna            3\n",
       "Canada             2\n",
       "Brasil             2\n",
       "Sweden             2\n",
       "Germany            1\n",
       "Belgium            1\n",
       "De                 1\n",
       "UK                 1\n",
       "North Jutland      1\n",
       "India              1\n",
       "Serbia             1\n",
       "South Africa       1\n",
       "South Asia         1\n",
       "Name: Local, dtype: int64"
      ]
     },
     "execution_count": 49,
     "metadata": {},
     "output_type": "execute_result"
    }
   ],
   "source": [
    "df['Local'].value_counts()[0:20]"
   ]
  },
  {
   "cell_type": "code",
   "execution_count": 46,
   "metadata": {},
   "outputs": [],
   "source": [
    "df['Local'] = [i if 'Denmstk' not in str(i) else 'Denmark' for i in df['Local']]"
   ]
  },
  {
   "cell_type": "code",
   "execution_count": 44,
   "metadata": {},
   "outputs": [],
   "source": [
    "df['Local'] = [i if 'Milano' not in str(i) else 'Italy' for i in df['Local']]"
   ]
  },
  {
   "cell_type": "code",
   "execution_count": 37,
   "metadata": {},
   "outputs": [],
   "source": [
    "df['Local'] = [i if 'italia' not in str(i) else 'Italy' for i in df['Local']]"
   ]
  },
  {
   "cell_type": "code",
   "execution_count": 33,
   "metadata": {},
   "outputs": [],
   "source": [
    "df['Local'] = [i if 'Danmark' not in str(i) else 'Denmark' for i in df['Local']]"
   ]
  },
  {
   "cell_type": "code",
   "execution_count": 31,
   "metadata": {},
   "outputs": [],
   "source": [
    "df['Local'] = [i if 'Netherlands' not in str(i) else 'Netherlands' for i in df['Local']]"
   ]
  },
  {
   "cell_type": "code",
   "execution_count": 29,
   "metadata": {},
   "outputs": [],
   "source": [
    "df['Local'] = [i if 'Italy' not in str(i) else 'Italy' for i in df['Local']]"
   ]
  },
  {
   "cell_type": "code",
   "execution_count": 28,
   "metadata": {},
   "outputs": [],
   "source": [
    "df['Local'] = [i if 'Italia' not in str(i) else 'Italy' for i in df['Local']]"
   ]
  },
  {
   "cell_type": "code",
   "execution_count": 26,
   "metadata": {},
   "outputs": [],
   "source": [
    "df['Local'] = [i if 'denmark' not in str(i) else 'Denmark' for i in df['Local']]"
   ]
  },
  {
   "cell_type": "code",
   "execution_count": 23,
   "metadata": {},
   "outputs": [],
   "source": [
    "df['Local'] = [i if 'Germany' not in str(i) else 'Germany' for i in df['Local']]"
   ]
  },
  {
   "cell_type": "code",
   "execution_count": 22,
   "metadata": {},
   "outputs": [],
   "source": [
    "df['Local'] = [i if 'Portugal' not in str(i) else 'Portugal' for i in df['Local']]"
   ]
  },
  {
   "cell_type": "code",
   "execution_count": 20,
   "metadata": {},
   "outputs": [],
   "source": [
    "df['Local'] = [i if 'Espanha' not in str(i) else 'Spain' for i in df['Local']]"
   ]
  },
  {
   "cell_type": "code",
   "execution_count": 16,
   "metadata": {},
   "outputs": [],
   "source": [
    "df['Local'] = [i if 'Sweden' not in str(i) else 'Sweden' for i in df['Local']]"
   ]
  },
  {
   "cell_type": "code",
   "execution_count": 14,
   "metadata": {},
   "outputs": [],
   "source": [
    "df['Local'] = [i if 'Brasil' not in str(i) else 'Brasil' for i in df['Local']]"
   ]
  },
  {
   "cell_type": "code",
   "execution_count": 8,
   "metadata": {},
   "outputs": [],
   "source": [
    "df['Local'] = [i if 'Denmark' not in str(i) else 'Denmark' for i in df['Local']]"
   ]
  },
  {
   "cell_type": "code",
   "execution_count": 9,
   "metadata": {},
   "outputs": [],
   "source": [
    "df['Local'] = [i if 'Belgium' not in str(i) else 'Belgium' for i in df['Local']]"
   ]
  },
  {
   "cell_type": "code",
   "execution_count": 10,
   "metadata": {},
   "outputs": [],
   "source": [
    "df['Local'] = [i if 'Spain' not in str(i) else 'Spain' for i in df['Local']]"
   ]
  },
  {
   "cell_type": "code",
   "execution_count": 11,
   "metadata": {},
   "outputs": [],
   "source": [
    "df['Local'] = [i if 'USA' not in str(i) else 'USA' for i in df['Local']]"
   ]
  },
  {
   "cell_type": "code",
   "execution_count": 48,
   "metadata": {},
   "outputs": [],
   "source": [
    "df['Local'].replace({'Copenhage':'Denmark','Copenhagen':'Denmark','Copenhagen ':'Denmark',\n",
    "'Denamrk':'Denmark','Taastrup':'Denmark','MODENA':'Italy','Arnhem':'Netherlands','Roma':'Italy'},inplace=True)"
   ]
  },
  {
   "cell_type": "code",
   "execution_count": 50,
   "metadata": {},
   "outputs": [],
   "source": [
    "df.to_csv('dados_gerais_FINAL.csv')"
   ]
  },
  {
   "cell_type": "markdown",
   "metadata": {},
   "source": [
    "### 2. Correção das profissões\n",
    "\n",
    "- `SETOR DE ATUAÇÃO`\n",
    "- `SECTOR`"
   ]
  },
  {
   "cell_type": "markdown",
   "metadata": {},
   "source": [
    "--- `SETOR DE ATUAÇÃO`"
   ]
  },
  {
   "cell_type": "code",
   "execution_count": 51,
   "metadata": {},
   "outputs": [
    {
     "data": {
      "text/plain": [
       "Executive or Strategic Manager  (Senior executive, executive)    47\n",
       "Staff (operational jobs)                                         44\n",
       "Managers(Senior manager, manager)                                40\n",
       "Advisor (Senior advisor, advisor)                                39\n",
       "Middle Management (Senior director, director)                    26\n",
       "                                                                 ..\n",
       "Staff (operational jobs), Researcher                              1\n",
       "Student at AAU                                                    1\n",
       "Staff (operational jobs), Research Analyst                        1\n",
       "PhD                                                               1\n",
       "estudante                                                         1\n",
       "Name: How do you describe your position in your organization?, Length: 75, dtype: int64"
      ]
     },
     "execution_count": 51,
     "metadata": {},
     "output_type": "execute_result"
    }
   ],
   "source": [
    "df['How do you describe your position in your organization?'].value_counts()"
   ]
  },
  {
   "cell_type": "code",
   "execution_count": 62,
   "metadata": {},
   "outputs": [],
   "source": [
    "df.iloc[:,-1] = df.iloc[:,-1].apply(lambda x: str(x))\n",
    "df.iloc[:,-1] = [i[:i.find('(')] if '(' in i else i[:] for i in df.iloc[:,-1]]"
   ]
  },
  {
   "cell_type": "code",
   "execution_count": 63,
   "metadata": {},
   "outputs": [
    {
     "data": {
      "text/plain": [
       "Executive or Strategic Manager      51\n",
       "Advisor                             46\n",
       "Staff                               46\n",
       "Name: How do you describe your position in your organization?, dtype: int64"
      ]
     },
     "execution_count": 63,
     "metadata": {},
     "output_type": "execute_result"
    }
   ],
   "source": [
    "df['How do you describe your position in your organization?'].value_counts()[0:3]"
   ]
  },
  {
   "cell_type": "markdown",
   "metadata": {},
   "source": [
    "--- `SECTOR`"
   ]
  },
  {
   "cell_type": "code",
   "execution_count": 66,
   "metadata": {},
   "outputs": [
    {
     "data": {
      "text/plain": [
       "<bound method IndexOpsMixin.value_counts of 0      Quinary Sector (involves non-profit services s...\n",
       "1                                        Quinary Sector \n",
       "2      Quaternary Sector (involves intellectual activ...\n",
       "3      Quaternary Sector (involves intellectual activ...\n",
       "4      Secondary Sector (involves the transformation ...\n",
       "                             ...                        \n",
       "347                                    Quaternary Sector\n",
       "348                                    Quaternary Sector\n",
       "349                                       Quinary Sector\n",
       "350                                      Primary Sector \n",
       "351                                    Quaternary Sector\n",
       "Name: What sector does your organization operate in?, Length: 352, dtype: object>"
      ]
     },
     "execution_count": 66,
     "metadata": {},
     "output_type": "execute_result"
    }
   ],
   "source": [
    "df['What sector does your organization operate in?'].value_counts"
   ]
  },
  {
   "cell_type": "code",
   "execution_count": 78,
   "metadata": {},
   "outputs": [],
   "source": [
    "df.iloc[:,-3] = df.iloc[:,-3].apply(lambda x: str(x))\n",
    "df.iloc[:,-3] = [i[:i.find('(')-1] if '(' in i else i[:] for i in df.iloc[:,-3]]"
   ]
  },
  {
   "cell_type": "code",
   "execution_count": 79,
   "metadata": {},
   "outputs": [
    {
     "data": {
      "text/plain": [
       "Index(['Quaternary Sector ', 'Quaternary Sector', 'Secondary Sector ',\n",
       "       'Quinary Sector', 'Quinary Sector ', 'Tertiary sector ',\n",
       "       'Primary Sector ', 'Primary Sector', 'Tertiary Sector',\n",
       "       'Settore terziario ', 'Secondary Sector', 'nan', 'Settore quaternario ',\n",
       "       'Tertiary sector', 'Settore secondario ', 'Settore quinario ',\n",
       "       'Setor QuaternÃ¡rio ', 'University', 'Setor SecundÃ¡rio ',\n",
       "       'cross-sectoral /Industrial ecology', 'university',\n",
       "       'i'm still under education', 'Unemployed', 'municipality',\n",
       "       'Primary sector', 'Research and education', 'Tertiary Sector ',\n",
       "       'Research sector', 'Setor QuinÃ¡rio '],\n",
       "      dtype='object')"
      ]
     },
     "execution_count": 79,
     "metadata": {},
     "output_type": "execute_result"
    }
   ],
   "source": [
    "df['What sector does your organization operate in?'].value_counts().index"
   ]
  },
  {
   "cell_type": "code",
   "execution_count": 83,
   "metadata": {},
   "outputs": [],
   "source": [
    "df['What sector does your organization operate in?'].replace({'Primary Sector ':'Primary Sector',\n",
    "    'Secondary Sector ':'Secondary Sector','Setor SecundÃ¡rio ':'Secondary Sector','Settore secondario ':'Secondary Sector',\n",
    "    'Tertiary Sector ':'Tertiary Sector','Settore terziario ':'Tertiary Sector',\n",
    "    'Quaternary Sector ':'Quaternary Sector','Setor QuaternÃ¡rio ':'Quaternary Sector','Settore quaternario ':'Quaternary Sector',\n",
    "    'Quinary Sector ':'Quinary Sector','Settore quinario ':'Quinary Sector','Setor QuinÃ¡rio ':'Quinary Sector',\n",
    "    'university':'University'\n",
    "    },inplace=True\n",
    ")"
   ]
  },
  {
   "cell_type": "code",
   "execution_count": 95,
   "metadata": {},
   "outputs": [
    {
     "data": {
      "text/plain": [
       "Quaternary Sector                     111\n",
       "Quinary Sector                         74\n",
       "Secondary Sector                       57\n",
       "Tertiary sector                        35\n",
       "Primary Sector                         29\n",
       "Tertiary Sector                        24\n",
       "nan                                     8\n",
       "Tertiary sector                         4\n",
       "University                              3\n",
       "Research sector                         1\n",
       "Research and education                  1\n",
       "Primary sector                          1\n",
       "municipality                            1\n",
       "Unemployed                              1\n",
       "i'm still under education               1\n",
       "cross-sectoral /Industrial ecology      1\n",
       "Name: What sector does your organization operate in?, dtype: int64"
      ]
     },
     "execution_count": 95,
     "metadata": {},
     "output_type": "execute_result"
    }
   ],
   "source": [
    "df['What sector does your organization operate in?'].value_counts()"
   ]
  },
  {
   "cell_type": "code",
   "execution_count": 96,
   "metadata": {},
   "outputs": [
    {
     "data": {
      "text/plain": [
       "Quaternary Sector                     111\n",
       "Quinary Sector                         74\n",
       "Secondary Sector                       57\n",
       "Tertiary Sector                        35\n",
       "Primary Sector                         30\n",
       "Tertiary Sector                        28\n",
       "Nan                                     8\n",
       "University                              3\n",
       "Research Sector                         1\n",
       "Research And Education                  1\n",
       "Municipality                            1\n",
       "Unemployed                              1\n",
       "I'M Still Under Education               1\n",
       "Cross-Sectoral /Industrial Ecology      1\n",
       "Name: What sector does your organization operate in?, dtype: int64"
      ]
     },
     "execution_count": 96,
     "metadata": {},
     "output_type": "execute_result"
    }
   ],
   "source": [
    "df['What sector does your organization operate in?'] = df['What sector does your organization operate in?'].apply(lambda x: x.title())\n",
    "df['What sector does your organization operate in?'].value_counts()"
   ]
  },
  {
   "cell_type": "code",
   "execution_count": 98,
   "metadata": {},
   "outputs": [],
   "source": [
    "df.to_csv('dados_gerais_FINAL.csv')"
   ]
  },
  {
   "cell_type": "code",
   "execution_count": null,
   "metadata": {},
   "outputs": [],
   "source": []
  }
 ],
 "metadata": {
  "kernelspec": {
   "display_name": "Python 3 (ipykernel)",
   "language": "python",
   "name": "python3"
  },
  "language_info": {
   "codemirror_mode": {
    "name": "ipython",
    "version": 3
   },
   "file_extension": ".py",
   "mimetype": "text/x-python",
   "name": "python",
   "nbconvert_exporter": "python",
   "pygments_lexer": "ipython3",
   "version": "3.11.0"
  },
  "vscode": {
   "interpreter": {
    "hash": "4409256e7e782509fa14ce850cffa13519ad012918c098b4739a1fafeb218c2c"
   }
  }
 },
 "nbformat": 4,
 "nbformat_minor": 4
}
